{
 "cells": [
  {
   "cell_type": "markdown",
   "id": "3e7ceeb7",
   "metadata": {},
   "source": [
    "# Embedding con GloVe"
   ]
  },
  {
   "cell_type": "markdown",
   "id": "8d1c003c",
   "metadata": {},
   "source": [
    "### Carga del embeding"
   ]
  },
  {
   "cell_type": "code",
   "execution_count": 1,
   "id": "c0898bfd",
   "metadata": {},
   "outputs": [
    {
     "name": "stderr",
     "output_type": "stream",
     "text": [
      "D:\\anaconda3\\lib\\site-packages\\scipy\\__init__.py:155: UserWarning: A NumPy version >=1.18.5 and <1.26.0 is required for this version of SciPy (detected version 1.26.1\n",
      "  warnings.warn(f\"A NumPy version >={np_minversion} and <{np_maxversion}\"\n"
     ]
    }
   ],
   "source": [
    "import numpy as np\n",
    "import pandas as pd\n",
    "import seaborn as sns"
   ]
  },
  {
   "cell_type": "code",
   "execution_count": 2,
   "id": "65508191",
   "metadata": {},
   "outputs": [],
   "source": [
    "glove_embeddings = {}\n",
    "\n",
    "with open('glove.840B.300d.txt', encoding='utf-8') as f:\n",
    "    for line in f:\n",
    "        try:\n",
    "            line = line.split()\n",
    "            glove_embeddings[line[0]] = np.array(line[1:], dtype=np.float32)\n",
    "        except:\n",
    "            continue"
   ]
  },
  {
   "cell_type": "code",
   "execution_count": 14,
   "id": "c18eba1f",
   "metadata": {
    "scrolled": true
   },
   "outputs": [
    {
     "data": {
      "text/plain": [
       "(300,)"
      ]
     },
     "execution_count": 14,
     "metadata": {},
     "output_type": "execute_result"
    }
   ],
   "source": [
    "glove_embeddings['monitor'].shape"
   ]
  },
  {
   "cell_type": "code",
   "execution_count": 69,
   "id": "addc9366",
   "metadata": {
    "scrolled": false
   },
   "outputs": [
    {
     "data": {
      "text/html": [
       "<div>\n",
       "<style scoped>\n",
       "    .dataframe tbody tr th:only-of-type {\n",
       "        vertical-align: middle;\n",
       "    }\n",
       "\n",
       "    .dataframe tbody tr th {\n",
       "        vertical-align: top;\n",
       "    }\n",
       "\n",
       "    .dataframe thead th {\n",
       "        text-align: right;\n",
       "    }\n",
       "</style>\n",
       "<table border=\"1\" class=\"dataframe\">\n",
       "  <thead>\n",
       "    <tr style=\"text-align: right;\">\n",
       "      <th></th>\n",
       "      <th>id_documento</th>\n",
       "      <th>Grupo</th>\n",
       "      <th>Documento</th>\n",
       "      <th>Target</th>\n",
       "    </tr>\n",
       "  </thead>\n",
       "  <tbody>\n",
       "    <tr>\n",
       "      <th>0</th>\n",
       "      <td>54367</td>\n",
       "      <td>rec.sport.hockey</td>\n",
       "      <td>basher pen fan pretty confused lack kind post ...</td>\n",
       "      <td>10</td>\n",
       "    </tr>\n",
       "    <tr>\n",
       "      <th>1</th>\n",
       "      <td>60215</td>\n",
       "      <td>comp.sys.ibm.pc.hardware</td>\n",
       "      <td>brother market high performance video card sup...</td>\n",
       "      <td>3</td>\n",
       "    </tr>\n",
       "    <tr>\n",
       "      <th>2</th>\n",
       "      <td>76120</td>\n",
       "      <td>talk.politics.mideast</td>\n",
       "      <td>finally dream mediterranean area great year ho...</td>\n",
       "      <td>17</td>\n",
       "    </tr>\n",
       "    <tr>\n",
       "      <th>3</th>\n",
       "      <td>60771</td>\n",
       "      <td>comp.sys.ibm.pc.hardware</td>\n",
       "      <td>scsi card dma transfer disk scsi card dma tran...</td>\n",
       "      <td>3</td>\n",
       "    </tr>\n",
       "    <tr>\n",
       "      <th>4</th>\n",
       "      <td>51882</td>\n",
       "      <td>comp.sys.mac.hardware</td>\n",
       "      <td>jasmine drive understanding upsate driver mode...</td>\n",
       "      <td>4</td>\n",
       "    </tr>\n",
       "  </tbody>\n",
       "</table>\n",
       "</div>"
      ],
      "text/plain": [
       "   id_documento                     Grupo  \\\n",
       "0         54367          rec.sport.hockey   \n",
       "1         60215  comp.sys.ibm.pc.hardware   \n",
       "2         76120     talk.politics.mideast   \n",
       "3         60771  comp.sys.ibm.pc.hardware   \n",
       "4         51882     comp.sys.mac.hardware   \n",
       "\n",
       "                                           Documento  Target  \n",
       "0  basher pen fan pretty confused lack kind post ...      10  \n",
       "1  brother market high performance video card sup...       3  \n",
       "2  finally dream mediterranean area great year ho...      17  \n",
       "3  scsi card dma transfer disk scsi card dma tran...       3  \n",
       "4  jasmine drive understanding upsate driver mode...       4  "
      ]
     },
     "execution_count": 69,
     "metadata": {},
     "output_type": "execute_result"
    }
   ],
   "source": [
    "ng_20 = pd.read_csv('20newsgroups_all.csv')\n",
    "\n",
    "ng_20.head()"
   ]
  },
  {
   "cell_type": "code",
   "execution_count": 4,
   "id": "88ac949f",
   "metadata": {},
   "outputs": [],
   "source": [
    "ng = ng_20.copy()"
   ]
  },
  {
   "cell_type": "code",
   "execution_count": 5,
   "id": "ca37ee53",
   "metadata": {},
   "outputs": [],
   "source": [
    "def texto_a_embedding(doc):\n",
    "    \n",
    "    doc = doc.split()\n",
    "    \n",
    "    word_embd = []\n",
    "    for word in doc:\n",
    "        if word in glove_embeddings:\n",
    "            word_embd.append(glove_embeddings[word]) \n",
    "    \n",
    "    if len(word_embd) == 0:\n",
    "        return np.nan\n",
    "    \n",
    "    return np.asarray([sum(x) for x in zip(*word_embd)])/len(word_embd)"
   ]
  },
  {
   "cell_type": "markdown",
   "id": "571f3119",
   "metadata": {},
   "source": [
    "## Ateísmo vs autos"
   ]
  },
  {
   "cell_type": "code",
   "execution_count": 6,
   "id": "9f0e37a6",
   "metadata": {},
   "outputs": [],
   "source": [
    "ng_ateauto = ng[ng['Grupo'].isin(['alt.atheism', 'rec.autos'])]"
   ]
  },
  {
   "cell_type": "code",
   "execution_count": 7,
   "id": "b511ccc1",
   "metadata": {
    "scrolled": true
   },
   "outputs": [
    {
     "name": "stdout",
     "output_type": "stream",
     "text": [
      "<class 'pandas.core.frame.DataFrame'>\n",
      "Int64Index: 1706 entries, 14 to 18265\n",
      "Data columns (total 4 columns):\n",
      " #   Column        Non-Null Count  Dtype \n",
      "---  ------        --------------  ----- \n",
      " 0   id_documento  1706 non-null   int64 \n",
      " 1   Grupo         1706 non-null   object\n",
      " 2   Documento     1706 non-null   object\n",
      " 3   Target        1706 non-null   int64 \n",
      "dtypes: int64(2), object(2)\n",
      "memory usage: 66.6+ KB\n"
     ]
    }
   ],
   "source": [
    "ng_ateauto.info()"
   ]
  },
  {
   "cell_type": "code",
   "execution_count": 8,
   "id": "4c0289d8",
   "metadata": {
    "scrolled": false
   },
   "outputs": [
    {
     "data": {
      "text/plain": [
       "<AxesSubplot:xlabel='Grupo', ylabel='Count'>"
      ]
     },
     "execution_count": 8,
     "metadata": {},
     "output_type": "execute_result"
    },
    {
     "data": {
      "image/png": "[encoded data removed]",
      "text/plain": [
       "<Figure size 640x480 with 1 Axes>"
      ]
     },
     "metadata": {},
     "output_type": "display_data"
    }
   ],
   "source": [
    "sns.histplot(data=ng_ateauto, x=\"Grupo\", hue=\"Grupo\", shrink=.8, alpha=.8, legend=False)"
   ]
  },
  {
   "cell_type": "code",
   "execution_count": 9,
   "id": "42af4545",
   "metadata": {
    "scrolled": false
   },
   "outputs": [
    {
     "name": "stderr",
     "output_type": "stream",
     "text": [
      "C:\\Users\\David\\AppData\\Local\\Temp\\ipykernel_10832\\1981625575.py:3: SettingWithCopyWarning: \n",
      "A value is trying to be set on a copy of a slice from a DataFrame.\n",
      "Try using .loc[row_indexer,col_indexer] = value instead\n",
      "\n",
      "See the caveats in the documentation: https://pandas.pydata.org/pandas-docs/stable/user_guide/indexing.html#returning-a-view-versus-a-copy\n",
      "  ng_ateauto['Embedding'] = embeddings\n"
     ]
    }
   ],
   "source": [
    "embeddings = [texto_a_embedding(doc) for doc in ng_ateauto['Documento']]\n",
    "\n",
    "ng_ateauto['Embedding'] = embeddings"
   ]
  },
  {
   "cell_type": "code",
   "execution_count": 10,
   "id": "b7734589",
   "metadata": {
    "scrolled": false
   },
   "outputs": [
    {
     "data": {
      "text/html": [
       "<div>\n",
       "<style scoped>\n",
       "    .dataframe tbody tr th:only-of-type {\n",
       "        vertical-align: middle;\n",
       "    }\n",
       "\n",
       "    .dataframe tbody tr th {\n",
       "        vertical-align: top;\n",
       "    }\n",
       "\n",
       "    .dataframe thead th {\n",
       "        text-align: right;\n",
       "    }\n",
       "</style>\n",
       "<table border=\"1\" class=\"dataframe\">\n",
       "  <thead>\n",
       "    <tr style=\"text-align: right;\">\n",
       "      <th></th>\n",
       "      <th>id_documento</th>\n",
       "      <th>Grupo</th>\n",
       "      <th>Documento</th>\n",
       "      <th>Target</th>\n",
       "      <th>Embedding</th>\n",
       "    </tr>\n",
       "  </thead>\n",
       "  <tbody>\n",
       "    <tr>\n",
       "      <th>3754</th>\n",
       "      <td>53401</td>\n",
       "      <td>alt.atheism</td>\n",
       "      <td>test--</td>\n",
       "      <td>0</td>\n",
       "      <td>NaN</td>\n",
       "    </tr>\n",
       "  </tbody>\n",
       "</table>\n",
       "</div>"
      ],
      "text/plain": [
       "      id_documento        Grupo Documento  Target Embedding\n",
       "3754         53401  alt.atheism    test--       0       NaN"
      ]
     },
     "execution_count": 10,
     "metadata": {},
     "output_type": "execute_result"
    }
   ],
   "source": [
    "ng_ateauto[ng_ateauto['Embedding'].isnull()]"
   ]
  },
  {
   "cell_type": "code",
   "execution_count": 11,
   "id": "fa3e8c6c",
   "metadata": {},
   "outputs": [],
   "source": [
    "ng_ateauto = ng_ateauto.drop(ng_ateauto[ng_ateauto['Embedding'].isnull()].index)"
   ]
  },
  {
   "cell_type": "code",
   "execution_count": 12,
   "id": "05f4778f",
   "metadata": {},
   "outputs": [],
   "source": [
    "ng_ateauto.to_pickle('20newsgroups_ateauto_embd_all.pkl')"
   ]
  },
  {
   "cell_type": "markdown",
   "id": "0643d55a",
   "metadata": {},
   "source": [
    "## Un tema de cada bloque"
   ]
  },
  {
   "cell_type": "code",
   "execution_count": 9,
   "id": "30e15275",
   "metadata": {
    "scrolled": true
   },
   "outputs": [
    {
     "data": {
      "text/plain": [
       "{'alt.atheism',\n",
       " 'comp.graphics',\n",
       " 'comp.os.ms-windows.misc',\n",
       " 'comp.sys.ibm.pc.hardware',\n",
       " 'comp.sys.mac.hardware',\n",
       " 'comp.windows.x',\n",
       " 'misc.forsale',\n",
       " 'rec.autos',\n",
       " 'rec.motorcycles',\n",
       " 'rec.sport.baseball',\n",
       " 'rec.sport.hockey',\n",
       " 'sci.crypt',\n",
       " 'sci.electronics',\n",
       " 'sci.med',\n",
       " 'sci.space',\n",
       " 'soc.religion.christian',\n",
       " 'talk.politics.guns',\n",
       " 'talk.politics.mideast',\n",
       " 'talk.politics.misc',\n",
       " 'talk.religion.misc'}"
      ]
     },
     "execution_count": 9,
     "metadata": {},
     "output_type": "execute_result"
    }
   ],
   "source": [
    "set(ng['Grupo'])"
   ]
  },
  {
   "cell_type": "code",
   "execution_count": 13,
   "id": "6cceaeec",
   "metadata": {
    "scrolled": false
   },
   "outputs": [
    {
     "name": "stdout",
     "output_type": "stream",
     "text": [
      "<class 'pandas.core.frame.DataFrame'>\n",
      "Int64Index: 3718 entries, 13 to 18265\n",
      "Data columns (total 4 columns):\n",
      " #   Column        Non-Null Count  Dtype \n",
      "---  ------        --------------  ----- \n",
      " 0   id_documento  3718 non-null   int64 \n",
      " 1   Grupo         3718 non-null   object\n",
      " 2   Documento     3718 non-null   object\n",
      " 3   Target        3718 non-null   int64 \n",
      "dtypes: int64(2), object(2)\n",
      "memory usage: 145.2+ KB\n"
     ]
    }
   ],
   "source": [
    "ng_a4 = ng[ng['Grupo'].isin(['comp.graphics', 'rec.autos', 'sci.med', 'talk.politics.guns'])]\n",
    "ng_a4.info()"
   ]
  },
  {
   "cell_type": "code",
   "execution_count": 14,
   "id": "aa26d23d",
   "metadata": {},
   "outputs": [
    {
     "data": {
      "text/plain": [
       "<AxesSubplot:xlabel='Grupo', ylabel='Count'>"
      ]
     },
     "execution_count": 14,
     "metadata": {},
     "output_type": "execute_result"
    },
    {
     "data": {
      "image/png": "[encoded data removed]",
      "text/plain": [
       "<Figure size 640x480 with 1 Axes>"
      ]
     },
     "metadata": {},
     "output_type": "display_data"
    }
   ],
   "source": [
    "sns.histplot(data=ng_a4, x=\"Grupo\", hue=\"Grupo\", shrink=.8, alpha=.8, legend=False)"
   ]
  },
  {
   "cell_type": "code",
   "execution_count": 15,
   "id": "0bcf5c54",
   "metadata": {},
   "outputs": [
    {
     "name": "stderr",
     "output_type": "stream",
     "text": [
      "C:\\Users\\David\\AppData\\Local\\Temp\\ipykernel_10832\\1664508697.py:3: SettingWithCopyWarning: \n",
      "A value is trying to be set on a copy of a slice from a DataFrame.\n",
      "Try using .loc[row_indexer,col_indexer] = value instead\n",
      "\n",
      "See the caveats in the documentation: https://pandas.pydata.org/pandas-docs/stable/user_guide/indexing.html#returning-a-view-versus-a-copy\n",
      "  ng_a4['Embedding'] = embeddings\n"
     ]
    }
   ],
   "source": [
    "embeddings = [texto_a_embedding(doc) for doc in ng_a4['Documento']]\n",
    "\n",
    "ng_a4['Embedding'] = embeddings"
   ]
  },
  {
   "cell_type": "code",
   "execution_count": 16,
   "id": "f7548525",
   "metadata": {
    "scrolled": true
   },
   "outputs": [
    {
     "data": {
      "text/html": [
       "<div>\n",
       "<style scoped>\n",
       "    .dataframe tbody tr th:only-of-type {\n",
       "        vertical-align: middle;\n",
       "    }\n",
       "\n",
       "    .dataframe tbody tr th {\n",
       "        vertical-align: top;\n",
       "    }\n",
       "\n",
       "    .dataframe thead th {\n",
       "        text-align: right;\n",
       "    }\n",
       "</style>\n",
       "<table border=\"1\" class=\"dataframe\">\n",
       "  <thead>\n",
       "    <tr style=\"text-align: right;\">\n",
       "      <th></th>\n",
       "      <th>id_documento</th>\n",
       "      <th>Grupo</th>\n",
       "      <th>Documento</th>\n",
       "      <th>Target</th>\n",
       "      <th>Embedding</th>\n",
       "    </tr>\n",
       "  </thead>\n",
       "  <tbody>\n",
       "    <tr>\n",
       "      <th>13047</th>\n",
       "      <td>39623</td>\n",
       "      <td>comp.graphics</td>\n",
       "      <td>cd'ing publicationsmayonline siggraphorg</td>\n",
       "      <td>1</td>\n",
       "      <td>NaN</td>\n",
       "    </tr>\n",
       "    <tr>\n",
       "      <th>13174</th>\n",
       "      <td>38775</td>\n",
       "      <td>comp.graphics</td>\n",
       "      <td>spectrumxeroxcom pubmapdem</td>\n",
       "      <td>1</td>\n",
       "      <td>NaN</td>\n",
       "    </tr>\n",
       "    <tr>\n",
       "      <th>14936</th>\n",
       "      <td>38768</td>\n",
       "      <td>comp.graphics</td>\n",
       "      <td>qrttoppm filedi ppmtotga filetga</td>\n",
       "      <td>1</td>\n",
       "      <td>NaN</td>\n",
       "    </tr>\n",
       "  </tbody>\n",
       "</table>\n",
       "</div>"
      ],
      "text/plain": [
       "       id_documento          Grupo                                 Documento  \\\n",
       "13047         39623  comp.graphics  cd'ing publicationsmayonline siggraphorg   \n",
       "13174         38775  comp.graphics                spectrumxeroxcom pubmapdem   \n",
       "14936         38768  comp.graphics          qrttoppm filedi ppmtotga filetga   \n",
       "\n",
       "       Target Embedding  \n",
       "13047       1       NaN  \n",
       "13174       1       NaN  \n",
       "14936       1       NaN  "
      ]
     },
     "execution_count": 16,
     "metadata": {},
     "output_type": "execute_result"
    }
   ],
   "source": [
    "ng_a4[ng_a4['Embedding'].isnull()]"
   ]
  },
  {
   "cell_type": "code",
   "execution_count": 17,
   "id": "97eaabed",
   "metadata": {},
   "outputs": [],
   "source": [
    "ng_a4 = ng_a4.drop(ng_a4[ng_a4['Embedding'].isnull()].index)"
   ]
  },
  {
   "cell_type": "code",
   "execution_count": 18,
   "id": "7254bf14",
   "metadata": {},
   "outputs": [],
   "source": [
    "ng_a4.to_pickle('20newsgroups_a4_embd_all.pkl')"
   ]
  },
  {
   "cell_type": "markdown",
   "id": "4057a0b6",
   "metadata": {},
   "source": [
    "## B1 NG1/2/3/4/5"
   ]
  },
  {
   "cell_type": "code",
   "execution_count": 20,
   "id": "c3f9267f",
   "metadata": {
    "scrolled": false
   },
   "outputs": [
    {
     "name": "stdout",
     "output_type": "stream",
     "text": [
      "<class 'pandas.core.frame.DataFrame'>\n",
      "Int64Index: 4758 entries, 1 to 18264\n",
      "Data columns (total 4 columns):\n",
      " #   Column        Non-Null Count  Dtype \n",
      "---  ------        --------------  ----- \n",
      " 0   id_documento  4758 non-null   int64 \n",
      " 1   Grupo         4758 non-null   object\n",
      " 2   Documento     4758 non-null   object\n",
      " 3   Target        4758 non-null   int64 \n",
      "dtypes: int64(2), object(2)\n",
      "memory usage: 185.9+ KB\n"
     ]
    }
   ],
   "source": [
    "ng_b1 = ng[ng['Target'].isin([1, 2, 3, 4, 5])]\n",
    "\n",
    "ng_b1.info()"
   ]
  },
  {
   "cell_type": "code",
   "execution_count": 21,
   "id": "f238b081",
   "metadata": {
    "scrolled": true
   },
   "outputs": [
    {
     "data": {
      "text/plain": [
       "{'comp.graphics',\n",
       " 'comp.os.ms-windows.misc',\n",
       " 'comp.sys.ibm.pc.hardware',\n",
       " 'comp.sys.mac.hardware',\n",
       " 'comp.windows.x'}"
      ]
     },
     "execution_count": 21,
     "metadata": {},
     "output_type": "execute_result"
    }
   ],
   "source": [
    "set(ng_b1['Grupo'])"
   ]
  },
  {
   "cell_type": "code",
   "execution_count": 22,
   "id": "25645be8",
   "metadata": {},
   "outputs": [
    {
     "data": {
      "text/html": [
       "<div>\n",
       "<style scoped>\n",
       "    .dataframe tbody tr th:only-of-type {\n",
       "        vertical-align: middle;\n",
       "    }\n",
       "\n",
       "    .dataframe tbody tr th {\n",
       "        vertical-align: top;\n",
       "    }\n",
       "\n",
       "    .dataframe thead th {\n",
       "        text-align: right;\n",
       "    }\n",
       "</style>\n",
       "<table border=\"1\" class=\"dataframe\">\n",
       "  <thead>\n",
       "    <tr style=\"text-align: right;\">\n",
       "      <th></th>\n",
       "      <th>id_documento</th>\n",
       "      <th>Grupo</th>\n",
       "      <th>Documento</th>\n",
       "      <th>Target</th>\n",
       "    </tr>\n",
       "  </thead>\n",
       "  <tbody>\n",
       "    <tr>\n",
       "      <th>1</th>\n",
       "      <td>60215</td>\n",
       "      <td>comp.sys.ibm.pc.hardware</td>\n",
       "      <td>brother market high performance video card sup...</td>\n",
       "      <td>3</td>\n",
       "    </tr>\n",
       "    <tr>\n",
       "      <th>3</th>\n",
       "      <td>60771</td>\n",
       "      <td>comp.sys.ibm.pc.hardware</td>\n",
       "      <td>scsi card dma transfer disk scsi card dma tran...</td>\n",
       "      <td>3</td>\n",
       "    </tr>\n",
       "    <tr>\n",
       "      <th>4</th>\n",
       "      <td>51882</td>\n",
       "      <td>comp.sys.mac.hardware</td>\n",
       "      <td>jasmine drive understanding upsate driver mode...</td>\n",
       "      <td>4</td>\n",
       "    </tr>\n",
       "    <tr>\n",
       "      <th>6</th>\n",
       "      <td>52099</td>\n",
       "      <td>comp.sys.mac.hardware</td>\n",
       "      <td>dallastry tech support start</td>\n",
       "      <td>4</td>\n",
       "    </tr>\n",
       "    <tr>\n",
       "      <th>21</th>\n",
       "      <td>68177</td>\n",
       "      <td>comp.windows.x</td>\n",
       "      <td>feature icccm specifie app set title oblige bo...</td>\n",
       "      <td>5</td>\n",
       "    </tr>\n",
       "  </tbody>\n",
       "</table>\n",
       "</div>"
      ],
      "text/plain": [
       "    id_documento                     Grupo  \\\n",
       "1          60215  comp.sys.ibm.pc.hardware   \n",
       "3          60771  comp.sys.ibm.pc.hardware   \n",
       "4          51882     comp.sys.mac.hardware   \n",
       "6          52099     comp.sys.mac.hardware   \n",
       "21         68177            comp.windows.x   \n",
       "\n",
       "                                            Documento  Target  \n",
       "1   brother market high performance video card sup...       3  \n",
       "3   scsi card dma transfer disk scsi card dma tran...       3  \n",
       "4   jasmine drive understanding upsate driver mode...       4  \n",
       "6                        dallastry tech support start       4  \n",
       "21  feature icccm specifie app set title oblige bo...       5  "
      ]
     },
     "execution_count": 22,
     "metadata": {},
     "output_type": "execute_result"
    }
   ],
   "source": [
    "ng_b1.head()"
   ]
  },
  {
   "cell_type": "code",
   "execution_count": 23,
   "id": "b14e7b47",
   "metadata": {
    "scrolled": true
   },
   "outputs": [
    {
     "data": {
      "text/plain": [
       "<AxesSubplot:xlabel='Grupo', ylabel='Count'>"
      ]
     },
     "execution_count": 23,
     "metadata": {},
     "output_type": "execute_result"
    },
    {
     "data": {
      "image/png": "[encoded data removed]",
      "text/plain": [
       "<Figure size 640x480 with 1 Axes>"
      ]
     },
     "metadata": {},
     "output_type": "display_data"
    }
   ],
   "source": [
    "sns.histplot(data=ng_b1, x=\"Grupo\", hue=\"Grupo\", shrink=.8, alpha=.8, legend=False)"
   ]
  },
  {
   "cell_type": "code",
   "execution_count": 24,
   "id": "c80cd4f8",
   "metadata": {},
   "outputs": [
    {
     "name": "stderr",
     "output_type": "stream",
     "text": [
      "C:\\Users\\David\\AppData\\Local\\Temp\\ipykernel_10832\\2604205124.py:3: SettingWithCopyWarning: \n",
      "A value is trying to be set on a copy of a slice from a DataFrame.\n",
      "Try using .loc[row_indexer,col_indexer] = value instead\n",
      "\n",
      "See the caveats in the documentation: https://pandas.pydata.org/pandas-docs/stable/user_guide/indexing.html#returning-a-view-versus-a-copy\n",
      "  ng_b1['Embedding'] = embeddings\n"
     ]
    }
   ],
   "source": [
    "embeddings = [texto_a_embedding(doc) for doc in ng_b1['Documento']]\n",
    "\n",
    "ng_b1['Embedding'] = embeddings"
   ]
  },
  {
   "cell_type": "code",
   "execution_count": 25,
   "id": "ac922679",
   "metadata": {},
   "outputs": [
    {
     "data": {
      "text/html": [
       "<div>\n",
       "<style scoped>\n",
       "    .dataframe tbody tr th:only-of-type {\n",
       "        vertical-align: middle;\n",
       "    }\n",
       "\n",
       "    .dataframe tbody tr th {\n",
       "        vertical-align: top;\n",
       "    }\n",
       "\n",
       "    .dataframe thead th {\n",
       "        text-align: right;\n",
       "    }\n",
       "</style>\n",
       "<table border=\"1\" class=\"dataframe\">\n",
       "  <thead>\n",
       "    <tr style=\"text-align: right;\">\n",
       "      <th></th>\n",
       "      <th>id_documento</th>\n",
       "      <th>Grupo</th>\n",
       "      <th>Documento</th>\n",
       "      <th>Target</th>\n",
       "      <th>Embedding</th>\n",
       "    </tr>\n",
       "  </thead>\n",
       "  <tbody>\n",
       "    <tr>\n",
       "      <th>1259</th>\n",
       "      <td>68274</td>\n",
       "      <td>comp.windows.x</td>\n",
       "      <td>compwindowsmisc --berry</td>\n",
       "      <td>5</td>\n",
       "      <td>NaN</td>\n",
       "    </tr>\n",
       "    <tr>\n",
       "      <th>5886</th>\n",
       "      <td>51689</td>\n",
       "      <td>comp.sys.mac.hardware</td>\n",
       "      <td>hdfd -david</td>\n",
       "      <td>4</td>\n",
       "      <td>NaN</td>\n",
       "    </tr>\n",
       "    <tr>\n",
       "      <th>12027</th>\n",
       "      <td>10635</td>\n",
       "      <td>comp.os.ms-windows.misc</td>\n",
       "      <td>emmexe</td>\n",
       "      <td>2</td>\n",
       "      <td>NaN</td>\n",
       "    </tr>\n",
       "    <tr>\n",
       "      <th>13047</th>\n",
       "      <td>39623</td>\n",
       "      <td>comp.graphics</td>\n",
       "      <td>cd'ing publicationsmayonline siggraphorg</td>\n",
       "      <td>1</td>\n",
       "      <td>NaN</td>\n",
       "    </tr>\n",
       "    <tr>\n",
       "      <th>13174</th>\n",
       "      <td>38775</td>\n",
       "      <td>comp.graphics</td>\n",
       "      <td>spectrumxeroxcom pubmapdem</td>\n",
       "      <td>1</td>\n",
       "      <td>NaN</td>\n",
       "    </tr>\n",
       "    <tr>\n",
       "      <th>13824</th>\n",
       "      <td>67131</td>\n",
       "      <td>comp.windows.x</td>\n",
       "      <td>xtvaappinitialize</td>\n",
       "      <td>5</td>\n",
       "      <td>NaN</td>\n",
       "    </tr>\n",
       "    <tr>\n",
       "      <th>14758</th>\n",
       "      <td>67366</td>\n",
       "      <td>comp.windows.x</td>\n",
       "      <td>xarchie</td>\n",
       "      <td>5</td>\n",
       "      <td>NaN</td>\n",
       "    </tr>\n",
       "    <tr>\n",
       "      <th>14936</th>\n",
       "      <td>38768</td>\n",
       "      <td>comp.graphics</td>\n",
       "      <td>qrttoppm filedi ppmtotga filetga</td>\n",
       "      <td>1</td>\n",
       "      <td>NaN</td>\n",
       "    </tr>\n",
       "    <tr>\n",
       "      <th>15220</th>\n",
       "      <td>66406</td>\n",
       "      <td>comp.windows.x</td>\n",
       "      <td>compwindowsx</td>\n",
       "      <td>5</td>\n",
       "      <td>NaN</td>\n",
       "    </tr>\n",
       "    <tr>\n",
       "      <th>17158</th>\n",
       "      <td>68112</td>\n",
       "      <td>comp.windows.x</td>\n",
       "      <td>exportlcsmiteducontribrsunospatchtarz xsunmult...</td>\n",
       "      <td>5</td>\n",
       "      <td>NaN</td>\n",
       "    </tr>\n",
       "  </tbody>\n",
       "</table>\n",
       "</div>"
      ],
      "text/plain": [
       "       id_documento                    Grupo  \\\n",
       "1259          68274           comp.windows.x   \n",
       "5886          51689    comp.sys.mac.hardware   \n",
       "12027         10635  comp.os.ms-windows.misc   \n",
       "13047         39623            comp.graphics   \n",
       "13174         38775            comp.graphics   \n",
       "13824         67131           comp.windows.x   \n",
       "14758         67366           comp.windows.x   \n",
       "14936         38768            comp.graphics   \n",
       "15220         66406           comp.windows.x   \n",
       "17158         68112           comp.windows.x   \n",
       "\n",
       "                                               Documento  Target Embedding  \n",
       "1259                             compwindowsmisc --berry       5       NaN  \n",
       "5886                                         hdfd -david       4       NaN  \n",
       "12027                                             emmexe       2       NaN  \n",
       "13047           cd'ing publicationsmayonline siggraphorg       1       NaN  \n",
       "13174                         spectrumxeroxcom pubmapdem       1       NaN  \n",
       "13824                                  xtvaappinitialize       5       NaN  \n",
       "14758                                            xarchie       5       NaN  \n",
       "14936                   qrttoppm filedi ppmtotga filetga       1       NaN  \n",
       "15220                                       compwindowsx       5       NaN  \n",
       "17158  exportlcsmiteducontribrsunospatchtarz xsunmult...       5       NaN  "
      ]
     },
     "execution_count": 25,
     "metadata": {},
     "output_type": "execute_result"
    }
   ],
   "source": [
    "ng_b1[ng_b1['Embedding'].isnull()]"
   ]
  },
  {
   "cell_type": "code",
   "execution_count": 26,
   "id": "4cf75378",
   "metadata": {},
   "outputs": [],
   "source": [
    "ng_b1 = ng_b1.drop(ng_b1[ng_b1['Embedding'].isnull()].index)"
   ]
  },
  {
   "cell_type": "code",
   "execution_count": 27,
   "id": "f36a00f9",
   "metadata": {},
   "outputs": [
    {
     "name": "stdout",
     "output_type": "stream",
     "text": [
      "<class 'pandas.core.frame.DataFrame'>\n",
      "Int64Index: 4748 entries, 1 to 18264\n",
      "Data columns (total 5 columns):\n",
      " #   Column        Non-Null Count  Dtype \n",
      "---  ------        --------------  ----- \n",
      " 0   id_documento  4748 non-null   int64 \n",
      " 1   Grupo         4748 non-null   object\n",
      " 2   Documento     4748 non-null   object\n",
      " 3   Target        4748 non-null   int64 \n",
      " 4   Embedding     4748 non-null   object\n",
      "dtypes: int64(2), object(3)\n",
      "memory usage: 222.6+ KB\n"
     ]
    }
   ],
   "source": [
    "ng_b1.info()"
   ]
  },
  {
   "cell_type": "code",
   "execution_count": 28,
   "id": "7ea00d16",
   "metadata": {},
   "outputs": [],
   "source": [
    "ng_b1.to_pickle('20newsgroups_b1_embd_all.pkl')"
   ]
  },
  {
   "cell_type": "markdown",
   "id": "45e1da58",
   "metadata": {},
   "source": [
    "## B2 NG7/8/9/10"
   ]
  },
  {
   "cell_type": "code",
   "execution_count": 29,
   "id": "55ca4fea",
   "metadata": {
    "scrolled": false
   },
   "outputs": [
    {
     "name": "stdout",
     "output_type": "stream",
     "text": [
      "<class 'pandas.core.frame.DataFrame'>\n",
      "Int64Index: 3813 entries, 0 to 18265\n",
      "Data columns (total 4 columns):\n",
      " #   Column        Non-Null Count  Dtype \n",
      "---  ------        --------------  ----- \n",
      " 0   id_documento  3813 non-null   int64 \n",
      " 1   Grupo         3813 non-null   object\n",
      " 2   Documento     3813 non-null   object\n",
      " 3   Target        3813 non-null   int64 \n",
      "dtypes: int64(2), object(2)\n",
      "memory usage: 148.9+ KB\n"
     ]
    }
   ],
   "source": [
    "ng_b2 = ng[ng['Target'].isin([7, 8, 9, 10])]\n",
    "\n",
    "ng_b2.info()"
   ]
  },
  {
   "cell_type": "code",
   "execution_count": 30,
   "id": "46a3200b",
   "metadata": {
    "scrolled": true
   },
   "outputs": [
    {
     "data": {
      "text/plain": [
       "{'rec.autos', 'rec.motorcycles', 'rec.sport.baseball', 'rec.sport.hockey'}"
      ]
     },
     "execution_count": 30,
     "metadata": {},
     "output_type": "execute_result"
    }
   ],
   "source": [
    "set(ng_b2['Grupo'])"
   ]
  },
  {
   "cell_type": "code",
   "execution_count": 31,
   "id": "c3f22057",
   "metadata": {},
   "outputs": [
    {
     "data": {
      "text/html": [
       "<div>\n",
       "<style scoped>\n",
       "    .dataframe tbody tr th:only-of-type {\n",
       "        vertical-align: middle;\n",
       "    }\n",
       "\n",
       "    .dataframe tbody tr th {\n",
       "        vertical-align: top;\n",
       "    }\n",
       "\n",
       "    .dataframe thead th {\n",
       "        text-align: right;\n",
       "    }\n",
       "</style>\n",
       "<table border=\"1\" class=\"dataframe\">\n",
       "  <thead>\n",
       "    <tr style=\"text-align: right;\">\n",
       "      <th></th>\n",
       "      <th>id_documento</th>\n",
       "      <th>Grupo</th>\n",
       "      <th>Documento</th>\n",
       "      <th>Target</th>\n",
       "    </tr>\n",
       "  </thead>\n",
       "  <tbody>\n",
       "    <tr>\n",
       "      <th>0</th>\n",
       "      <td>54367</td>\n",
       "      <td>rec.sport.hockey</td>\n",
       "      <td>basher pen fan pretty confused lack kind post ...</td>\n",
       "      <td>10</td>\n",
       "    </tr>\n",
       "    <tr>\n",
       "      <th>7</th>\n",
       "      <td>53767</td>\n",
       "      <td>rec.sport.hockey</td>\n",
       "      <td>stuff delete solution problem canada yesterday...</td>\n",
       "      <td>10</td>\n",
       "    </tr>\n",
       "    <tr>\n",
       "      <th>8</th>\n",
       "      <td>54033</td>\n",
       "      <td>rec.sport.hockey</td>\n",
       "      <td>yeah price good bruin sabre telecast wow good ...</td>\n",
       "      <td>10</td>\n",
       "    </tr>\n",
       "    <tr>\n",
       "      <th>19</th>\n",
       "      <td>105204</td>\n",
       "      <td>rec.motorcycles</td>\n",
       "      <td>argue gyroscope throughly understand edthe tec...</td>\n",
       "      <td>8</td>\n",
       "    </tr>\n",
       "    <tr>\n",
       "      <th>20</th>\n",
       "      <td>103698</td>\n",
       "      <td>rec.autos</td>\n",
       "      <td>buy chevy gmc size pickup extended cab opinion...</td>\n",
       "      <td>7</td>\n",
       "    </tr>\n",
       "  </tbody>\n",
       "</table>\n",
       "</div>"
      ],
      "text/plain": [
       "    id_documento             Grupo  \\\n",
       "0          54367  rec.sport.hockey   \n",
       "7          53767  rec.sport.hockey   \n",
       "8          54033  rec.sport.hockey   \n",
       "19        105204   rec.motorcycles   \n",
       "20        103698         rec.autos   \n",
       "\n",
       "                                            Documento  Target  \n",
       "0   basher pen fan pretty confused lack kind post ...      10  \n",
       "7   stuff delete solution problem canada yesterday...      10  \n",
       "8   yeah price good bruin sabre telecast wow good ...      10  \n",
       "19  argue gyroscope throughly understand edthe tec...       8  \n",
       "20  buy chevy gmc size pickup extended cab opinion...       7  "
      ]
     },
     "execution_count": 31,
     "metadata": {},
     "output_type": "execute_result"
    }
   ],
   "source": [
    "ng_b2.head()"
   ]
  },
  {
   "cell_type": "code",
   "execution_count": 32,
   "id": "e37778bd",
   "metadata": {
    "scrolled": true
   },
   "outputs": [
    {
     "data": {
      "text/plain": [
       "<AxesSubplot:xlabel='Grupo', ylabel='Count'>"
      ]
     },
     "execution_count": 32,
     "metadata": {},
     "output_type": "execute_result"
    },
    {
     "data": {
      "image/png": "[encoded data removed]",
      "text/plain": [
       "<Figure size 640x480 with 1 Axes>"
      ]
     },
     "metadata": {},
     "output_type": "display_data"
    }
   ],
   "source": [
    "sns.histplot(data=ng_b2, x=\"Grupo\", hue=\"Grupo\", shrink=.8, alpha=.8, legend=False)"
   ]
  },
  {
   "cell_type": "code",
   "execution_count": 33,
   "id": "549ac500",
   "metadata": {
    "scrolled": true
   },
   "outputs": [
    {
     "name": "stderr",
     "output_type": "stream",
     "text": [
      "C:\\Users\\David\\AppData\\Local\\Temp\\ipykernel_10832\\2624288955.py:3: SettingWithCopyWarning: \n",
      "A value is trying to be set on a copy of a slice from a DataFrame.\n",
      "Try using .loc[row_indexer,col_indexer] = value instead\n",
      "\n",
      "See the caveats in the documentation: https://pandas.pydata.org/pandas-docs/stable/user_guide/indexing.html#returning-a-view-versus-a-copy\n",
      "  ng_b2['Embedding'] = embeddings\n"
     ]
    }
   ],
   "source": [
    "embeddings = [texto_a_embedding(doc) for doc in ng_b2['Documento']]\n",
    "\n",
    "ng_b2['Embedding'] = embeddings"
   ]
  },
  {
   "cell_type": "code",
   "execution_count": 34,
   "id": "a7aba10a",
   "metadata": {},
   "outputs": [
    {
     "data": {
      "text/html": [
       "<div>\n",
       "<style scoped>\n",
       "    .dataframe tbody tr th:only-of-type {\n",
       "        vertical-align: middle;\n",
       "    }\n",
       "\n",
       "    .dataframe tbody tr th {\n",
       "        vertical-align: top;\n",
       "    }\n",
       "\n",
       "    .dataframe thead th {\n",
       "        text-align: right;\n",
       "    }\n",
       "</style>\n",
       "<table border=\"1\" class=\"dataframe\">\n",
       "  <thead>\n",
       "    <tr style=\"text-align: right;\">\n",
       "      <th></th>\n",
       "      <th>id_documento</th>\n",
       "      <th>Grupo</th>\n",
       "      <th>Documento</th>\n",
       "      <th>Target</th>\n",
       "      <th>Embedding</th>\n",
       "    </tr>\n",
       "  </thead>\n",
       "  <tbody>\n",
       "    <tr>\n",
       "      <th>6666</th>\n",
       "      <td>105021</td>\n",
       "      <td>rec.sport.baseball</td>\n",
       "      <td>baseballalways</td>\n",
       "      <td>9</td>\n",
       "      <td>NaN</td>\n",
       "    </tr>\n",
       "    <tr>\n",
       "      <th>9125</th>\n",
       "      <td>104905</td>\n",
       "      <td>rec.sport.baseball</td>\n",
       "      <td>bilinsky</td>\n",
       "      <td>9</td>\n",
       "      <td>NaN</td>\n",
       "    </tr>\n",
       "  </tbody>\n",
       "</table>\n",
       "</div>"
      ],
      "text/plain": [
       "      id_documento               Grupo       Documento  Target Embedding\n",
       "6666        105021  rec.sport.baseball  baseballalways       9       NaN\n",
       "9125        104905  rec.sport.baseball        bilinsky       9       NaN"
      ]
     },
     "execution_count": 34,
     "metadata": {},
     "output_type": "execute_result"
    }
   ],
   "source": [
    "ng_b2[ng_b2['Embedding'].isnull()]"
   ]
  },
  {
   "cell_type": "code",
   "execution_count": 35,
   "id": "df3bdb39",
   "metadata": {},
   "outputs": [],
   "source": [
    "ng_b2 = ng_b2.drop(ng_b2[ng_b2['Embedding'].isnull()].index)"
   ]
  },
  {
   "cell_type": "code",
   "execution_count": 36,
   "id": "c87db305",
   "metadata": {},
   "outputs": [
    {
     "name": "stdout",
     "output_type": "stream",
     "text": [
      "<class 'pandas.core.frame.DataFrame'>\n",
      "Int64Index: 3811 entries, 0 to 18265\n",
      "Data columns (total 5 columns):\n",
      " #   Column        Non-Null Count  Dtype \n",
      "---  ------        --------------  ----- \n",
      " 0   id_documento  3811 non-null   int64 \n",
      " 1   Grupo         3811 non-null   object\n",
      " 2   Documento     3811 non-null   object\n",
      " 3   Target        3811 non-null   int64 \n",
      " 4   Embedding     3811 non-null   object\n",
      "dtypes: int64(2), object(3)\n",
      "memory usage: 178.6+ KB\n"
     ]
    }
   ],
   "source": [
    "ng_b2.info()"
   ]
  },
  {
   "cell_type": "code",
   "execution_count": 37,
   "id": "eb8c2a7f",
   "metadata": {},
   "outputs": [],
   "source": [
    "ng_b2.to_pickle('20newsgroups_b2_embd_all.pkl')"
   ]
  },
  {
   "cell_type": "markdown",
   "id": "981538b5",
   "metadata": {},
   "source": [
    "## B3 NG11/12/13/14"
   ]
  },
  {
   "cell_type": "code",
   "execution_count": 38,
   "id": "20dea1a4",
   "metadata": {
    "scrolled": false
   },
   "outputs": [
    {
     "name": "stdout",
     "output_type": "stream",
     "text": [
      "<class 'pandas.core.frame.DataFrame'>\n",
      "Int64Index: 3828 entries, 5 to 18262\n",
      "Data columns (total 4 columns):\n",
      " #   Column        Non-Null Count  Dtype \n",
      "---  ------        --------------  ----- \n",
      " 0   id_documento  3828 non-null   int64 \n",
      " 1   Grupo         3828 non-null   object\n",
      " 2   Documento     3828 non-null   object\n",
      " 3   Target        3828 non-null   int64 \n",
      "dtypes: int64(2), object(2)\n",
      "memory usage: 149.5+ KB\n"
     ]
    }
   ],
   "source": [
    "ng_b3 = ng[ng['Target'].isin([11, 12, 13, 14])]\n",
    "\n",
    "ng_b3.info()"
   ]
  },
  {
   "cell_type": "code",
   "execution_count": 39,
   "id": "975e26bf",
   "metadata": {},
   "outputs": [
    {
     "data": {
      "text/plain": [
       "{'sci.crypt', 'sci.electronics', 'sci.med', 'sci.space'}"
      ]
     },
     "execution_count": 39,
     "metadata": {},
     "output_type": "execute_result"
    }
   ],
   "source": [
    "set(ng_b3['Grupo'])"
   ]
  },
  {
   "cell_type": "code",
   "execution_count": 40,
   "id": "d5d33b35",
   "metadata": {
    "scrolled": true
   },
   "outputs": [
    {
     "data": {
      "text/plain": [
       "<AxesSubplot:xlabel='Grupo', ylabel='Count'>"
      ]
     },
     "execution_count": 40,
     "metadata": {},
     "output_type": "execute_result"
    },
    {
     "data": {
      "image/png": "[encoded data removed]",
      "text/plain": [
       "<Figure size 640x480 with 1 Axes>"
      ]
     },
     "metadata": {},
     "output_type": "display_data"
    }
   ],
   "source": [
    "sns.histplot(data=ng_b3, x=\"Grupo\", hue=\"Grupo\", shrink=.8, alpha=.8, legend=False)"
   ]
  },
  {
   "cell_type": "code",
   "execution_count": 41,
   "id": "4f6c2bae",
   "metadata": {
    "scrolled": true
   },
   "outputs": [
    {
     "data": {
      "text/html": [
       "<div>\n",
       "<style scoped>\n",
       "    .dataframe tbody tr th:only-of-type {\n",
       "        vertical-align: middle;\n",
       "    }\n",
       "\n",
       "    .dataframe tbody tr th {\n",
       "        vertical-align: top;\n",
       "    }\n",
       "\n",
       "    .dataframe thead th {\n",
       "        text-align: right;\n",
       "    }\n",
       "</style>\n",
       "<table border=\"1\" class=\"dataframe\">\n",
       "  <thead>\n",
       "    <tr style=\"text-align: right;\">\n",
       "      <th></th>\n",
       "      <th>id_documento</th>\n",
       "      <th>Grupo</th>\n",
       "      <th>Documento</th>\n",
       "      <th>Target</th>\n",
       "    </tr>\n",
       "  </thead>\n",
       "  <tbody>\n",
       "    <tr>\n",
       "      <th>5</th>\n",
       "      <td>54198</td>\n",
       "      <td>sci.electronics</td>\n",
       "      <td>high school work lab assistant bunch experimen...</td>\n",
       "      <td>12</td>\n",
       "    </tr>\n",
       "    <tr>\n",
       "      <th>11</th>\n",
       "      <td>15596</td>\n",
       "      <td>sci.crypt</td>\n",
       "      <td>history untrustworthy behavoirsic</td>\n",
       "      <td>11</td>\n",
       "    </tr>\n",
       "    <tr>\n",
       "      <th>13</th>\n",
       "      <td>59022</td>\n",
       "      <td>sci.med</td>\n",
       "      <td>kirlian imaging faq sciskeptic nice write supp...</td>\n",
       "      <td>13</td>\n",
       "    </tr>\n",
       "    <tr>\n",
       "      <th>16</th>\n",
       "      <td>53899</td>\n",
       "      <td>sci.electronics</td>\n",
       "      <td>reply appeal info drive rpm modify bbc compute...</td>\n",
       "      <td>12</td>\n",
       "    </tr>\n",
       "    <tr>\n",
       "      <th>17</th>\n",
       "      <td>54203</td>\n",
       "      <td>sci.electronics</td>\n",
       "      <td>year ago victim squirted fair model teletype t...</td>\n",
       "      <td>12</td>\n",
       "    </tr>\n",
       "  </tbody>\n",
       "</table>\n",
       "</div>"
      ],
      "text/plain": [
       "    id_documento            Grupo  \\\n",
       "5          54198  sci.electronics   \n",
       "11         15596        sci.crypt   \n",
       "13         59022          sci.med   \n",
       "16         53899  sci.electronics   \n",
       "17         54203  sci.electronics   \n",
       "\n",
       "                                            Documento  Target  \n",
       "5   high school work lab assistant bunch experimen...      12  \n",
       "11                  history untrustworthy behavoirsic      11  \n",
       "13  kirlian imaging faq sciskeptic nice write supp...      13  \n",
       "16  reply appeal info drive rpm modify bbc compute...      12  \n",
       "17  year ago victim squirted fair model teletype t...      12  "
      ]
     },
     "execution_count": 41,
     "metadata": {},
     "output_type": "execute_result"
    }
   ],
   "source": [
    "ng_b3.head()"
   ]
  },
  {
   "cell_type": "code",
   "execution_count": 42,
   "id": "30b3208f",
   "metadata": {
    "scrolled": true
   },
   "outputs": [
    {
     "name": "stderr",
     "output_type": "stream",
     "text": [
      "C:\\Users\\David\\AppData\\Local\\Temp\\ipykernel_10832\\3640546857.py:3: SettingWithCopyWarning: \n",
      "A value is trying to be set on a copy of a slice from a DataFrame.\n",
      "Try using .loc[row_indexer,col_indexer] = value instead\n",
      "\n",
      "See the caveats in the documentation: https://pandas.pydata.org/pandas-docs/stable/user_guide/indexing.html#returning-a-view-versus-a-copy\n",
      "  ng_b3['Embedding'] = embeddings\n"
     ]
    }
   ],
   "source": [
    "embeddings = [texto_a_embedding(doc) for doc in ng_b3['Documento']]\n",
    "\n",
    "ng_b3['Embedding'] = embeddings"
   ]
  },
  {
   "cell_type": "code",
   "execution_count": 43,
   "id": "4fd80d9e",
   "metadata": {},
   "outputs": [
    {
     "data": {
      "text/html": [
       "<div>\n",
       "<style scoped>\n",
       "    .dataframe tbody tr th:only-of-type {\n",
       "        vertical-align: middle;\n",
       "    }\n",
       "\n",
       "    .dataframe tbody tr th {\n",
       "        vertical-align: top;\n",
       "    }\n",
       "\n",
       "    .dataframe thead th {\n",
       "        text-align: right;\n",
       "    }\n",
       "</style>\n",
       "<table border=\"1\" class=\"dataframe\">\n",
       "  <thead>\n",
       "    <tr style=\"text-align: right;\">\n",
       "      <th></th>\n",
       "      <th>id_documento</th>\n",
       "      <th>Grupo</th>\n",
       "      <th>Documento</th>\n",
       "      <th>Target</th>\n",
       "      <th>Embedding</th>\n",
       "    </tr>\n",
       "  </thead>\n",
       "  <tbody>\n",
       "    <tr>\n",
       "      <th>4459</th>\n",
       "      <td>54092</td>\n",
       "      <td>sci.electronics</td>\n",
       "      <td>ieeegeneral ieeeannounce</td>\n",
       "      <td>12</td>\n",
       "      <td>NaN</td>\n",
       "    </tr>\n",
       "    <tr>\n",
       "      <th>4667</th>\n",
       "      <td>53745</td>\n",
       "      <td>sci.electronics</td>\n",
       "      <td>scienergy</td>\n",
       "      <td>12</td>\n",
       "      <td>NaN</td>\n",
       "    </tr>\n",
       "  </tbody>\n",
       "</table>\n",
       "</div>"
      ],
      "text/plain": [
       "      id_documento            Grupo                 Documento  Target  \\\n",
       "4459         54092  sci.electronics  ieeegeneral ieeeannounce      12   \n",
       "4667         53745  sci.electronics                 scienergy      12   \n",
       "\n",
       "     Embedding  \n",
       "4459       NaN  \n",
       "4667       NaN  "
      ]
     },
     "execution_count": 43,
     "metadata": {},
     "output_type": "execute_result"
    }
   ],
   "source": [
    "ng_b3[ng_b3['Embedding'].isnull()]"
   ]
  },
  {
   "cell_type": "code",
   "execution_count": 44,
   "id": "c603afd8",
   "metadata": {},
   "outputs": [],
   "source": [
    "ng_b3 = ng_b3.drop(ng_b3[ng_b3['Embedding'].isnull()].index)"
   ]
  },
  {
   "cell_type": "code",
   "execution_count": 45,
   "id": "f86de68e",
   "metadata": {},
   "outputs": [
    {
     "name": "stdout",
     "output_type": "stream",
     "text": [
      "<class 'pandas.core.frame.DataFrame'>\n",
      "Int64Index: 3826 entries, 5 to 18262\n",
      "Data columns (total 5 columns):\n",
      " #   Column        Non-Null Count  Dtype \n",
      "---  ------        --------------  ----- \n",
      " 0   id_documento  3826 non-null   int64 \n",
      " 1   Grupo         3826 non-null   object\n",
      " 2   Documento     3826 non-null   object\n",
      " 3   Target        3826 non-null   int64 \n",
      " 4   Embedding     3826 non-null   object\n",
      "dtypes: int64(2), object(3)\n",
      "memory usage: 179.3+ KB\n"
     ]
    }
   ],
   "source": [
    "ng_b3.info()"
   ]
  },
  {
   "cell_type": "code",
   "execution_count": 46,
   "id": "1a044581",
   "metadata": {},
   "outputs": [],
   "source": [
    "ng_b3.to_pickle('20newsgroups_b3_embd_all.pkl')"
   ]
  },
  {
   "cell_type": "markdown",
   "id": "eb0892d9",
   "metadata": {},
   "source": [
    "## B4 NG15/16/17/18/19"
   ]
  },
  {
   "cell_type": "code",
   "execution_count": 47,
   "id": "1008d101",
   "metadata": {
    "scrolled": true
   },
   "outputs": [
    {
     "name": "stdout",
     "output_type": "stream",
     "text": [
      "<class 'pandas.core.frame.DataFrame'>\n",
      "Int64Index: 3158 entries, 2 to 18258\n",
      "Data columns (total 4 columns):\n",
      " #   Column        Non-Null Count  Dtype \n",
      "---  ------        --------------  ----- \n",
      " 0   id_documento  3158 non-null   int64 \n",
      " 1   Grupo         3158 non-null   object\n",
      " 2   Documento     3158 non-null   object\n",
      " 3   Target        3158 non-null   int64 \n",
      "dtypes: int64(2), object(2)\n",
      "memory usage: 123.4+ KB\n"
     ]
    }
   ],
   "source": [
    "ng_b4 = ng[ng['Target'].isin([16, 17, 18, 19])]\n",
    "\n",
    "ng_b4.info()"
   ]
  },
  {
   "cell_type": "code",
   "execution_count": 48,
   "id": "9ef9ed37",
   "metadata": {},
   "outputs": [
    {
     "data": {
      "text/plain": [
       "{'talk.politics.guns',\n",
       " 'talk.politics.mideast',\n",
       " 'talk.politics.misc',\n",
       " 'talk.religion.misc'}"
      ]
     },
     "execution_count": 48,
     "metadata": {},
     "output_type": "execute_result"
    }
   ],
   "source": [
    "set(ng_b4['Grupo'])"
   ]
  },
  {
   "cell_type": "code",
   "execution_count": 49,
   "id": "3a2f8b7d",
   "metadata": {
    "scrolled": false
   },
   "outputs": [
    {
     "data": {
      "text/plain": [
       "<AxesSubplot:xlabel='Grupo', ylabel='Count'>"
      ]
     },
     "execution_count": 49,
     "metadata": {},
     "output_type": "execute_result"
    },
    {
     "data": {
      "image/png": "[encoded data removed]",
      "text/plain": [
       "<Figure size 640x480 with 1 Axes>"
      ]
     },
     "metadata": {},
     "output_type": "display_data"
    }
   ],
   "source": [
    "sns.histplot(data=ng_b4, x=\"Grupo\", hue=\"Grupo\", shrink=.8, alpha=.8, legend=False)"
   ]
  },
  {
   "cell_type": "code",
   "execution_count": 50,
   "id": "b689b375",
   "metadata": {
    "scrolled": true
   },
   "outputs": [
    {
     "data": {
      "text/html": [
       "<div>\n",
       "<style scoped>\n",
       "    .dataframe tbody tr th:only-of-type {\n",
       "        vertical-align: middle;\n",
       "    }\n",
       "\n",
       "    .dataframe tbody tr th {\n",
       "        vertical-align: top;\n",
       "    }\n",
       "\n",
       "    .dataframe thead th {\n",
       "        text-align: right;\n",
       "    }\n",
       "</style>\n",
       "<table border=\"1\" class=\"dataframe\">\n",
       "  <thead>\n",
       "    <tr style=\"text-align: right;\">\n",
       "      <th></th>\n",
       "      <th>id_documento</th>\n",
       "      <th>Grupo</th>\n",
       "      <th>Documento</th>\n",
       "      <th>Target</th>\n",
       "    </tr>\n",
       "  </thead>\n",
       "  <tbody>\n",
       "    <tr>\n",
       "      <th>2</th>\n",
       "      <td>76120</td>\n",
       "      <td>talk.politics.mideast</td>\n",
       "      <td>finally dream mediterranean area great year ho...</td>\n",
       "      <td>17</td>\n",
       "    </tr>\n",
       "    <tr>\n",
       "      <th>9</th>\n",
       "      <td>84236</td>\n",
       "      <td>talk.religion.misc</td>\n",
       "      <td>christian divinity jesus safe jesus christian ...</td>\n",
       "      <td>19</td>\n",
       "    </tr>\n",
       "    <tr>\n",
       "      <th>10</th>\n",
       "      <td>83609</td>\n",
       "      <td>talk.religion.misc</td>\n",
       "      <td>blood lamb hard task culture animal blood sacr...</td>\n",
       "      <td>19</td>\n",
       "    </tr>\n",
       "    <tr>\n",
       "      <th>12</th>\n",
       "      <td>83506</td>\n",
       "      <td>talk.religion.misc</td>\n",
       "      <td>wilt law honestly word sin restriction kid man...</td>\n",
       "      <td>19</td>\n",
       "    </tr>\n",
       "    <tr>\n",
       "      <th>15</th>\n",
       "      <td>76476</td>\n",
       "      <td>talk.politics.mideast</td>\n",
       "      <td>report turkey eyes regional role ankara turkey...</td>\n",
       "      <td>17</td>\n",
       "    </tr>\n",
       "  </tbody>\n",
       "</table>\n",
       "</div>"
      ],
      "text/plain": [
       "    id_documento                  Grupo  \\\n",
       "2          76120  talk.politics.mideast   \n",
       "9          84236     talk.religion.misc   \n",
       "10         83609     talk.religion.misc   \n",
       "12         83506     talk.religion.misc   \n",
       "15         76476  talk.politics.mideast   \n",
       "\n",
       "                                            Documento  Target  \n",
       "2   finally dream mediterranean area great year ho...      17  \n",
       "9   christian divinity jesus safe jesus christian ...      19  \n",
       "10  blood lamb hard task culture animal blood sacr...      19  \n",
       "12  wilt law honestly word sin restriction kid man...      19  \n",
       "15  report turkey eyes regional role ankara turkey...      17  "
      ]
     },
     "execution_count": 50,
     "metadata": {},
     "output_type": "execute_result"
    }
   ],
   "source": [
    "ng_b4.head()"
   ]
  },
  {
   "cell_type": "code",
   "execution_count": 51,
   "id": "0c46e9d8",
   "metadata": {
    "scrolled": true
   },
   "outputs": [
    {
     "name": "stderr",
     "output_type": "stream",
     "text": [
      "C:\\Users\\David\\AppData\\Local\\Temp\\ipykernel_10832\\3670991653.py:3: SettingWithCopyWarning: \n",
      "A value is trying to be set on a copy of a slice from a DataFrame.\n",
      "Try using .loc[row_indexer,col_indexer] = value instead\n",
      "\n",
      "See the caveats in the documentation: https://pandas.pydata.org/pandas-docs/stable/user_guide/indexing.html#returning-a-view-versus-a-copy\n",
      "  ng_b4['Embedding'] = embeddings\n"
     ]
    }
   ],
   "source": [
    "embeddings = [texto_a_embedding(doc) for doc in ng_b4['Documento']]\n",
    "\n",
    "ng_b4['Embedding'] = embeddings"
   ]
  },
  {
   "cell_type": "code",
   "execution_count": 52,
   "id": "ade0331c",
   "metadata": {},
   "outputs": [
    {
     "data": {
      "text/html": [
       "<div>\n",
       "<style scoped>\n",
       "    .dataframe tbody tr th:only-of-type {\n",
       "        vertical-align: middle;\n",
       "    }\n",
       "\n",
       "    .dataframe tbody tr th {\n",
       "        vertical-align: top;\n",
       "    }\n",
       "\n",
       "    .dataframe thead th {\n",
       "        text-align: right;\n",
       "    }\n",
       "</style>\n",
       "<table border=\"1\" class=\"dataframe\">\n",
       "  <thead>\n",
       "    <tr style=\"text-align: right;\">\n",
       "      <th></th>\n",
       "      <th>id_documento</th>\n",
       "      <th>Grupo</th>\n",
       "      <th>Documento</th>\n",
       "      <th>Target</th>\n",
       "      <th>Embedding</th>\n",
       "    </tr>\n",
       "  </thead>\n",
       "  <tbody>\n",
       "    <tr>\n",
       "      <th>9005</th>\n",
       "      <td>84289</td>\n",
       "      <td>talk.religion.misc</td>\n",
       "      <td>altreligionspam</td>\n",
       "      <td>19</td>\n",
       "      <td>NaN</td>\n",
       "    </tr>\n",
       "    <tr>\n",
       "      <th>16644</th>\n",
       "      <td>178690</td>\n",
       "      <td>talk.politics.misc</td>\n",
       "      <td>tesrt</td>\n",
       "      <td>18</td>\n",
       "      <td>NaN</td>\n",
       "    </tr>\n",
       "    <tr>\n",
       "      <th>17589</th>\n",
       "      <td>83677</td>\n",
       "      <td>talk.religion.misc</td>\n",
       "      <td>critus</td>\n",
       "      <td>19</td>\n",
       "      <td>NaN</td>\n",
       "    </tr>\n",
       "  </tbody>\n",
       "</table>\n",
       "</div>"
      ],
      "text/plain": [
       "       id_documento               Grupo        Documento  Target Embedding\n",
       "9005          84289  talk.religion.misc  altreligionspam      19       NaN\n",
       "16644        178690  talk.politics.misc            tesrt      18       NaN\n",
       "17589         83677  talk.religion.misc           critus      19       NaN"
      ]
     },
     "execution_count": 52,
     "metadata": {},
     "output_type": "execute_result"
    }
   ],
   "source": [
    "ng_b4[ng_b4['Embedding'].isnull()]"
   ]
  },
  {
   "cell_type": "code",
   "execution_count": 53,
   "id": "ab6573e2",
   "metadata": {},
   "outputs": [],
   "source": [
    "ng_b4 = ng_b4.drop(ng_b4[ng_b4['Embedding'].isnull()].index)"
   ]
  },
  {
   "cell_type": "code",
   "execution_count": 54,
   "id": "902a9b17",
   "metadata": {},
   "outputs": [
    {
     "name": "stdout",
     "output_type": "stream",
     "text": [
      "<class 'pandas.core.frame.DataFrame'>\n",
      "Int64Index: 3155 entries, 2 to 18258\n",
      "Data columns (total 5 columns):\n",
      " #   Column        Non-Null Count  Dtype \n",
      "---  ------        --------------  ----- \n",
      " 0   id_documento  3155 non-null   int64 \n",
      " 1   Grupo         3155 non-null   object\n",
      " 2   Documento     3155 non-null   object\n",
      " 3   Target        3155 non-null   int64 \n",
      " 4   Embedding     3155 non-null   object\n",
      "dtypes: int64(2), object(3)\n",
      "memory usage: 147.9+ KB\n"
     ]
    }
   ],
   "source": [
    "ng_b4.info()"
   ]
  },
  {
   "cell_type": "code",
   "execution_count": 55,
   "id": "f3185ba4",
   "metadata": {},
   "outputs": [],
   "source": [
    "ng_b4.to_pickle('20newsgroups_b4_embd_all.pkl')"
   ]
  },
  {
   "cell_type": "markdown",
   "id": "4dd9acc7",
   "metadata": {},
   "source": [
    "## Dos bloques enteros: B10 NG1/2/3/5/8/9/15/17/18/19"
   ]
  },
  {
   "cell_type": "code",
   "execution_count": 56,
   "id": "ac4171ae",
   "metadata": {},
   "outputs": [],
   "source": [
    "ng_b10 = ng[ng['Target'].isin([1, 2, 3, 5, 8, 9, 16, 17, 18, 19])]"
   ]
  },
  {
   "cell_type": "code",
   "execution_count": 57,
   "id": "87035929",
   "metadata": {},
   "outputs": [
    {
     "data": {
      "text/plain": [
       "{'comp.graphics',\n",
       " 'comp.os.ms-windows.misc',\n",
       " 'comp.sys.ibm.pc.hardware',\n",
       " 'comp.windows.x',\n",
       " 'rec.motorcycles',\n",
       " 'rec.sport.baseball',\n",
       " 'talk.politics.guns',\n",
       " 'talk.politics.mideast',\n",
       " 'talk.politics.misc',\n",
       " 'talk.religion.misc'}"
      ]
     },
     "execution_count": 57,
     "metadata": {},
     "output_type": "execute_result"
    }
   ],
   "source": [
    "set(ng_b10['Grupo'])"
   ]
  },
  {
   "cell_type": "code",
   "execution_count": 58,
   "id": "39e3e48c",
   "metadata": {},
   "outputs": [
    {
     "data": {
      "text/html": [
       "<div>\n",
       "<style scoped>\n",
       "    .dataframe tbody tr th:only-of-type {\n",
       "        vertical-align: middle;\n",
       "    }\n",
       "\n",
       "    .dataframe tbody tr th {\n",
       "        vertical-align: top;\n",
       "    }\n",
       "\n",
       "    .dataframe thead th {\n",
       "        text-align: right;\n",
       "    }\n",
       "</style>\n",
       "<table border=\"1\" class=\"dataframe\">\n",
       "  <thead>\n",
       "    <tr style=\"text-align: right;\">\n",
       "      <th></th>\n",
       "      <th>Grupo</th>\n",
       "      <th>n</th>\n",
       "    </tr>\n",
       "  </thead>\n",
       "  <tbody>\n",
       "    <tr>\n",
       "      <th>9</th>\n",
       "      <td>talk.religion.misc</td>\n",
       "      <td>603</td>\n",
       "    </tr>\n",
       "    <tr>\n",
       "      <th>8</th>\n",
       "      <td>talk.politics.misc</td>\n",
       "      <td>753</td>\n",
       "    </tr>\n",
       "    <tr>\n",
       "      <th>6</th>\n",
       "      <td>talk.politics.guns</td>\n",
       "      <td>885</td>\n",
       "    </tr>\n",
       "    <tr>\n",
       "      <th>7</th>\n",
       "      <td>talk.politics.mideast</td>\n",
       "      <td>917</td>\n",
       "    </tr>\n",
       "    <tr>\n",
       "      <th>1</th>\n",
       "      <td>comp.os.ms-windows.misc</td>\n",
       "      <td>942</td>\n",
       "    </tr>\n",
       "    <tr>\n",
       "      <th>0</th>\n",
       "      <td>comp.graphics</td>\n",
       "      <td>948</td>\n",
       "    </tr>\n",
       "    <tr>\n",
       "      <th>5</th>\n",
       "      <td>rec.sport.baseball</td>\n",
       "      <td>949</td>\n",
       "    </tr>\n",
       "    <tr>\n",
       "      <th>2</th>\n",
       "      <td>comp.sys.ibm.pc.hardware</td>\n",
       "      <td>963</td>\n",
       "    </tr>\n",
       "    <tr>\n",
       "      <th>4</th>\n",
       "      <td>rec.motorcycles</td>\n",
       "      <td>966</td>\n",
       "    </tr>\n",
       "    <tr>\n",
       "      <th>3</th>\n",
       "      <td>comp.windows.x</td>\n",
       "      <td>978</td>\n",
       "    </tr>\n",
       "  </tbody>\n",
       "</table>\n",
       "</div>"
      ],
      "text/plain": [
       "                      Grupo    n\n",
       "9        talk.religion.misc  603\n",
       "8        talk.politics.misc  753\n",
       "6        talk.politics.guns  885\n",
       "7     talk.politics.mideast  917\n",
       "1   comp.os.ms-windows.misc  942\n",
       "0             comp.graphics  948\n",
       "5        rec.sport.baseball  949\n",
       "2  comp.sys.ibm.pc.hardware  963\n",
       "4           rec.motorcycles  966\n",
       "3            comp.windows.x  978"
      ]
     },
     "execution_count": 58,
     "metadata": {},
     "output_type": "execute_result"
    }
   ],
   "source": [
    "ng_b10.groupby('Grupo').size().reset_index(name='n').sort_values(by='n')"
   ]
  },
  {
   "cell_type": "code",
   "execution_count": 59,
   "id": "02a760af",
   "metadata": {},
   "outputs": [
    {
     "data": {
      "text/plain": [
       "<AxesSubplot:xlabel='Grupo', ylabel='Count'>"
      ]
     },
     "execution_count": 59,
     "metadata": {},
     "output_type": "execute_result"
    },
    {
     "data": {
      "image/png": "[encoded data removed]",
      "text/plain": [
       "<Figure size 640x480 with 1 Axes>"
      ]
     },
     "metadata": {},
     "output_type": "display_data"
    }
   ],
   "source": [
    "sns.histplot(data=ng_b10, x=\"Grupo\", hue=\"Grupo\", shrink=.8, alpha=.8, legend=False)"
   ]
  },
  {
   "cell_type": "code",
   "execution_count": 152,
   "id": "34847024",
   "metadata": {},
   "outputs": [
    {
     "name": "stderr",
     "output_type": "stream",
     "text": [
      "C:\\Users\\David\\AppData\\Local\\Temp\\ipykernel_2024\\1757683251.py:17: SettingWithCopyWarning: \n",
      "A value is trying to be set on a copy of a slice from a DataFrame.\n",
      "Try using .loc[row_indexer,col_indexer] = value instead\n",
      "\n",
      "See the caveats in the documentation: https://pandas.pydata.org/pandas-docs/stable/user_guide/indexing.html#returning-a-view-versus-a-copy\n",
      "  df['Embedding'] = embeddings\n"
     ]
    }
   ],
   "source": [
    "dict_b10 = tfidf_embd(ng_b10)"
   ]
  },
  {
   "cell_type": "code",
   "execution_count": 153,
   "id": "f7a7e7df",
   "metadata": {},
   "outputs": [
    {
     "name": "stdout",
     "output_type": "stream",
     "text": [
      "<class 'pandas.core.frame.DataFrame'>\n",
      "Int64Index: 5338 entries, 3 to 10978\n",
      "Data columns (total 5 columns):\n",
      " #   Column        Non-Null Count  Dtype \n",
      "---  ------        --------------  ----- \n",
      " 0   id_documento  5338 non-null   int64 \n",
      " 1   Grupo         5338 non-null   object\n",
      " 2   Documento     5338 non-null   object\n",
      " 3   Target        5338 non-null   int64 \n",
      " 4   Embedding     5320 non-null   object\n",
      "dtypes: int64(2), object(3)\n",
      "memory usage: 250.2+ KB\n"
     ]
    }
   ],
   "source": [
    "ng_b10.info()"
   ]
  },
  {
   "cell_type": "code",
   "execution_count": 154,
   "id": "d4b66870",
   "metadata": {},
   "outputs": [
    {
     "data": {
      "text/html": [
       "<div>\n",
       "<style scoped>\n",
       "    .dataframe tbody tr th:only-of-type {\n",
       "        vertical-align: middle;\n",
       "    }\n",
       "\n",
       "    .dataframe tbody tr th {\n",
       "        vertical-align: top;\n",
       "    }\n",
       "\n",
       "    .dataframe thead th {\n",
       "        text-align: right;\n",
       "    }\n",
       "</style>\n",
       "<table border=\"1\" class=\"dataframe\">\n",
       "  <thead>\n",
       "    <tr style=\"text-align: right;\">\n",
       "      <th></th>\n",
       "      <th>id_documento</th>\n",
       "      <th>Grupo</th>\n",
       "      <th>Documento</th>\n",
       "      <th>Target</th>\n",
       "      <th>Embedding</th>\n",
       "    </tr>\n",
       "  </thead>\n",
       "  <tbody>\n",
       "    <tr>\n",
       "      <th>143</th>\n",
       "      <td>9985</td>\n",
       "      <td>comp.os.ms-windows.misc</td>\n",
       "      <td>mgizgizbhjgizmteilvfffrawzqvo mzexfwfpwmwmuulp...</td>\n",
       "      <td>2</td>\n",
       "      <td>NaN</td>\n",
       "    </tr>\n",
       "    <tr>\n",
       "      <th>1442</th>\n",
       "      <td>9978</td>\n",
       "      <td>comp.os.ms-windows.misc</td>\n",
       "      <td>mwswwsuwwwwwtwwwxwuw mwwxwawwvawuuuwwwuwaw mww...</td>\n",
       "      <td>2</td>\n",
       "      <td>NaN</td>\n",
       "    </tr>\n",
       "    <tr>\n",
       "      <th>1490</th>\n",
       "      <td>9977</td>\n",
       "      <td>comp.os.ms-windows.misc</td>\n",
       "      <td>mcxtmxxcbncexxcxxrbnhkcgocn mysysctsxsnccxsuay...</td>\n",
       "      <td>2</td>\n",
       "      <td>NaN</td>\n",
       "    </tr>\n",
       "    <tr>\n",
       "      <th>2835</th>\n",
       "      <td>9990</td>\n",
       "      <td>comp.os.ms-windows.misc</td>\n",
       "      <td>mdpumvbxnttqqgvgppvqqt mttbxomwmuplpdddddddq m...</td>\n",
       "      <td>2</td>\n",
       "      <td>NaN</td>\n",
       "    </tr>\n",
       "    <tr>\n",
       "      <th>3091</th>\n",
       "      <td>9980</td>\n",
       "      <td>comp.os.ms-windows.misc</td>\n",
       "      <td>mkkhfngunkrlbtlkitlpkjrnkhairkhbrgwgw mkwjvmgr...</td>\n",
       "      <td>2</td>\n",
       "      <td>NaN</td>\n",
       "    </tr>\n",
       "    <tr>\n",
       "      <th>4352</th>\n",
       "      <td>9981</td>\n",
       "      <td>comp.os.ms-windows.misc</td>\n",
       "      <td>mqgpfrfbfbgaaaaaar mpusdbooqxechmprvmjtvpls mp...</td>\n",
       "      <td>2</td>\n",
       "      <td>NaN</td>\n",
       "    </tr>\n",
       "    <tr>\n",
       "      <th>4371</th>\n",
       "      <td>9983</td>\n",
       "      <td>comp.os.ms-windows.misc</td>\n",
       "      <td>mnpprcbeftnchijjlbpzqjyjwe mulvvfjrpfxlbvbfxju...</td>\n",
       "      <td>2</td>\n",
       "      <td>NaN</td>\n",
       "    </tr>\n",
       "    <tr>\n",
       "      <th>4622</th>\n",
       "      <td>9988</td>\n",
       "      <td>comp.os.ms-windows.misc</td>\n",
       "      <td>mtfffffffffpfffpkngizgkte' ''' mwwizbhjnmyffff...</td>\n",
       "      <td>2</td>\n",
       "      <td>NaN</td>\n",
       "    </tr>\n",
       "    <tr>\n",
       "      <th>6077</th>\n",
       "      <td>54380</td>\n",
       "      <td>talk.politics.guns</td>\n",
       "      <td>outofcontrolgif mpubzaynylcjwcqahoaelqrw mphtf...</td>\n",
       "      <td>16</td>\n",
       "      <td>NaN</td>\n",
       "    </tr>\n",
       "    <tr>\n",
       "      <th>6108</th>\n",
       "      <td>178690</td>\n",
       "      <td>talk.politics.misc</td>\n",
       "      <td>tesrt</td>\n",
       "      <td>18</td>\n",
       "      <td>NaN</td>\n",
       "    </tr>\n",
       "    <tr>\n",
       "      <th>7412</th>\n",
       "      <td>67366</td>\n",
       "      <td>comp.windows.x</td>\n",
       "      <td>xarchie</td>\n",
       "      <td>5</td>\n",
       "      <td>NaN</td>\n",
       "    </tr>\n",
       "    <tr>\n",
       "      <th>7882</th>\n",
       "      <td>66406</td>\n",
       "      <td>comp.windows.x</td>\n",
       "      <td>compwindowsx</td>\n",
       "      <td>5</td>\n",
       "      <td>NaN</td>\n",
       "    </tr>\n",
       "    <tr>\n",
       "      <th>7968</th>\n",
       "      <td>9979</td>\n",
       "      <td>comp.os.ms-windows.misc</td>\n",
       "      <td>mgfgzgrgnbnahfnajzahfajzahkrbrgfkhfajz majrbra...</td>\n",
       "      <td>2</td>\n",
       "      <td>NaN</td>\n",
       "    </tr>\n",
       "    <tr>\n",
       "      <th>8408</th>\n",
       "      <td>9987</td>\n",
       "      <td>comp.os.ms-windows.misc</td>\n",
       "      <td>mfffffyffffffffdtmqdpdeqtmv mlvpptqqgqtbvpfynr...</td>\n",
       "      <td>2</td>\n",
       "      <td>NaN</td>\n",
       "    </tr>\n",
       "    <tr>\n",
       "      <th>8809</th>\n",
       "      <td>9986</td>\n",
       "      <td>comp.os.ms-windows.misc</td>\n",
       "      <td>mrdmuuivgvgvgvgvgvgvgvgvgv mgvgvgvgvgvgvgvgvgv...</td>\n",
       "      <td>2</td>\n",
       "      <td>NaN</td>\n",
       "    </tr>\n",
       "    <tr>\n",
       "      <th>9170</th>\n",
       "      <td>104905</td>\n",
       "      <td>rec.sport.baseball</td>\n",
       "      <td>bilinsky</td>\n",
       "      <td>9</td>\n",
       "      <td>NaN</td>\n",
       "    </tr>\n",
       "    <tr>\n",
       "      <th>9349</th>\n",
       "      <td>67131</td>\n",
       "      <td>comp.windows.x</td>\n",
       "      <td>xtvaappinitialize</td>\n",
       "      <td>5</td>\n",
       "      <td>NaN</td>\n",
       "    </tr>\n",
       "    <tr>\n",
       "      <th>10131</th>\n",
       "      <td>83677</td>\n",
       "      <td>talk.religion.misc</td>\n",
       "      <td>critus</td>\n",
       "      <td>19</td>\n",
       "      <td>NaN</td>\n",
       "    </tr>\n",
       "  </tbody>\n",
       "</table>\n",
       "</div>"
      ],
      "text/plain": [
       "       id_documento                    Grupo  \\\n",
       "143            9985  comp.os.ms-windows.misc   \n",
       "1442           9978  comp.os.ms-windows.misc   \n",
       "1490           9977  comp.os.ms-windows.misc   \n",
       "2835           9990  comp.os.ms-windows.misc   \n",
       "3091           9980  comp.os.ms-windows.misc   \n",
       "4352           9981  comp.os.ms-windows.misc   \n",
       "4371           9983  comp.os.ms-windows.misc   \n",
       "4622           9988  comp.os.ms-windows.misc   \n",
       "6077          54380       talk.politics.guns   \n",
       "6108         178690       talk.politics.misc   \n",
       "7412          67366           comp.windows.x   \n",
       "7882          66406           comp.windows.x   \n",
       "7968           9979  comp.os.ms-windows.misc   \n",
       "8408           9987  comp.os.ms-windows.misc   \n",
       "8809           9986  comp.os.ms-windows.misc   \n",
       "9170         104905       rec.sport.baseball   \n",
       "9349          67131           comp.windows.x   \n",
       "10131         83677       talk.religion.misc   \n",
       "\n",
       "                                               Documento  Target Embedding  \n",
       "143    mgizgizbhjgizmteilvfffrawzqvo mzexfwfpwmwmuulp...       2       NaN  \n",
       "1442   mwswwsuwwwwwtwwwxwuw mwwxwawwvawuuuwwwuwaw mww...       2       NaN  \n",
       "1490   mcxtmxxcbncexxcxxrbnhkcgocn mysysctsxsnccxsuay...       2       NaN  \n",
       "2835   mdpumvbxnttqqgvgppvqqt mttbxomwmuplpdddddddq m...       2       NaN  \n",
       "3091   mkkhfngunkrlbtlkitlpkjrnkhairkhbrgwgw mkwjvmgr...       2       NaN  \n",
       "4352   mqgpfrfbfbgaaaaaar mpusdbooqxechmprvmjtvpls mp...       2       NaN  \n",
       "4371   mnpprcbeftnchijjlbpzqjyjwe mulvvfjrpfxlbvbfxju...       2       NaN  \n",
       "4622   mtfffffffffpfffpkngizgkte' ''' mwwizbhjnmyffff...       2       NaN  \n",
       "6077   outofcontrolgif mpubzaynylcjwcqahoaelqrw mphtf...      16       NaN  \n",
       "6108                                               tesrt      18       NaN  \n",
       "7412                                             xarchie       5       NaN  \n",
       "7882                                        compwindowsx       5       NaN  \n",
       "7968   mgfgzgrgnbnahfnajzahfajzahkrbrgfkhfajz majrbra...       2       NaN  \n",
       "8408   mfffffyffffffffdtmqdpdeqtmv mlvpptqqgqtbvpfynr...       2       NaN  \n",
       "8809   mrdmuuivgvgvgvgvgvgvgvgvgv mgvgvgvgvgvgvgvgvgv...       2       NaN  \n",
       "9170                                            bilinsky       9       NaN  \n",
       "9349                                   xtvaappinitialize       5       NaN  \n",
       "10131                                             critus      19       NaN  "
      ]
     },
     "execution_count": 154,
     "metadata": {},
     "output_type": "execute_result"
    }
   ],
   "source": [
    "ng_b10[ng_b10['Embedding'].isnull()]"
   ]
  },
  {
   "cell_type": "code",
   "execution_count": 155,
   "id": "4b369b37",
   "metadata": {},
   "outputs": [],
   "source": [
    "ng_b10 = ng_b10.drop(ng_b10[ng_b10['Embedding'].isnull()].index)"
   ]
  },
  {
   "cell_type": "code",
   "execution_count": 156,
   "id": "1e980ee9",
   "metadata": {},
   "outputs": [
    {
     "data": {
      "text/html": [
       "<div>\n",
       "<style scoped>\n",
       "    .dataframe tbody tr th:only-of-type {\n",
       "        vertical-align: middle;\n",
       "    }\n",
       "\n",
       "    .dataframe tbody tr th {\n",
       "        vertical-align: top;\n",
       "    }\n",
       "\n",
       "    .dataframe thead th {\n",
       "        text-align: right;\n",
       "    }\n",
       "</style>\n",
       "<table border=\"1\" class=\"dataframe\">\n",
       "  <thead>\n",
       "    <tr style=\"text-align: right;\">\n",
       "      <th></th>\n",
       "      <th>Palabra</th>\n",
       "      <th>Valor</th>\n",
       "    </tr>\n",
       "  </thead>\n",
       "  <tbody>\n",
       "    <tr>\n",
       "      <th>209</th>\n",
       "      <td>access</td>\n",
       "      <td>16.263734</td>\n",
       "    </tr>\n",
       "    <tr>\n",
       "      <th>433</th>\n",
       "      <td>add</td>\n",
       "      <td>10.743238</td>\n",
       "    </tr>\n",
       "    <tr>\n",
       "      <th>452</th>\n",
       "      <td>address</td>\n",
       "      <td>20.220700</td>\n",
       "    </tr>\n",
       "    <tr>\n",
       "      <th>579</th>\n",
       "      <td>advance</td>\n",
       "      <td>28.603186</td>\n",
       "    </tr>\n",
       "    <tr>\n",
       "      <th>779</th>\n",
       "      <td>ago</td>\n",
       "      <td>16.695851</td>\n",
       "    </tr>\n",
       "    <tr>\n",
       "      <th>...</th>\n",
       "      <td>...</td>\n",
       "      <td>...</td>\n",
       "    </tr>\n",
       "    <tr>\n",
       "      <th>48130</th>\n",
       "      <td>written</td>\n",
       "      <td>10.973914</td>\n",
       "    </tr>\n",
       "    <tr>\n",
       "      <th>48136</th>\n",
       "      <td>wrong</td>\n",
       "      <td>20.933922</td>\n",
       "    </tr>\n",
       "    <tr>\n",
       "      <th>49489</th>\n",
       "      <td>yeah</td>\n",
       "      <td>11.205732</td>\n",
       "    </tr>\n",
       "    <tr>\n",
       "      <th>49492</th>\n",
       "      <td>year</td>\n",
       "      <td>33.795338</td>\n",
       "    </tr>\n",
       "    <tr>\n",
       "      <th>49504</th>\n",
       "      <td>years</td>\n",
       "      <td>26.924216</td>\n",
       "    </tr>\n",
       "  </tbody>\n",
       "</table>\n",
       "<p>318 rows × 2 columns</p>\n",
       "</div>"
      ],
      "text/plain": [
       "       Palabra      Valor\n",
       "209     access  16.263734\n",
       "433        add  10.743238\n",
       "452    address  20.220700\n",
       "579    advance  28.603186\n",
       "779        ago  16.695851\n",
       "...        ...        ...\n",
       "48130  written  10.973914\n",
       "48136    wrong  20.933922\n",
       "49489     yeah  11.205732\n",
       "49492     year  33.795338\n",
       "49504    years  26.924216\n",
       "\n",
       "[318 rows x 2 columns]"
      ]
     },
     "execution_count": 156,
     "metadata": {},
     "output_type": "execute_result"
    },
    {
     "data": {
      "image/png": "[encoded data removed]",
      "text/plain": [
       "<Figure size 640x480 with 1 Axes>"
      ]
     },
     "metadata": {},
     "output_type": "display_data"
    }
   ],
   "source": [
    "a, b, c = descriptivo(dict_b10)\n",
    "\n",
    "c"
   ]
  },
  {
   "cell_type": "code",
   "execution_count": 157,
   "id": "cbf8bdcc",
   "metadata": {},
   "outputs": [],
   "source": [
    "ng_b10.to_pickle('20newsgroups_b10.pkl')"
   ]
  },
  {
   "cell_type": "markdown",
   "id": "52e90bd7",
   "metadata": {},
   "source": [
    "## Muestra total"
   ]
  },
  {
   "cell_type": "code",
   "execution_count": 70,
   "id": "6a746c91",
   "metadata": {
    "scrolled": true
   },
   "outputs": [
    {
     "name": "stdout",
     "output_type": "stream",
     "text": [
      "<class 'pandas.core.frame.DataFrame'>\n",
      "RangeIndex: 18266 entries, 0 to 18265\n",
      "Data columns (total 4 columns):\n",
      " #   Column        Non-Null Count  Dtype \n",
      "---  ------        --------------  ----- \n",
      " 0   id_documento  18266 non-null  int64 \n",
      " 1   Grupo         18266 non-null  object\n",
      " 2   Documento     18266 non-null  object\n",
      " 3   Target        18266 non-null  int64 \n",
      "dtypes: int64(2), object(2)\n",
      "memory usage: 570.9+ KB\n"
     ]
    }
   ],
   "source": [
    "ng_20.info()"
   ]
  },
  {
   "cell_type": "code",
   "execution_count": 61,
   "id": "4a0e7263",
   "metadata": {},
   "outputs": [],
   "source": [
    "embeddings = [texto_a_embedding(doc) for doc in ng_20['Documento']]\n",
    "\n",
    "ng_20['Embedding'] = embeddings"
   ]
  },
  {
   "cell_type": "code",
   "execution_count": 62,
   "id": "11393767",
   "metadata": {},
   "outputs": [
    {
     "data": {
      "text/html": [
       "<div>\n",
       "<style scoped>\n",
       "    .dataframe tbody tr th:only-of-type {\n",
       "        vertical-align: middle;\n",
       "    }\n",
       "\n",
       "    .dataframe tbody tr th {\n",
       "        vertical-align: top;\n",
       "    }\n",
       "\n",
       "    .dataframe thead th {\n",
       "        text-align: right;\n",
       "    }\n",
       "</style>\n",
       "<table border=\"1\" class=\"dataframe\">\n",
       "  <thead>\n",
       "    <tr style=\"text-align: right;\">\n",
       "      <th></th>\n",
       "      <th>id_documento</th>\n",
       "      <th>Grupo</th>\n",
       "      <th>Documento</th>\n",
       "      <th>Target</th>\n",
       "      <th>Embedding</th>\n",
       "    </tr>\n",
       "  </thead>\n",
       "  <tbody>\n",
       "    <tr>\n",
       "      <th>198</th>\n",
       "      <td>76496</td>\n",
       "      <td>misc.forsale</td>\n",
       "      <td>inguiry</td>\n",
       "      <td>6</td>\n",
       "      <td>NaN</td>\n",
       "    </tr>\n",
       "    <tr>\n",
       "      <th>1259</th>\n",
       "      <td>68274</td>\n",
       "      <td>comp.windows.x</td>\n",
       "      <td>compwindowsmisc --berry</td>\n",
       "      <td>5</td>\n",
       "      <td>NaN</td>\n",
       "    </tr>\n",
       "    <tr>\n",
       "      <th>3754</th>\n",
       "      <td>53401</td>\n",
       "      <td>alt.atheism</td>\n",
       "      <td>test--</td>\n",
       "      <td>0</td>\n",
       "      <td>NaN</td>\n",
       "    </tr>\n",
       "    <tr>\n",
       "      <th>4459</th>\n",
       "      <td>54092</td>\n",
       "      <td>sci.electronics</td>\n",
       "      <td>ieeegeneral ieeeannounce</td>\n",
       "      <td>12</td>\n",
       "      <td>NaN</td>\n",
       "    </tr>\n",
       "    <tr>\n",
       "      <th>4667</th>\n",
       "      <td>53745</td>\n",
       "      <td>sci.electronics</td>\n",
       "      <td>scienergy</td>\n",
       "      <td>12</td>\n",
       "      <td>NaN</td>\n",
       "    </tr>\n",
       "    <tr>\n",
       "      <th>5886</th>\n",
       "      <td>51689</td>\n",
       "      <td>comp.sys.mac.hardware</td>\n",
       "      <td>hdfd -david</td>\n",
       "      <td>4</td>\n",
       "      <td>NaN</td>\n",
       "    </tr>\n",
       "    <tr>\n",
       "      <th>6666</th>\n",
       "      <td>105021</td>\n",
       "      <td>rec.sport.baseball</td>\n",
       "      <td>baseballalways</td>\n",
       "      <td>9</td>\n",
       "      <td>NaN</td>\n",
       "    </tr>\n",
       "    <tr>\n",
       "      <th>9005</th>\n",
       "      <td>84289</td>\n",
       "      <td>talk.religion.misc</td>\n",
       "      <td>altreligionspam</td>\n",
       "      <td>19</td>\n",
       "      <td>NaN</td>\n",
       "    </tr>\n",
       "    <tr>\n",
       "      <th>9125</th>\n",
       "      <td>104905</td>\n",
       "      <td>rec.sport.baseball</td>\n",
       "      <td>bilinsky</td>\n",
       "      <td>9</td>\n",
       "      <td>NaN</td>\n",
       "    </tr>\n",
       "    <tr>\n",
       "      <th>12027</th>\n",
       "      <td>10635</td>\n",
       "      <td>comp.os.ms-windows.misc</td>\n",
       "      <td>emmexe</td>\n",
       "      <td>2</td>\n",
       "      <td>NaN</td>\n",
       "    </tr>\n",
       "    <tr>\n",
       "      <th>13047</th>\n",
       "      <td>39623</td>\n",
       "      <td>comp.graphics</td>\n",
       "      <td>cd'ing publicationsmayonline siggraphorg</td>\n",
       "      <td>1</td>\n",
       "      <td>NaN</td>\n",
       "    </tr>\n",
       "    <tr>\n",
       "      <th>13174</th>\n",
       "      <td>38775</td>\n",
       "      <td>comp.graphics</td>\n",
       "      <td>spectrumxeroxcom pubmapdem</td>\n",
       "      <td>1</td>\n",
       "      <td>NaN</td>\n",
       "    </tr>\n",
       "    <tr>\n",
       "      <th>13824</th>\n",
       "      <td>67131</td>\n",
       "      <td>comp.windows.x</td>\n",
       "      <td>xtvaappinitialize</td>\n",
       "      <td>5</td>\n",
       "      <td>NaN</td>\n",
       "    </tr>\n",
       "    <tr>\n",
       "      <th>14758</th>\n",
       "      <td>67366</td>\n",
       "      <td>comp.windows.x</td>\n",
       "      <td>xarchie</td>\n",
       "      <td>5</td>\n",
       "      <td>NaN</td>\n",
       "    </tr>\n",
       "    <tr>\n",
       "      <th>14936</th>\n",
       "      <td>38768</td>\n",
       "      <td>comp.graphics</td>\n",
       "      <td>qrttoppm filedi ppmtotga filetga</td>\n",
       "      <td>1</td>\n",
       "      <td>NaN</td>\n",
       "    </tr>\n",
       "    <tr>\n",
       "      <th>15220</th>\n",
       "      <td>66406</td>\n",
       "      <td>comp.windows.x</td>\n",
       "      <td>compwindowsx</td>\n",
       "      <td>5</td>\n",
       "      <td>NaN</td>\n",
       "    </tr>\n",
       "    <tr>\n",
       "      <th>16644</th>\n",
       "      <td>178690</td>\n",
       "      <td>talk.politics.misc</td>\n",
       "      <td>tesrt</td>\n",
       "      <td>18</td>\n",
       "      <td>NaN</td>\n",
       "    </tr>\n",
       "    <tr>\n",
       "      <th>17158</th>\n",
       "      <td>68112</td>\n",
       "      <td>comp.windows.x</td>\n",
       "      <td>exportlcsmiteducontribrsunospatchtarz xsunmult...</td>\n",
       "      <td>5</td>\n",
       "      <td>NaN</td>\n",
       "    </tr>\n",
       "    <tr>\n",
       "      <th>17589</th>\n",
       "      <td>83677</td>\n",
       "      <td>talk.religion.misc</td>\n",
       "      <td>critus</td>\n",
       "      <td>19</td>\n",
       "      <td>NaN</td>\n",
       "    </tr>\n",
       "    <tr>\n",
       "      <th>17848</th>\n",
       "      <td>76495</td>\n",
       "      <td>misc.forsale</td>\n",
       "      <td>inguiry</td>\n",
       "      <td>6</td>\n",
       "      <td>NaN</td>\n",
       "    </tr>\n",
       "  </tbody>\n",
       "</table>\n",
       "</div>"
      ],
      "text/plain": [
       "       id_documento                    Grupo  \\\n",
       "198           76496             misc.forsale   \n",
       "1259          68274           comp.windows.x   \n",
       "3754          53401              alt.atheism   \n",
       "4459          54092          sci.electronics   \n",
       "4667          53745          sci.electronics   \n",
       "5886          51689    comp.sys.mac.hardware   \n",
       "6666         105021       rec.sport.baseball   \n",
       "9005          84289       talk.religion.misc   \n",
       "9125         104905       rec.sport.baseball   \n",
       "12027         10635  comp.os.ms-windows.misc   \n",
       "13047         39623            comp.graphics   \n",
       "13174         38775            comp.graphics   \n",
       "13824         67131           comp.windows.x   \n",
       "14758         67366           comp.windows.x   \n",
       "14936         38768            comp.graphics   \n",
       "15220         66406           comp.windows.x   \n",
       "16644        178690       talk.politics.misc   \n",
       "17158         68112           comp.windows.x   \n",
       "17589         83677       talk.religion.misc   \n",
       "17848         76495             misc.forsale   \n",
       "\n",
       "                                               Documento  Target Embedding  \n",
       "198                                              inguiry       6       NaN  \n",
       "1259                             compwindowsmisc --berry       5       NaN  \n",
       "3754                                              test--       0       NaN  \n",
       "4459                            ieeegeneral ieeeannounce      12       NaN  \n",
       "4667                                           scienergy      12       NaN  \n",
       "5886                                         hdfd -david       4       NaN  \n",
       "6666                                      baseballalways       9       NaN  \n",
       "9005                                     altreligionspam      19       NaN  \n",
       "9125                                            bilinsky       9       NaN  \n",
       "12027                                             emmexe       2       NaN  \n",
       "13047           cd'ing publicationsmayonline siggraphorg       1       NaN  \n",
       "13174                         spectrumxeroxcom pubmapdem       1       NaN  \n",
       "13824                                  xtvaappinitialize       5       NaN  \n",
       "14758                                            xarchie       5       NaN  \n",
       "14936                   qrttoppm filedi ppmtotga filetga       1       NaN  \n",
       "15220                                       compwindowsx       5       NaN  \n",
       "16644                                              tesrt      18       NaN  \n",
       "17158  exportlcsmiteducontribrsunospatchtarz xsunmult...       5       NaN  \n",
       "17589                                             critus      19       NaN  \n",
       "17848                                            inguiry       6       NaN  "
      ]
     },
     "execution_count": 62,
     "metadata": {},
     "output_type": "execute_result"
    }
   ],
   "source": [
    "ng_20[ng_20['Embedding'].isnull()]"
   ]
  },
  {
   "cell_type": "code",
   "execution_count": 79,
   "id": "bb3f65cb",
   "metadata": {},
   "outputs": [],
   "source": [
    "ng_20 = ng_20.drop(ng_20[ng_20['Embedding'].isnull()].index)"
   ]
  },
  {
   "cell_type": "code",
   "execution_count": 68,
   "id": "367ffd4f",
   "metadata": {
    "scrolled": true
   },
   "outputs": [
    {
     "name": "stdout",
     "output_type": "stream",
     "text": [
      "<class 'pandas.core.frame.DataFrame'>\n",
      "Int64Index: 18246 entries, 0 to 18265\n",
      "Data columns (total 5 columns):\n",
      " #   Column        Non-Null Count  Dtype \n",
      "---  ------        --------------  ----- \n",
      " 0   id_documento  18246 non-null  int64 \n",
      " 1   Grupo         18246 non-null  object\n",
      " 2   Documento     18246 non-null  object\n",
      " 3   Target        18246 non-null  int64 \n",
      " 4   Embedding     18246 non-null  object\n",
      "dtypes: int64(2), object(3)\n",
      "memory usage: 855.3+ KB\n"
     ]
    }
   ],
   "source": [
    "ng_20.info()"
   ]
  },
  {
   "cell_type": "code",
   "execution_count": 81,
   "id": "6f465b56",
   "metadata": {},
   "outputs": [],
   "source": [
    "ng_20.to_pickle('20newsgroups_embd_all.pkl')"
   ]
  }
 ],
 "metadata": {
  "kernelspec": {
   "display_name": "Python 3 (ipykernel)",
   "language": "python",
   "name": "python3"
  },
  "language_info": {
   "codemirror_mode": {
    "name": "ipython",
    "version": 3
   },
   "file_extension": ".py",
   "mimetype": "text/x-python",
   "name": "python",
   "nbconvert_exporter": "python",
   "pygments_lexer": "ipython3",
   "version": "3.9.15"
  }
 },
 "nbformat": 4,
 "nbformat_minor": 5
}
