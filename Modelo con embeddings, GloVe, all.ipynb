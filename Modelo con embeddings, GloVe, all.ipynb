{
 "cells": [
  {
   "cell_type": "markdown",
   "id": "8d7a7926",
   "metadata": {},
   "source": [
    "# Modelo con embeddings"
   ]
  },
  {
   "cell_type": "code",
   "execution_count": 1,
   "id": "59bf07bd",
   "metadata": {},
   "outputs": [
    {
     "name": "stderr",
     "output_type": "stream",
     "text": [
      "D:\\anaconda3\\lib\\site-packages\\scipy\\__init__.py:155: UserWarning: A NumPy version >=1.18.5 and <1.26.0 is required for this version of SciPy (detected version 1.26.1\n",
      "  warnings.warn(f\"A NumPy version >={np_minversion} and <{np_maxversion}\"\n"
     ]
    }
   ],
   "source": [
    "import numpy as np\n",
    "import pandas as pd\n",
    "import tensorflow as tf\n",
    "import matplotlib.pyplot as plt\n",
    "import seaborn as sns\n",
    "\n",
    "from sklearn.model_selection import train_test_split"
   ]
  },
  {
   "cell_type": "markdown",
   "id": "7c2ce5dd",
   "metadata": {},
   "source": [
    "## Ateísmo vs autos"
   ]
  },
  {
   "cell_type": "code",
   "execution_count": 172,
   "id": "b5d8ea0e",
   "metadata": {},
   "outputs": [
    {
     "data": {
      "text/html": [
       "<div>\n",
       "<style scoped>\n",
       "    .dataframe tbody tr th:only-of-type {\n",
       "        vertical-align: middle;\n",
       "    }\n",
       "\n",
       "    .dataframe tbody tr th {\n",
       "        vertical-align: top;\n",
       "    }\n",
       "\n",
       "    .dataframe thead th {\n",
       "        text-align: right;\n",
       "    }\n",
       "</style>\n",
       "<table border=\"1\" class=\"dataframe\">\n",
       "  <thead>\n",
       "    <tr style=\"text-align: right;\">\n",
       "      <th></th>\n",
       "      <th>id_documento</th>\n",
       "      <th>Grupo</th>\n",
       "      <th>Documento</th>\n",
       "      <th>Target</th>\n",
       "      <th>Embedding</th>\n",
       "    </tr>\n",
       "  </thead>\n",
       "  <tbody>\n",
       "    <tr>\n",
       "      <th>14</th>\n",
       "      <td>53347</td>\n",
       "      <td>alt.atheism</td>\n",
       "      <td>notion heliocentric galacticentric -----------...</td>\n",
       "      <td>0</td>\n",
       "      <td>[0.31788067147135735, -0.19147165988882384, -0...</td>\n",
       "    </tr>\n",
       "    <tr>\n",
       "      <th>20</th>\n",
       "      <td>103698</td>\n",
       "      <td>rec.autos</td>\n",
       "      <td>buy chevy gmc size pickup extended cab opinion...</td>\n",
       "      <td>7</td>\n",
       "      <td>[0.030914567030966282, 0.26029603904113174, -0...</td>\n",
       "    </tr>\n",
       "    <tr>\n",
       "      <th>29</th>\n",
       "      <td>54189</td>\n",
       "      <td>alt.atheism</td>\n",
       "      <td>relativist answer question phrase question una...</td>\n",
       "      <td>0</td>\n",
       "      <td>[-0.1474168705853059, 0.1291574453340566, -0.1...</td>\n",
       "    </tr>\n",
       "    <tr>\n",
       "      <th>30</th>\n",
       "      <td>103781</td>\n",
       "      <td>rec.autos</td>\n",
       "      <td>write resource consumer compare model automobi...</td>\n",
       "      <td>7</td>\n",
       "      <td>[-0.1360333832670693, 0.24755564579498712, 0.0...</td>\n",
       "    </tr>\n",
       "    <tr>\n",
       "      <th>43</th>\n",
       "      <td>102769</td>\n",
       "      <td>rec.autos</td>\n",
       "      <td>archive rec autospart automotive articles arch...</td>\n",
       "      <td>7</td>\n",
       "      <td>[0.06553854725577614, -0.08145841294687918, 0....</td>\n",
       "    </tr>\n",
       "  </tbody>\n",
       "</table>\n",
       "</div>"
      ],
      "text/plain": [
       "    id_documento        Grupo  \\\n",
       "14         53347  alt.atheism   \n",
       "20        103698    rec.autos   \n",
       "29         54189  alt.atheism   \n",
       "30        103781    rec.autos   \n",
       "43        102769    rec.autos   \n",
       "\n",
       "                                            Documento  Target  \\\n",
       "14  notion heliocentric galacticentric -----------...       0   \n",
       "20  buy chevy gmc size pickup extended cab opinion...       7   \n",
       "29  relativist answer question phrase question una...       0   \n",
       "30  write resource consumer compare model automobi...       7   \n",
       "43  archive rec autospart automotive articles arch...       7   \n",
       "\n",
       "                                            Embedding  \n",
       "14  [0.31788067147135735, -0.19147165988882384, -0...  \n",
       "20  [0.030914567030966282, 0.26029603904113174, -0...  \n",
       "29  [-0.1474168705853059, 0.1291574453340566, -0.1...  \n",
       "30  [-0.1360333832670693, 0.24755564579498712, 0.0...  \n",
       "43  [0.06553854725577614, -0.08145841294687918, 0....  "
      ]
     },
     "execution_count": 172,
     "metadata": {},
     "output_type": "execute_result"
    }
   ],
   "source": [
    "ng_ateauto = pd.read_pickle('20newsgroups_ateauto_embd_all.pkl')\n",
    "\n",
    "ng_ateauto.head()"
   ]
  },
  {
   "cell_type": "code",
   "execution_count": 173,
   "id": "d063b8f0",
   "metadata": {
    "scrolled": false
   },
   "outputs": [
    {
     "name": "stdout",
     "output_type": "stream",
     "text": [
      "<class 'pandas.core.frame.DataFrame'>\n",
      "Int64Index: 1705 entries, 14 to 18265\n",
      "Data columns (total 5 columns):\n",
      " #   Column        Non-Null Count  Dtype \n",
      "---  ------        --------------  ----- \n",
      " 0   id_documento  1705 non-null   int64 \n",
      " 1   Grupo         1705 non-null   object\n",
      " 2   Documento     1705 non-null   object\n",
      " 3   Target        1705 non-null   int64 \n",
      " 4   Embedding     1705 non-null   object\n",
      "dtypes: int64(2), object(3)\n",
      "memory usage: 79.9+ KB\n"
     ]
    }
   ],
   "source": [
    "ng_ateauto.info()"
   ]
  },
  {
   "cell_type": "code",
   "execution_count": 174,
   "id": "75fb6267",
   "metadata": {},
   "outputs": [],
   "source": [
    "ng_ateauto['Target'] = ng_ateauto['Target'].replace({7:1})"
   ]
  },
  {
   "cell_type": "markdown",
   "id": "b44ee451",
   "metadata": {},
   "source": [
    "Definimos una función que genera el modelo y lo evalúa con cross_validation\n",
    "\n",
    "**DESCRIBIR BIEN**"
   ]
  },
  {
   "cell_type": "code",
   "execution_count": 2,
   "id": "c6ed076a",
   "metadata": {},
   "outputs": [],
   "source": [
    "from sklearn.metrics import accuracy_score, precision_score, recall_score, f1_score\n",
    ", classification_report\n",
    "\n",
    "\n",
    "def metricas(y_val, y_pred):\n",
    "    \n",
    "# Calcular Accuracy (Precisión)\n",
    "    accuracy = accuracy_score(y_val, y_pred)\n",
    "    print(f'Accuracy: {accuracy:.4f}')\n",
    "\n",
    "# Calcular Precision (Precisión)\n",
    "    precision = precision_score(y_val, y_pred, average='macro')  # 'macro' para clasificación multiclase\n",
    "    print(f'Precision: {precision:.4f}')\n",
    "\n",
    "# Calcular Recall (Recuperación)\n",
    "    recall = recall_score(y_val, y_pred, average='macro')  # 'macro' para clasificación multiclase\n",
    "    print(f'Recall: {recall:.4f}')\n",
    "\n",
    "# Calcular F1-Score\n",
    "    f1 = f1_score(y_val, y_pred, average='macro')  # 'macro' para clasificación multiclase\n",
    "    print(f'F1-Score: {f1:.4f}')\n",
    "    \n",
    "# Matriz de Confusión\n",
    "#     conf_matrix = confusion_matrix(y_val, y_pred)\n",
    "#     print('Matriz de Confusión:')\n",
    "#     print(conf_matrix)\n",
    "    cm = confusion_matrix(y_val, y_pred)\n",
    "    plt.figure(figsize=(8, 6))\n",
    "    sns.heatmap(cm, annot=True, cmap='Blues', fmt='g', cbar=False)\n",
    "    plt.xlabel('Predicted')\n",
    "    plt.ylabel('True')\n",
    "    plt.title('Confusion Matrix')\n",
    "    plt.show()\n",
    "\n",
    "\n",
    "# Reporte de Clasificación\n",
    "    class_report = classification_report(y_val, y_pred)\n",
    "    print('Reporte de Clasificación:')\n",
    "    print(class_report)\n"
   ]
  },
  {
   "cell_type": "code",
   "execution_count": 3,
   "id": "9fa49b4a",
   "metadata": {},
   "outputs": [],
   "source": [
    "from tensorflow.keras.models import Sequential\n",
    "from tensorflow.keras.layers import Dense\n",
    "from tensorflow.keras.optimizers import SGD\n",
    "\n",
    "class red:\n",
    "    def __init__(self, hidden_units, output_units, activation, epochs, batch_size, callbacks):\n",
    "        self.hidden_units = hidden_units\n",
    "        self.output_units = output_units\n",
    "        self.activation = activation\n",
    "        self.epochs = epochs\n",
    "        self.batch_size = batch_size\n",
    "        self.callbacks = callbacks\n",
    "        self.model = self._build_model()\n",
    "\n",
    "    def _build_model(self):\n",
    "        \n",
    "        if type(self.hidden_units) == int:\n",
    "            model = tf.keras.Sequential([\n",
    "                tf.keras.layers.Dense(self.hidden_units, activation='relu', input_shape=(300,)),\n",
    "                tf.keras.layers.Dense(self.output_units, activation=self.activation)\n",
    "            ])\n",
    "        else:\n",
    "            model = tf.keras.Sequential([\n",
    "                tf.keras.layers.Dense(self.hidden_units[0], activation='relu', input_shape=(300,)),\n",
    "                tf.keras.layers.Dense(self.hidden_units[1], activation='relu'),\n",
    "                tf.keras.layers.Dense(self.output_units, activation=self.activation)\n",
    "            ])\n",
    "            \n",
    "        return model\n",
    "\n",
    "    def compilar(self, f_perdida, optimizer='adam', metrics=['accuracy']):\n",
    "        self.model.compile(optimizer=optimizer, loss=f_perdida, metrics=metrics)\n",
    "\n",
    "    def entrenar(self, x_train, y_train, validation_data):\n",
    "        self.model.fit(x_train, y_train, validation_data=validation_data, epochs=self.epochs, batch_size=self.batch_size, verbose=0, callbacks=self.callbacks)\n",
    "\n",
    "    def evaluar(self, x_test, y_test):\n",
    "        return self.model.evaluate(x_test, y_test)\n",
    "    \n",
    "    def predecir(self, x_test):\n",
    "        return self.model.predict(x_test)\n",
    "    \n",
    "    def reentrenar(self, x_train, y_train):\n",
    "        self.model.fit(x_train, y_train, epochs=self.epochs, batch_size=self.batch_size, verbose=0, callbacks=self.callbacks)\n"
   ]
  },
  {
   "cell_type": "code",
   "execution_count": 16,
   "id": "85e13c15",
   "metadata": {},
   "outputs": [],
   "source": [
    "from sklearn.model_selection import KFold\n",
    "from tensorflow.keras.callbacks import EarlyStopping\n",
    "from sklearn.metrics import confusion_matrix\n",
    "\n",
    "def modelaje_n(X, y, hidden_units = [128, 64], epochs=100, batch_size=128, parar=True, show=False):\n",
    "    \n",
    "    if type(y[0])==np.int64:\n",
    "        n = 1\n",
    "        f_perdida = 'binary_crossentropy'\n",
    "        activacion = 'sigmoid'\n",
    "    else:\n",
    "        n = len(y[0])\n",
    "        f_perdida = 'categorical_crossentropy'\n",
    "        activacion = 'softmax'\n",
    "        \n",
    "    \n",
    "    X_tensor = np.asarray([tf.constant(arr) for arr in X])\n",
    "    y_tensor = np.asarray([tf.constant(arr) for arr in y])\n",
    "    \n",
    "    parada = EarlyStopping(monitor='val_loss', patience=3, restore_best_weights=True) if parar else 'None'\n",
    "    \n",
    "    kfold = KFold(n_splits=4, shuffle=True, random_state=2808)\n",
    "\n",
    "    accuracies = []\n",
    "    \n",
    "    \n",
    "    for train_index, val_index in kfold.split(X_tensor):\n",
    "        X_train, X_val = X_tensor[train_index], X_tensor[val_index]\n",
    "        y_train, y_val = y_tensor[train_index], y_tensor[val_index]\n",
    "\n",
    "        modelo = red(hidden_units = hidden_units, output_units=n, activation=activacion, epochs=epochs, batch_size=batch_size, callbacks=[parada])\n",
    "        modelo.compilar(f_perdida=f_perdida)\n",
    "        modelo.entrenar(X_train, y_train, validation_data=(X_val, y_val))\n",
    "\n",
    "        loss, accuracy = modelo.evaluar(X_val, y_val)\n",
    "        accuracies.append(accuracy) \n",
    "    \n",
    "    if show:\n",
    "        preds = modelo.predecir(X_val)\n",
    "        \n",
    "        if n == 1:\n",
    "            cm = confusion_matrix(y_val, np.round(preds))\n",
    "        else:\n",
    "            cm = confusion_matrix([np.argmax(target) for target in y_val], [np.argmax(pred) for pred in preds])\n",
    "        plt.figure(figsize=(8, 6))\n",
    "        sns.heatmap(cm, annot=True, cmap='Blues', fmt='g', cbar=False)\n",
    "        plt.xlabel('Predicho')\n",
    "        plt.ylabel('Verdadero')\n",
    "        plt.title('Matriz de confusión')\n",
    "        plt.show()\n",
    "        \n",
    "    #modelo.entrenar(X_tensor, y_tensor, validation_data=(X_val, y_val), epochs=epochs, batch_size=batch_size, callbacks=[parada])\n",
    "    \n",
    "    return(modelo, np.mean(accuracies))"
   ]
  },
  {
   "cell_type": "code",
   "execution_count": 5,
   "id": "8d5384b6",
   "metadata": {},
   "outputs": [],
   "source": [
    "def grid_search(X, y, hidden_units = [[128, 64]], epochs=100, batch_sizes=128):\n",
    "    \n",
    "    resultados ={}\n",
    "    modelo_final = None\n",
    "    accuracy_final = 0\n",
    "    \n",
    "    for hidden_unit in hidden_units:\n",
    "        for epoch in epochs:\n",
    "            for batch_size in batch_sizes:\n",
    "                print(f'Modelo con {hidden_unit}, {epoch}, {batch_size}')\n",
    "                modelo, accuracy = modelaje_n(X, y, hidden_unit, epoch, batch_size)\n",
    "                print(accuracy*100)\n",
    "                if accuracy > accuracy_final:\n",
    "                    modelo_final = modelo\n",
    "                if isinstance(hidden_unit, list):\n",
    "                    resultados[(tuple(hidden_unit), epoch, batch_size)] = accuracy\n",
    "                else:\n",
    "                    resultados[(hidden_unit, epoch, batch_size)] = accuracy\n",
    "                \n",
    "                \n",
    "    return modelo_final, resultados"
   ]
  },
  {
   "cell_type": "code",
   "execution_count": 25,
   "id": "48c30045",
   "metadata": {},
   "outputs": [],
   "source": [
    "from sklearn.metrics import accuracy_score\n",
    "\n",
    "def comprobar(y_val, y_pred):\n",
    "   \n",
    "    if type(y_val[0])==np.int64:\n",
    "        y_pred = np.round(y_pred)\n",
    "    else:\n",
    "        y_val = [np.argmax(target) for target in y_val]\n",
    "        y_pred = [np.argmax(pred) for pred in y_pred]\n",
    "    cm = confusion_matrix(y_val, y_pred)\n",
    "    plt.figure(figsize=(8, 6))\n",
    "    sns.heatmap(cm, annot=True, cmap='Blues', fmt='g', cbar=False)\n",
    "    plt.xlabel('Predicho')\n",
    "    plt.ylabel('Verdadero')\n",
    "    plt.title('Matriz de confusión')\n",
    "    plt.show()\n",
    "    \n",
    "    return accuracy_score(y_val, y_pred) "
   ]
  },
  {
   "cell_type": "code",
   "execution_count": 175,
   "id": "51f3bb2f",
   "metadata": {},
   "outputs": [],
   "source": [
    "X, y = ng_ateauto['Embedding'].values, ng_ateauto['Target'].values\n",
    "\n",
    "X_train, X_val, y_train, y_val = train_test_split(X, y, test_size=0.2, random_state=23)"
   ]
  },
  {
   "cell_type": "code",
   "execution_count": 177,
   "id": "2d59928c",
   "metadata": {},
   "outputs": [
    {
     "name": "stdout",
     "output_type": "stream",
     "text": [
      "Modelo con [64, 10], 80, 100\n",
      "11/11 [==============================] - 0s 2ms/step - loss: 0.1772 - accuracy: 0.9413\n",
      "11/11 [==============================] - 0s 3ms/step - loss: 0.1324 - accuracy: 0.9560\n",
      "11/11 [==============================] - 0s 6ms/step - loss: 0.1877 - accuracy: 0.9443\n",
      "11/11 [==============================] - 0s 3ms/step - loss: 0.1402 - accuracy: 0.9413\n",
      "94.57477927207947\n",
      "Modelo con [64, 10], 80, 200\n",
      "11/11 [==============================] - 0s 4ms/step - loss: 0.1809 - accuracy: 0.9384\n",
      "11/11 [==============================] - 0s 2ms/step - loss: 0.1382 - accuracy: 0.9589\n",
      "11/11 [==============================] - 0s 2ms/step - loss: 0.1791 - accuracy: 0.9443\n",
      "11/11 [==============================] - 0s 2ms/step - loss: 0.1343 - accuracy: 0.9355\n",
      "94.428151845932\n",
      "Modelo con [64, 10], 150, 100\n",
      "11/11 [==============================] - 0s 2ms/step - loss: 0.1814 - accuracy: 0.9443\n",
      "11/11 [==============================] - 0s 2ms/step - loss: 0.1269 - accuracy: 0.9531\n",
      "11/11 [==============================] - 0s 2ms/step - loss: 0.1811 - accuracy: 0.9384\n",
      "11/11 [==============================] - 0s 2ms/step - loss: 0.1382 - accuracy: 0.9296\n",
      "94.13489699363708\n",
      "Modelo con [64, 10], 150, 200\n",
      "11/11 [==============================] - 0s 1ms/step - loss: 0.1710 - accuracy: 0.9531\n",
      "11/11 [==============================] - 0s 3ms/step - loss: 0.1348 - accuracy: 0.9472\n",
      "11/11 [==============================] - 0s 2ms/step - loss: 0.1806 - accuracy: 0.9413\n",
      "11/11 [==============================] - 0s 4ms/step - loss: 0.1292 - accuracy: 0.9443\n",
      "94.6480929851532\n",
      "Modelo con 100, 80, 100\n",
      "11/11 [==============================] - 0s 2ms/step - loss: 0.1796 - accuracy: 0.9472\n",
      "11/11 [==============================] - 0s 2ms/step - loss: 0.1328 - accuracy: 0.9531\n",
      "11/11 [==============================] - 0s 1ms/step - loss: 0.1924 - accuracy: 0.9384\n",
      "11/11 [==============================] - 0s 1ms/step - loss: 0.1372 - accuracy: 0.9326\n",
      "94.28152441978455\n",
      "Modelo con 100, 80, 200\n",
      "11/11 [==============================] - 0s 2ms/step - loss: 0.1843 - accuracy: 0.9443\n",
      "11/11 [==============================] - 0s 2ms/step - loss: 0.1243 - accuracy: 0.9560\n",
      "11/11 [==============================] - 0s 2ms/step - loss: 0.1821 - accuracy: 0.9472\n",
      "11/11 [==============================] - 0s 1ms/step - loss: 0.1311 - accuracy: 0.9384\n",
      "94.6480929851532\n",
      "Modelo con 100, 150, 100\n",
      "11/11 [==============================] - 0s 2ms/step - loss: 0.1731 - accuracy: 0.9384\n",
      "11/11 [==============================] - 0s 2ms/step - loss: 0.1274 - accuracy: 0.9560\n",
      "11/11 [==============================] - 0s 2ms/step - loss: 0.1903 - accuracy: 0.9443\n",
      "11/11 [==============================] - 0s 2ms/step - loss: 0.1388 - accuracy: 0.9384\n",
      "94.428151845932\n",
      "Modelo con 100, 150, 200\n",
      "11/11 [==============================] - 0s 2ms/step - loss: 0.1806 - accuracy: 0.9384\n",
      "11/11 [==============================] - 0s 2ms/step - loss: 0.1285 - accuracy: 0.9560\n",
      "11/11 [==============================] - 0s 2ms/step - loss: 0.1958 - accuracy: 0.9413\n",
      "11/11 [==============================] - 0s 2ms/step - loss: 0.1398 - accuracy: 0.9296\n",
      "94.13489699363708\n",
      "Modelo con [80, 20], 80, 100\n",
      "11/11 [==============================] - 0s 2ms/step - loss: 0.1824 - accuracy: 0.9472\n",
      "11/11 [==============================] - 0s 1ms/step - loss: 0.1333 - accuracy: 0.9531\n",
      "11/11 [==============================] - 0s 1ms/step - loss: 0.1886 - accuracy: 0.9472\n",
      "11/11 [==============================] - 0s 2ms/step - loss: 0.1348 - accuracy: 0.9472\n",
      "94.86803412437439\n",
      "Modelo con [80, 20], 80, 200\n",
      "11/11 [==============================] - 0s 2ms/step - loss: 0.1859 - accuracy: 0.9413\n",
      "11/11 [==============================] - 0s 2ms/step - loss: 0.1301 - accuracy: 0.9560\n",
      "11/11 [==============================] - 0s 2ms/step - loss: 0.1952 - accuracy: 0.9413\n",
      "11/11 [==============================] - 0s 1ms/step - loss: 0.1387 - accuracy: 0.9355\n",
      "94.35483813285828\n",
      "Modelo con [80, 20], 150, 100\n",
      "11/11 [==============================] - 0s 1ms/step - loss: 0.1802 - accuracy: 0.9384\n",
      "11/11 [==============================] - 0s 2ms/step - loss: 0.1272 - accuracy: 0.9531\n",
      "11/11 [==============================] - 0s 2ms/step - loss: 0.1862 - accuracy: 0.9501\n",
      "11/11 [==============================] - 0s 2ms/step - loss: 0.1277 - accuracy: 0.9413\n",
      "94.57477927207947\n",
      "Modelo con [80, 20], 150, 200\n",
      "11/11 [==============================] - 0s 2ms/step - loss: 0.1746 - accuracy: 0.9443\n",
      "11/11 [==============================] - 0s 2ms/step - loss: 0.1264 - accuracy: 0.9531\n",
      "11/11 [==============================] - 0s 2ms/step - loss: 0.1816 - accuracy: 0.9472\n",
      "11/11 [==============================] - 0s 2ms/step - loss: 0.1371 - accuracy: 0.9413\n",
      "94.6480929851532\n"
     ]
    }
   ],
   "source": [
    "hidden_units = [[64, 10], 100, [80, 20]]\n",
    "epochs=[80, 150]\n",
    "batch_sizes=[100, 200]\n",
    "\n",
    "modelo_ateauto, resultados = grid_search(X_train, y_train, hidden_units, epochs, batch_sizes)"
   ]
  },
  {
   "cell_type": "code",
   "execution_count": 178,
   "id": "8eed2031",
   "metadata": {},
   "outputs": [
    {
     "data": {
      "text/plain": [
       "{((80, 20), 80, 100): 0.9486803412437439,\n",
       " ((64, 10), 150, 200): 0.946480929851532,\n",
       " (100, 80, 200): 0.946480929851532,\n",
       " ((80, 20), 150, 200): 0.946480929851532,\n",
       " ((64, 10), 80, 100): 0.9457477927207947,\n",
       " ((80, 20), 150, 100): 0.9457477927207947,\n",
       " ((64, 10), 80, 200): 0.9442815184593201,\n",
       " (100, 150, 100): 0.9442815184593201,\n",
       " ((80, 20), 80, 200): 0.9435483813285828,\n",
       " (100, 80, 100): 0.9428152441978455,\n",
       " ((64, 10), 150, 100): 0.9413489699363708,\n",
       " (100, 150, 200): 0.9413489699363708}"
      ]
     },
     "execution_count": 178,
     "metadata": {},
     "output_type": "execute_result"
    }
   ],
   "source": [
    "dict(sorted(resultados.items(), key=lambda item: item[1], reverse=True))"
   ]
  },
  {
   "cell_type": "markdown",
   "id": "5963b11f",
   "metadata": {},
   "source": [
    "Nos quedamos con el modelo de [64,10], 80, 100"
   ]
  },
  {
   "cell_type": "code",
   "execution_count": 185,
   "id": "0933b590",
   "metadata": {},
   "outputs": [
    {
     "name": "stdout",
     "output_type": "stream",
     "text": [
      "43/43 [==============================] - 0s 3ms/step - loss: 0.0801 - accuracy: 0.9736\n"
     ]
    },
    {
     "data": {
      "text/plain": [
       "<keras.src.callbacks.History at 0x218b59a5460>"
      ]
     },
     "execution_count": 185,
     "metadata": {},
     "output_type": "execute_result"
    }
   ],
   "source": [
    "X_tensor, y_tensor = np.asarray([tf.constant(arr) for arr in X_train]), np.asarray([tf.constant(arr) for arr in y_train])\n",
    "\n",
    "modelo_ateauto.model.fit(X_tensor, y_tensor)"
   ]
  },
  {
   "cell_type": "code",
   "execution_count": 186,
   "id": "4e6d6672",
   "metadata": {},
   "outputs": [
    {
     "name": "stdout",
     "output_type": "stream",
     "text": [
      "11/11 [==============================] - 0s 2ms/step\n"
     ]
    }
   ],
   "source": [
    "X_val_tensor = np.asarray([tf.constant(arr) for arr in X_val])\n",
    "\n",
    "preds = modelo_ateauto.predecir(X_val_tensor)"
   ]
  },
  {
   "cell_type": "code",
   "execution_count": 187,
   "id": "35d07a5c",
   "metadata": {},
   "outputs": [
    {
     "data": {
      "image/png": "[encoded data removed]",
      "text/plain": [
       "<Figure size 800x600 with 1 Axes>"
      ]
     },
     "metadata": {},
     "output_type": "display_data"
    },
    {
     "data": {
      "text/plain": [
       "0.9589442815249267"
      ]
     },
     "execution_count": 187,
     "metadata": {},
     "output_type": "execute_result"
    }
   ],
   "source": [
    "acc_ateauto = comprobar(y_val, preds)\n",
    "acc_ateauto"
   ]
  },
  {
   "cell_type": "markdown",
   "id": "fb6c0bcf",
   "metadata": {},
   "source": [
    "## A4"
   ]
  },
  {
   "cell_type": "code",
   "execution_count": 8,
   "id": "57a5d5e4",
   "metadata": {
    "scrolled": true
   },
   "outputs": [
    {
     "data": {
      "text/html": [
       "<div>\n",
       "<style scoped>\n",
       "    .dataframe tbody tr th:only-of-type {\n",
       "        vertical-align: middle;\n",
       "    }\n",
       "\n",
       "    .dataframe tbody tr th {\n",
       "        vertical-align: top;\n",
       "    }\n",
       "\n",
       "    .dataframe thead th {\n",
       "        text-align: right;\n",
       "    }\n",
       "</style>\n",
       "<table border=\"1\" class=\"dataframe\">\n",
       "  <thead>\n",
       "    <tr style=\"text-align: right;\">\n",
       "      <th></th>\n",
       "      <th>id_documento</th>\n",
       "      <th>Grupo</th>\n",
       "      <th>Documento</th>\n",
       "      <th>Target</th>\n",
       "      <th>Embedding</th>\n",
       "    </tr>\n",
       "  </thead>\n",
       "  <tbody>\n",
       "    <tr>\n",
       "      <th>13</th>\n",
       "      <td>59022</td>\n",
       "      <td>sci.med</td>\n",
       "      <td>kirlian imaging faq sciskeptic nice write supp...</td>\n",
       "      <td>13</td>\n",
       "      <td>[-0.02201554331589829, 0.2004741860384291, 0.0...</td>\n",
       "    </tr>\n",
       "    <tr>\n",
       "      <th>20</th>\n",
       "      <td>103698</td>\n",
       "      <td>rec.autos</td>\n",
       "      <td>buy chevy gmc size pickup extended cab opinion...</td>\n",
       "      <td>7</td>\n",
       "      <td>[0.030914567030966282, 0.26029603904113174, -0...</td>\n",
       "    </tr>\n",
       "    <tr>\n",
       "      <th>22</th>\n",
       "      <td>38296</td>\n",
       "      <td>comp.graphics</td>\n",
       "      <td>imagine real amiga user real amiga imagine ami...</td>\n",
       "      <td>1</td>\n",
       "      <td>[-0.015612084180750746, 0.010558662978199093, ...</td>\n",
       "    </tr>\n",
       "    <tr>\n",
       "      <th>26</th>\n",
       "      <td>54726</td>\n",
       "      <td>talk.politics.guns</td>\n",
       "      <td>report canadian paper thursday april source up...</td>\n",
       "      <td>16</td>\n",
       "      <td>[-0.274964645613936, 0.14791480858037445, -0.0...</td>\n",
       "    </tr>\n",
       "    <tr>\n",
       "      <th>27</th>\n",
       "      <td>38295</td>\n",
       "      <td>comp.graphics</td>\n",
       "      <td>vmode command type vmode vesa dos prompt vmode...</td>\n",
       "      <td>1</td>\n",
       "      <td>[0.22213156139478088, -0.13350700164834658, 0....</td>\n",
       "    </tr>\n",
       "  </tbody>\n",
       "</table>\n",
       "</div>"
      ],
      "text/plain": [
       "    id_documento               Grupo  \\\n",
       "13         59022             sci.med   \n",
       "20        103698           rec.autos   \n",
       "22         38296       comp.graphics   \n",
       "26         54726  talk.politics.guns   \n",
       "27         38295       comp.graphics   \n",
       "\n",
       "                                            Documento  Target  \\\n",
       "13  kirlian imaging faq sciskeptic nice write supp...      13   \n",
       "20  buy chevy gmc size pickup extended cab opinion...       7   \n",
       "22  imagine real amiga user real amiga imagine ami...       1   \n",
       "26  report canadian paper thursday april source up...      16   \n",
       "27  vmode command type vmode vesa dos prompt vmode...       1   \n",
       "\n",
       "                                            Embedding  \n",
       "13  [-0.02201554331589829, 0.2004741860384291, 0.0...  \n",
       "20  [0.030914567030966282, 0.26029603904113174, -0...  \n",
       "22  [-0.015612084180750746, 0.010558662978199093, ...  \n",
       "26  [-0.274964645613936, 0.14791480858037445, -0.0...  \n",
       "27  [0.22213156139478088, -0.13350700164834658, 0....  "
      ]
     },
     "execution_count": 8,
     "metadata": {},
     "output_type": "execute_result"
    }
   ],
   "source": [
    "ng_a4 = pd.read_pickle('20newsgroups_a4_embd_all.pkl')\n",
    "\n",
    "ng_a4.head()"
   ]
  },
  {
   "cell_type": "code",
   "execution_count": 9,
   "id": "a7289210",
   "metadata": {
    "scrolled": true
   },
   "outputs": [
    {
     "data": {
      "text/plain": [
       "{1, 7, 13, 16}"
      ]
     },
     "execution_count": 9,
     "metadata": {},
     "output_type": "execute_result"
    }
   ],
   "source": [
    "set(ng_a4['Target'])"
   ]
  },
  {
   "cell_type": "code",
   "execution_count": 10,
   "id": "7758dc59",
   "metadata": {},
   "outputs": [],
   "source": [
    "ng_a4['Target'] = ng_a4['Target'].replace({1: 0,\n",
    "                      7: 1,\n",
    "                      13: 2,\n",
    "                      16: 3})"
   ]
  },
  {
   "cell_type": "code",
   "execution_count": 11,
   "id": "7a190f4d",
   "metadata": {},
   "outputs": [],
   "source": [
    "def one_hot_encoding(target, n):\n",
    "    vector = np.zeros(n)\n",
    "    vector[target]= 1\n",
    "    return vector"
   ]
  },
  {
   "cell_type": "code",
   "execution_count": 12,
   "id": "6a6fc567",
   "metadata": {},
   "outputs": [],
   "source": [
    "y_encoded = [one_hot_encoding(target, 4) for target in ng_a4.iloc[:,3]]"
   ]
  },
  {
   "cell_type": "code",
   "execution_count": 13,
   "id": "6593cf33",
   "metadata": {},
   "outputs": [
    {
     "name": "stdout",
     "output_type": "stream",
     "text": [
      "<class 'pandas.core.frame.DataFrame'>\n",
      "Int64Index: 3715 entries, 13 to 18265\n",
      "Data columns (total 5 columns):\n",
      " #   Column        Non-Null Count  Dtype \n",
      "---  ------        --------------  ----- \n",
      " 0   id_documento  3715 non-null   int64 \n",
      " 1   Grupo         3715 non-null   object\n",
      " 2   Documento     3715 non-null   object\n",
      " 3   Target        3715 non-null   int64 \n",
      " 4   Embedding     3715 non-null   object\n",
      "dtypes: int64(2), object(3)\n",
      "memory usage: 174.1+ KB\n"
     ]
    }
   ],
   "source": [
    "ng_a4.info()"
   ]
  },
  {
   "cell_type": "code",
   "execution_count": 14,
   "id": "d2ac718c",
   "metadata": {},
   "outputs": [],
   "source": [
    "X, y = ng_a4['Embedding'].values, y_encoded\n",
    "\n",
    "X_train, X_val, y_train, y_val = train_test_split(X, y, test_size=0.2, random_state=23)"
   ]
  },
  {
   "cell_type": "code",
   "execution_count": 17,
   "id": "770909a0",
   "metadata": {},
   "outputs": [
    {
     "name": "stdout",
     "output_type": "stream",
     "text": [
      "Modelo con [64, 10], 80, 100\n",
      "24/24 [==============================] - 0s 2ms/step - loss: 0.3228 - accuracy: 0.8991\n",
      "24/24 [==============================] - 0s 3ms/step - loss: 0.2028 - accuracy: 0.9394\n",
      "24/24 [==============================] - 0s 2ms/step - loss: 0.2262 - accuracy: 0.9273\n",
      "24/24 [==============================] - 0s 3ms/step - loss: 0.2523 - accuracy: 0.9125\n",
      "91.95827692747116\n",
      "Modelo con [64, 10], 80, 200\n",
      "24/24 [==============================] - 0s 2ms/step - loss: 0.3207 - accuracy: 0.8991\n",
      "24/24 [==============================] - 0s 1ms/step - loss: 0.2287 - accuracy: 0.9300\n",
      "24/24 [==============================] - 0s 2ms/step - loss: 0.2281 - accuracy: 0.9314\n",
      "24/24 [==============================] - 0s 2ms/step - loss: 0.2460 - accuracy: 0.9233\n",
      "92.09286719560623\n",
      "Modelo con [64, 10], 150, 100\n",
      "24/24 [==============================] - 0s 2ms/step - loss: 0.3218 - accuracy: 0.9017\n",
      "24/24 [==============================] - 0s 2ms/step - loss: 0.2430 - accuracy: 0.9314\n",
      "24/24 [==============================] - 0s 2ms/step - loss: 0.2270 - accuracy: 0.9246\n",
      "24/24 [==============================] - 0s 2ms/step - loss: 0.2546 - accuracy: 0.9125\n",
      "91.75639301538467\n",
      "Modelo con [64, 10], 150, 200\n",
      "24/24 [==============================] - 0s 2ms/step - loss: 0.3265 - accuracy: 0.8977\n",
      "24/24 [==============================] - 0s 1ms/step - loss: 0.2204 - accuracy: 0.9381\n",
      "24/24 [==============================] - 0s 2ms/step - loss: 0.2217 - accuracy: 0.9327\n",
      "24/24 [==============================] - 0s 2ms/step - loss: 0.2436 - accuracy: 0.9206\n",
      "92.22745597362518\n",
      "Modelo con 100, 80, 100\n",
      "24/24 [==============================] - 0s 2ms/step - loss: 0.3123 - accuracy: 0.8964\n",
      "24/24 [==============================] - 0s 2ms/step - loss: 0.2136 - accuracy: 0.9381\n",
      "24/24 [==============================] - 0s 2ms/step - loss: 0.2300 - accuracy: 0.9341\n",
      "24/24 [==============================] - 0s 1ms/step - loss: 0.2444 - accuracy: 0.9179\n",
      "92.16016083955765\n",
      "Modelo con 100, 80, 200\n",
      "24/24 [==============================] - 0s 2ms/step - loss: 0.3149 - accuracy: 0.8937\n",
      "24/24 [==============================] - 0s 2ms/step - loss: 0.2190 - accuracy: 0.9354\n",
      "24/24 [==============================] - 0s 2ms/step - loss: 0.2284 - accuracy: 0.9341\n",
      "24/24 [==============================] - 0s 2ms/step - loss: 0.2450 - accuracy: 0.9179\n",
      "92.0255720615387\n",
      "Modelo con 100, 150, 100\n",
      "24/24 [==============================] - 0s 1ms/step - loss: 0.3111 - accuracy: 0.8937\n",
      "24/24 [==============================] - 0s 3ms/step - loss: 0.2165 - accuracy: 0.9381\n",
      "24/24 [==============================] - 0s 2ms/step - loss: 0.2253 - accuracy: 0.9300\n",
      "24/24 [==============================] - 0s 2ms/step - loss: 0.2447 - accuracy: 0.9219\n",
      "92.09286719560623\n",
      "Modelo con 100, 150, 200\n",
      "24/24 [==============================] - 0s 2ms/step - loss: 0.3072 - accuracy: 0.8977\n",
      "24/24 [==============================] - 0s 2ms/step - loss: 0.2258 - accuracy: 0.9341\n",
      "24/24 [==============================] - 0s 2ms/step - loss: 0.2316 - accuracy: 0.9300\n",
      "24/24 [==============================] - 0s 2ms/step - loss: 0.2465 - accuracy: 0.9179\n",
      "91.99192523956299\n",
      "Modelo con [80, 20], 80, 100\n",
      "24/24 [==============================] - 0s 2ms/step - loss: 0.3182 - accuracy: 0.8910\n",
      "24/24 [==============================] - 0s 2ms/step - loss: 0.2099 - accuracy: 0.9327\n",
      "24/24 [==============================] - 0s 2ms/step - loss: 0.2179 - accuracy: 0.9314\n",
      "24/24 [==============================] - 0s 1ms/step - loss: 0.2456 - accuracy: 0.9260\n",
      "92.0255720615387\n",
      "Modelo con [80, 20], 80, 200\n",
      "24/24 [==============================] - 0s 2ms/step - loss: 0.3251 - accuracy: 0.8896\n",
      "24/24 [==============================] - 0s 2ms/step - loss: 0.2205 - accuracy: 0.9327\n",
      "24/24 [==============================] - 0s 3ms/step - loss: 0.2228 - accuracy: 0.9367\n",
      "24/24 [==============================] - 0s 2ms/step - loss: 0.2515 - accuracy: 0.9192\n",
      "91.95827841758728\n",
      "Modelo con [80, 20], 150, 100\n",
      "24/24 [==============================] - 0s 2ms/step - loss: 0.3182 - accuracy: 0.8937\n",
      "24/24 [==============================] - 0s 2ms/step - loss: 0.2154 - accuracy: 0.9367\n",
      "24/24 [==============================] - 0s 2ms/step - loss: 0.2311 - accuracy: 0.9287\n",
      "24/24 [==============================] - 0s 1ms/step - loss: 0.2391 - accuracy: 0.9166\n",
      "91.89098328351974\n",
      "Modelo con [80, 20], 150, 200\n",
      "24/24 [==============================] - 0s 2ms/step - loss: 0.3198 - accuracy: 0.8923\n",
      "24/24 [==============================] - 0s 2ms/step - loss: 0.2199 - accuracy: 0.9367\n",
      "24/24 [==============================] - 0s 2ms/step - loss: 0.2235 - accuracy: 0.9314\n",
      "24/24 [==============================] - 0s 2ms/step - loss: 0.2498 - accuracy: 0.9179\n",
      "91.95827692747116\n"
     ]
    }
   ],
   "source": [
    "hidden_units = [[64, 10], 100, [80, 20]]\n",
    "epochs=[80, 150]\n",
    "batch_sizes=[100, 200]\n",
    "\n",
    "modelo_a4, resultados = grid_search(X_train, y_train, hidden_units, epochs, batch_sizes)"
   ]
  },
  {
   "cell_type": "code",
   "execution_count": 18,
   "id": "ac4af076",
   "metadata": {
    "scrolled": true
   },
   "outputs": [
    {
     "data": {
      "text/plain": [
       "{((64, 10), 150, 200): 0.9222745597362518,\n",
       " (100, 80, 100): 0.9216016083955765,\n",
       " ((64, 10), 80, 200): 0.9209286719560623,\n",
       " (100, 150, 100): 0.9209286719560623,\n",
       " (100, 80, 200): 0.920255720615387,\n",
       " ((80, 20), 80, 100): 0.920255720615387,\n",
       " (100, 150, 200): 0.9199192523956299,\n",
       " ((80, 20), 80, 200): 0.9195827841758728,\n",
       " ((64, 10), 80, 100): 0.9195827692747116,\n",
       " ((80, 20), 150, 200): 0.9195827692747116,\n",
       " ((80, 20), 150, 100): 0.9189098328351974,\n",
       " ((64, 10), 150, 100): 0.9175639301538467}"
      ]
     },
     "execution_count": 18,
     "metadata": {},
     "output_type": "execute_result"
    }
   ],
   "source": [
    "dict(sorted(resultados.items(), key=lambda item: item[1], reverse=True))"
   ]
  },
  {
   "cell_type": "markdown",
   "id": "27d74489",
   "metadata": {},
   "source": [
    "Nos quedamos con el modelo de 100, 150, 200"
   ]
  },
  {
   "cell_type": "code",
   "execution_count": 22,
   "id": "051b0398",
   "metadata": {},
   "outputs": [
    {
     "name": "stdout",
     "output_type": "stream",
     "text": [
      "93/93 [==============================] - 0s 3ms/step - loss: 0.1530 - accuracy: 0.9519\n"
     ]
    },
    {
     "data": {
      "text/plain": [
       "<keras.src.callbacks.History at 0x2184263f220>"
      ]
     },
     "execution_count": 22,
     "metadata": {},
     "output_type": "execute_result"
    }
   ],
   "source": [
    "X_tensor, y_tensor = np.asarray([tf.constant(arr) for arr in X_train]), np.asarray([tf.constant(arr) for arr in y_train])\n",
    "\n",
    "modelo_a4.model.fit(X_tensor, y_tensor)"
   ]
  },
  {
   "cell_type": "code",
   "execution_count": 23,
   "id": "737e0107",
   "metadata": {},
   "outputs": [
    {
     "name": "stdout",
     "output_type": "stream",
     "text": [
      "24/24 [==============================] - 0s 2ms/step\n"
     ]
    }
   ],
   "source": [
    "X_val_tensor = np.asarray([tf.constant(arr) for arr in X_val])\n",
    "\n",
    "preds = modelo_a4.predecir(X_val_tensor)"
   ]
  },
  {
   "cell_type": "code",
   "execution_count": 26,
   "id": "fe290d24",
   "metadata": {},
   "outputs": [
    {
     "data": {
      "image/png": "[encoded data removed]",
      "text/plain": [
       "<Figure size 800x600 with 1 Axes>"
      ]
     },
     "metadata": {},
     "output_type": "display_data"
    },
    {
     "data": {
      "text/plain": [
       "0.9219380888290714"
      ]
     },
     "execution_count": 26,
     "metadata": {},
     "output_type": "execute_result"
    }
   ],
   "source": [
    "acc_a4 = comprobar(y_val, preds)\n",
    "acc_a4"
   ]
  },
  {
   "cell_type": "markdown",
   "id": "4bcb8bca",
   "metadata": {},
   "source": [
    "## B1"
   ]
  },
  {
   "cell_type": "code",
   "execution_count": 27,
   "id": "38281a0e",
   "metadata": {
    "scrolled": true
   },
   "outputs": [
    {
     "data": {
      "text/html": [
       "<div>\n",
       "<style scoped>\n",
       "    .dataframe tbody tr th:only-of-type {\n",
       "        vertical-align: middle;\n",
       "    }\n",
       "\n",
       "    .dataframe tbody tr th {\n",
       "        vertical-align: top;\n",
       "    }\n",
       "\n",
       "    .dataframe thead th {\n",
       "        text-align: right;\n",
       "    }\n",
       "</style>\n",
       "<table border=\"1\" class=\"dataframe\">\n",
       "  <thead>\n",
       "    <tr style=\"text-align: right;\">\n",
       "      <th></th>\n",
       "      <th>id_documento</th>\n",
       "      <th>Grupo</th>\n",
       "      <th>Documento</th>\n",
       "      <th>Target</th>\n",
       "      <th>Embedding</th>\n",
       "    </tr>\n",
       "  </thead>\n",
       "  <tbody>\n",
       "    <tr>\n",
       "      <th>1</th>\n",
       "      <td>60215</td>\n",
       "      <td>comp.sys.ibm.pc.hardware</td>\n",
       "      <td>brother market high performance video card sup...</td>\n",
       "      <td>3</td>\n",
       "      <td>[-0.10741078733865704, 0.16764146474555933, 0....</td>\n",
       "    </tr>\n",
       "    <tr>\n",
       "      <th>3</th>\n",
       "      <td>60771</td>\n",
       "      <td>comp.sys.ibm.pc.hardware</td>\n",
       "      <td>scsi card dma transfer disk scsi card dma tran...</td>\n",
       "      <td>3</td>\n",
       "      <td>[0.2003467861471362, -0.015756689531148456, 0....</td>\n",
       "    </tr>\n",
       "    <tr>\n",
       "      <th>4</th>\n",
       "      <td>51882</td>\n",
       "      <td>comp.sys.mac.hardware</td>\n",
       "      <td>jasmine drive understanding upsate driver mode...</td>\n",
       "      <td>4</td>\n",
       "      <td>[0.0217188625036567, 0.13497258650679742, -0.0...</td>\n",
       "    </tr>\n",
       "    <tr>\n",
       "      <th>6</th>\n",
       "      <td>52099</td>\n",
       "      <td>comp.sys.mac.hardware</td>\n",
       "      <td>dallastry tech support start</td>\n",
       "      <td>4</td>\n",
       "      <td>[-0.03412666668494543, 0.12197666863600413, -0...</td>\n",
       "    </tr>\n",
       "    <tr>\n",
       "      <th>21</th>\n",
       "      <td>68177</td>\n",
       "      <td>comp.windows.x</td>\n",
       "      <td>feature icccm specifie app set title oblige bo...</td>\n",
       "      <td>5</td>\n",
       "      <td>[0.12941412054002285, 0.01326927974820137, -0....</td>\n",
       "    </tr>\n",
       "  </tbody>\n",
       "</table>\n",
       "</div>"
      ],
      "text/plain": [
       "    id_documento                     Grupo  \\\n",
       "1          60215  comp.sys.ibm.pc.hardware   \n",
       "3          60771  comp.sys.ibm.pc.hardware   \n",
       "4          51882     comp.sys.mac.hardware   \n",
       "6          52099     comp.sys.mac.hardware   \n",
       "21         68177            comp.windows.x   \n",
       "\n",
       "                                            Documento  Target  \\\n",
       "1   brother market high performance video card sup...       3   \n",
       "3   scsi card dma transfer disk scsi card dma tran...       3   \n",
       "4   jasmine drive understanding upsate driver mode...       4   \n",
       "6                        dallastry tech support start       4   \n",
       "21  feature icccm specifie app set title oblige bo...       5   \n",
       "\n",
       "                                            Embedding  \n",
       "1   [-0.10741078733865704, 0.16764146474555933, 0....  \n",
       "3   [0.2003467861471362, -0.015756689531148456, 0....  \n",
       "4   [0.0217188625036567, 0.13497258650679742, -0.0...  \n",
       "6   [-0.03412666668494543, 0.12197666863600413, -0...  \n",
       "21  [0.12941412054002285, 0.01326927974820137, -0....  "
      ]
     },
     "execution_count": 27,
     "metadata": {},
     "output_type": "execute_result"
    }
   ],
   "source": [
    "ng_b1 = pd.read_pickle('20newsgroups_b1_embd_all.pkl')\n",
    "\n",
    "ng_b1.head()"
   ]
  },
  {
   "cell_type": "code",
   "execution_count": 28,
   "id": "e8efbde5",
   "metadata": {
    "scrolled": true
   },
   "outputs": [
    {
     "data": {
      "text/plain": [
       "{1, 2, 3, 4, 5}"
      ]
     },
     "execution_count": 28,
     "metadata": {},
     "output_type": "execute_result"
    }
   ],
   "source": [
    "set(ng_b1['Target'])"
   ]
  },
  {
   "cell_type": "code",
   "execution_count": 29,
   "id": "ebdf2b1c",
   "metadata": {},
   "outputs": [],
   "source": [
    "y_encoded = [one_hot_encoding(target-1, 5) for target in ng_b1.iloc[:,3]]"
   ]
  },
  {
   "cell_type": "code",
   "execution_count": 30,
   "id": "cc56bdde",
   "metadata": {},
   "outputs": [
    {
     "name": "stdout",
     "output_type": "stream",
     "text": [
      "<class 'pandas.core.frame.DataFrame'>\n",
      "Int64Index: 4748 entries, 1 to 18264\n",
      "Data columns (total 5 columns):\n",
      " #   Column        Non-Null Count  Dtype \n",
      "---  ------        --------------  ----- \n",
      " 0   id_documento  4748 non-null   int64 \n",
      " 1   Grupo         4748 non-null   object\n",
      " 2   Documento     4748 non-null   object\n",
      " 3   Target        4748 non-null   int64 \n",
      " 4   Embedding     4748 non-null   object\n",
      "dtypes: int64(2), object(3)\n",
      "memory usage: 222.6+ KB\n"
     ]
    }
   ],
   "source": [
    "ng_b1.info()"
   ]
  },
  {
   "cell_type": "code",
   "execution_count": 31,
   "id": "70d33fc1",
   "metadata": {},
   "outputs": [],
   "source": [
    "X, y = ng_b1['Embedding'].values, y_encoded\n",
    "\n",
    "X_train, X_val, y_train, y_val = train_test_split(X, y, test_size=0.2, random_state=23)"
   ]
  },
  {
   "cell_type": "code",
   "execution_count": 38,
   "id": "908a325b",
   "metadata": {
    "scrolled": true
   },
   "outputs": [
    {
     "name": "stdout",
     "output_type": "stream",
     "text": [
      "Modelo con [64, 10], 80, 100\n",
      "30/30 [==============================] - 0s 2ms/step - loss: 0.8669 - accuracy: 0.6916\n",
      "30/30 [==============================] - 0s 2ms/step - loss: 0.9230 - accuracy: 0.6779\n",
      "30/30 [==============================] - 0s 3ms/step - loss: 0.8676 - accuracy: 0.6986\n",
      "30/30 [==============================] - 0s 2ms/step - loss: 0.8646 - accuracy: 0.6944\n",
      "69.06297355890274\n",
      "Modelo con [64, 10], 80, 200\n",
      "30/30 [==============================] - 0s 1ms/step - loss: 0.9005 - accuracy: 0.6874\n",
      "30/30 [==============================] - 0s 1ms/step - loss: 0.9178 - accuracy: 0.6832\n",
      "30/30 [==============================] - 0s 1ms/step - loss: 0.8864 - accuracy: 0.6881\n",
      "30/30 [==============================] - 0s 2ms/step - loss: 0.8847 - accuracy: 0.6881\n",
      "68.66779327392578\n",
      "Modelo con [64, 10], 150, 100\n",
      "30/30 [==============================] - 0s 2ms/step - loss: 0.8966 - accuracy: 0.6895\n",
      "30/30 [==============================] - 0s 2ms/step - loss: 0.9426 - accuracy: 0.6842\n",
      "30/30 [==============================] - 0s 1ms/step - loss: 0.8686 - accuracy: 0.6776\n",
      "30/30 [==============================] - 0s 2ms/step - loss: 0.8582 - accuracy: 0.6913\n",
      "68.56233775615692\n",
      "Modelo con [64, 10], 150, 200\n",
      "30/30 [==============================] - 0s 3ms/step - loss: 0.9352 - accuracy: 0.6716\n",
      "30/30 [==============================] - 0s 2ms/step - loss: 0.9006 - accuracy: 0.6916\n",
      "30/30 [==============================] - 0s 2ms/step - loss: 0.8600 - accuracy: 0.7081\n",
      "30/30 [==============================] - 0s 1ms/step - loss: 0.8820 - accuracy: 0.6965\n",
      "69.19485777616501\n",
      "Modelo con 100, 80, 100\n",
      "30/30 [==============================] - 0s 2ms/step - loss: 0.8903 - accuracy: 0.6832\n",
      "30/30 [==============================] - 0s 2ms/step - loss: 0.9085 - accuracy: 0.6747\n",
      "30/30 [==============================] - 0s 2ms/step - loss: 0.8469 - accuracy: 0.7113\n",
      "30/30 [==============================] - 0s 2ms/step - loss: 0.8700 - accuracy: 0.6913\n",
      "69.01059448719025\n",
      "Modelo con 100, 80, 200\n",
      "30/30 [==============================] - 0s 2ms/step - loss: 0.8904 - accuracy: 0.6874\n",
      "30/30 [==============================] - 0s 1ms/step - loss: 0.9032 - accuracy: 0.6842\n",
      "30/30 [==============================] - 0s 2ms/step - loss: 0.8527 - accuracy: 0.6976\n",
      "30/30 [==============================] - 0s 2ms/step - loss: 0.8639 - accuracy: 0.6955\n",
      "69.11560595035553\n",
      "Modelo con 100, 150, 100\n",
      "30/30 [==============================] - 0s 2ms/step - loss: 0.8833 - accuracy: 0.6947\n",
      "30/30 [==============================] - 0s 2ms/step - loss: 0.9179 - accuracy: 0.6821\n",
      "30/30 [==============================] - 0s 2ms/step - loss: 0.8530 - accuracy: 0.7092\n",
      "30/30 [==============================] - 0s 2ms/step - loss: 0.8583 - accuracy: 0.6976\n",
      "69.58965063095093\n",
      "Modelo con 100, 150, 200\n",
      "30/30 [==============================] - 0s 2ms/step - loss: 0.8864 - accuracy: 0.6926\n",
      "30/30 [==============================] - 0s 2ms/step - loss: 0.8969 - accuracy: 0.6737\n",
      "30/30 [==============================] - 0s 1ms/step - loss: 0.8471 - accuracy: 0.7028\n",
      "30/30 [==============================] - 0s 1ms/step - loss: 0.8652 - accuracy: 0.7050\n",
      "69.35283839702606\n",
      "Modelo con [80, 20], 80, 100\n",
      "30/30 [==============================] - 0s 2ms/step - loss: 0.8910 - accuracy: 0.6926\n",
      "30/30 [==============================] - 0s 2ms/step - loss: 0.9321 - accuracy: 0.6758\n",
      "30/30 [==============================] - 0s 2ms/step - loss: 0.8506 - accuracy: 0.7018\n",
      "30/30 [==============================] - 0s 2ms/step - loss: 0.8714 - accuracy: 0.6870\n",
      "68.93128603696823\n",
      "Modelo con [80, 20], 80, 200\n",
      "30/30 [==============================] - 0s 1ms/step - loss: 0.8964 - accuracy: 0.6779\n",
      "30/30 [==============================] - 0s 1ms/step - loss: 0.9109 - accuracy: 0.6758\n",
      "30/30 [==============================] - 0s 2ms/step - loss: 0.8611 - accuracy: 0.7028\n",
      "30/30 [==============================] - 0s 1ms/step - loss: 0.8653 - accuracy: 0.6923\n",
      "68.72092485427856\n",
      "Modelo con [80, 20], 150, 100\n",
      "30/30 [==============================] - 0s 1ms/step - loss: 0.8831 - accuracy: 0.6989\n",
      "30/30 [==============================] - 0s 1ms/step - loss: 0.9049 - accuracy: 0.6747\n",
      "30/30 [==============================] - 0s 1ms/step - loss: 0.8548 - accuracy: 0.6997\n",
      "30/30 [==============================] - 0s 2ms/step - loss: 0.8640 - accuracy: 0.6923\n",
      "69.14189606904984\n",
      "Modelo con [80, 20], 150, 200\n",
      "30/30 [==============================] - 0s 1ms/step - loss: 0.8853 - accuracy: 0.6832\n",
      "30/30 [==============================] - 0s 2ms/step - loss: 0.9091 - accuracy: 0.6737\n",
      "30/30 [==============================] - 0s 1ms/step - loss: 0.8579 - accuracy: 0.7081\n",
      "30/30 [==============================] - 0s 2ms/step - loss: 0.8562 - accuracy: 0.6934\n",
      "68.95793527364731\n"
     ]
    }
   ],
   "source": [
    "hidden_units = [[64, 10], 100, [80, 20]]\n",
    "epochs=[80, 150]\n",
    "batch_sizes=[100, 200]\n",
    "\n",
    "modelo_b1, resultados = grid_search(X_train, y_train, hidden_units, epochs, batch_sizes)"
   ]
  },
  {
   "cell_type": "code",
   "execution_count": 39,
   "id": "e4d109f8",
   "metadata": {
    "scrolled": true
   },
   "outputs": [
    {
     "data": {
      "text/plain": [
       "{(100, 150, 100): 0.6958965063095093,\n",
       " (100, 150, 200): 0.6935283839702606,\n",
       " ((64, 10), 150, 200): 0.6919485777616501,\n",
       " ((80, 20), 150, 100): 0.6914189606904984,\n",
       " (100, 80, 200): 0.6911560595035553,\n",
       " ((64, 10), 80, 100): 0.6906297355890274,\n",
       " (100, 80, 100): 0.6901059448719025,\n",
       " ((80, 20), 150, 200): 0.6895793527364731,\n",
       " ((80, 20), 80, 100): 0.6893128603696823,\n",
       " ((80, 20), 80, 200): 0.6872092485427856,\n",
       " ((64, 10), 80, 200): 0.6866779327392578,\n",
       " ((64, 10), 150, 100): 0.6856233775615692}"
      ]
     },
     "execution_count": 39,
     "metadata": {},
     "output_type": "execute_result"
    }
   ],
   "source": [
    "dict(sorted(resultados.items(), key=lambda item: item[1], reverse=True))"
   ]
  },
  {
   "cell_type": "markdown",
   "id": "92c14542",
   "metadata": {},
   "source": [
    "Nos quedamos con el modelo de 100, 150, 100"
   ]
  },
  {
   "cell_type": "code",
   "execution_count": 40,
   "id": "9b006cea",
   "metadata": {},
   "outputs": [
    {
     "name": "stdout",
     "output_type": "stream",
     "text": [
      "119/119 [==============================] - 0s 2ms/step - loss: 0.7285 - accuracy: 0.7383\n"
     ]
    },
    {
     "data": {
      "text/plain": [
       "<keras.src.callbacks.History at 0x2180d197cd0>"
      ]
     },
     "execution_count": 40,
     "metadata": {},
     "output_type": "execute_result"
    }
   ],
   "source": [
    "X_tensor, y_tensor = np.asarray([tf.constant(arr) for arr in X_train]), np.asarray([tf.constant(arr) for arr in y_train])\n",
    "\n",
    "modelo_b1.model.fit(X_tensor, y_tensor)"
   ]
  },
  {
   "cell_type": "code",
   "execution_count": 41,
   "id": "045b8f54",
   "metadata": {},
   "outputs": [
    {
     "name": "stdout",
     "output_type": "stream",
     "text": [
      "30/30 [==============================] - 0s 1ms/step\n"
     ]
    }
   ],
   "source": [
    "X_val_tensor = np.asarray([tf.constant(arr) for arr in X_val])\n",
    "\n",
    "preds = modelo_b1.predecir(X_val_tensor)"
   ]
  },
  {
   "cell_type": "code",
   "execution_count": 42,
   "id": "2f0a7f0c",
   "metadata": {},
   "outputs": [
    {
     "data": {
      "image/png": "[encoded data removed]",
      "text/plain": [
       "<Figure size 800x600 with 1 Axes>"
      ]
     },
     "metadata": {},
     "output_type": "display_data"
    },
    {
     "data": {
      "text/plain": [
       "0.6884210526315789"
      ]
     },
     "execution_count": 42,
     "metadata": {},
     "output_type": "execute_result"
    }
   ],
   "source": [
    "acc_b1 = comprobar(y_val, preds)\n",
    "acc_b1"
   ]
  },
  {
   "cell_type": "markdown",
   "id": "6e98e08c",
   "metadata": {},
   "source": [
    "## B2"
   ]
  },
  {
   "cell_type": "code",
   "execution_count": 43,
   "id": "62a766ca",
   "metadata": {
    "scrolled": true
   },
   "outputs": [
    {
     "data": {
      "text/html": [
       "<div>\n",
       "<style scoped>\n",
       "    .dataframe tbody tr th:only-of-type {\n",
       "        vertical-align: middle;\n",
       "    }\n",
       "\n",
       "    .dataframe tbody tr th {\n",
       "        vertical-align: top;\n",
       "    }\n",
       "\n",
       "    .dataframe thead th {\n",
       "        text-align: right;\n",
       "    }\n",
       "</style>\n",
       "<table border=\"1\" class=\"dataframe\">\n",
       "  <thead>\n",
       "    <tr style=\"text-align: right;\">\n",
       "      <th></th>\n",
       "      <th>id_documento</th>\n",
       "      <th>Grupo</th>\n",
       "      <th>Documento</th>\n",
       "      <th>Target</th>\n",
       "      <th>Embedding</th>\n",
       "    </tr>\n",
       "  </thead>\n",
       "  <tbody>\n",
       "    <tr>\n",
       "      <th>0</th>\n",
       "      <td>54367</td>\n",
       "      <td>rec.sport.hockey</td>\n",
       "      <td>basher pen fan pretty confused lack kind post ...</td>\n",
       "      <td>10</td>\n",
       "      <td>[-0.14216639818158, 0.091206159517169, -0.1639...</td>\n",
       "    </tr>\n",
       "    <tr>\n",
       "      <th>7</th>\n",
       "      <td>53767</td>\n",
       "      <td>rec.sport.hockey</td>\n",
       "      <td>stuff delete solution problem canada yesterday...</td>\n",
       "      <td>10</td>\n",
       "      <td>[-0.06843037190664486, 0.1768383335176052, -0....</td>\n",
       "    </tr>\n",
       "    <tr>\n",
       "      <th>8</th>\n",
       "      <td>54033</td>\n",
       "      <td>rec.sport.hockey</td>\n",
       "      <td>yeah price good bruin sabre telecast wow good ...</td>\n",
       "      <td>10</td>\n",
       "      <td>[-0.20051928583000386, 0.05742098328274941, -0...</td>\n",
       "    </tr>\n",
       "    <tr>\n",
       "      <th>19</th>\n",
       "      <td>105204</td>\n",
       "      <td>rec.motorcycles</td>\n",
       "      <td>argue gyroscope throughly understand edthe tec...</td>\n",
       "      <td>8</td>\n",
       "      <td>[0.009954410046339035, 0.12789846948238418, -0...</td>\n",
       "    </tr>\n",
       "    <tr>\n",
       "      <th>20</th>\n",
       "      <td>103698</td>\n",
       "      <td>rec.autos</td>\n",
       "      <td>buy chevy gmc size pickup extended cab opinion...</td>\n",
       "      <td>7</td>\n",
       "      <td>[0.030914567030966282, 0.26029603904113174, -0...</td>\n",
       "    </tr>\n",
       "  </tbody>\n",
       "</table>\n",
       "</div>"
      ],
      "text/plain": [
       "    id_documento             Grupo  \\\n",
       "0          54367  rec.sport.hockey   \n",
       "7          53767  rec.sport.hockey   \n",
       "8          54033  rec.sport.hockey   \n",
       "19        105204   rec.motorcycles   \n",
       "20        103698         rec.autos   \n",
       "\n",
       "                                            Documento  Target  \\\n",
       "0   basher pen fan pretty confused lack kind post ...      10   \n",
       "7   stuff delete solution problem canada yesterday...      10   \n",
       "8   yeah price good bruin sabre telecast wow good ...      10   \n",
       "19  argue gyroscope throughly understand edthe tec...       8   \n",
       "20  buy chevy gmc size pickup extended cab opinion...       7   \n",
       "\n",
       "                                            Embedding  \n",
       "0   [-0.14216639818158, 0.091206159517169, -0.1639...  \n",
       "7   [-0.06843037190664486, 0.1768383335176052, -0....  \n",
       "8   [-0.20051928583000386, 0.05742098328274941, -0...  \n",
       "19  [0.009954410046339035, 0.12789846948238418, -0...  \n",
       "20  [0.030914567030966282, 0.26029603904113174, -0...  "
      ]
     },
     "execution_count": 43,
     "metadata": {},
     "output_type": "execute_result"
    }
   ],
   "source": [
    "ng_b2 = pd.read_pickle('20newsgroups_b2_embd_all.pkl')\n",
    "\n",
    "ng_b2.head()"
   ]
  },
  {
   "cell_type": "code",
   "execution_count": 44,
   "id": "ef3f66f6",
   "metadata": {
    "scrolled": true
   },
   "outputs": [
    {
     "data": {
      "text/plain": [
       "{7, 8, 9, 10}"
      ]
     },
     "execution_count": 44,
     "metadata": {},
     "output_type": "execute_result"
    }
   ],
   "source": [
    "set(ng_b2['Target'])"
   ]
  },
  {
   "cell_type": "code",
   "execution_count": 45,
   "id": "c95736ea",
   "metadata": {},
   "outputs": [],
   "source": [
    "y_encoded = [one_hot_encoding(target-7, 4) for target in ng_b2.iloc[:,3]]"
   ]
  },
  {
   "cell_type": "code",
   "execution_count": 46,
   "id": "7b3bcbfc",
   "metadata": {},
   "outputs": [],
   "source": [
    "X, y = ng_b2['Embedding'].values, y_encoded\n",
    "\n",
    "X_train, X_val, y_train, y_val = train_test_split(X, y, test_size=0.2, random_state=23)"
   ]
  },
  {
   "cell_type": "code",
   "execution_count": 47,
   "id": "0a5122b7",
   "metadata": {},
   "outputs": [
    {
     "name": "stdout",
     "output_type": "stream",
     "text": [
      "Modelo con [64, 10], 80, 100\n",
      "24/24 [==============================] - 0s 2ms/step - loss: 0.3770 - accuracy: 0.8648\n",
      "24/24 [==============================] - 0s 2ms/step - loss: 0.4310 - accuracy: 0.8517\n",
      "24/24 [==============================] - 0s 2ms/step - loss: 0.4063 - accuracy: 0.8556\n",
      "24/24 [==============================] - 0s 2ms/step - loss: 0.4017 - accuracy: 0.8609\n",
      "85.82677245140076\n",
      "Modelo con [64, 10], 80, 200\n",
      "24/24 [==============================] - 0s 2ms/step - loss: 0.3776 - accuracy: 0.8688\n",
      "24/24 [==============================] - 0s 2ms/step - loss: 0.4238 - accuracy: 0.8648\n",
      "24/24 [==============================] - 0s 2ms/step - loss: 0.3884 - accuracy: 0.8530\n",
      "24/24 [==============================] - 0s 2ms/step - loss: 0.3754 - accuracy: 0.8740\n",
      "86.51574850082397\n",
      "Modelo con [64, 10], 150, 100\n",
      "24/24 [==============================] - 0s 2ms/step - loss: 0.3614 - accuracy: 0.8688\n",
      "24/24 [==============================] - 0s 2ms/step - loss: 0.4199 - accuracy: 0.8570\n",
      "24/24 [==============================] - 0s 2ms/step - loss: 0.3932 - accuracy: 0.8530\n",
      "24/24 [==============================] - 0s 2ms/step - loss: 0.3979 - accuracy: 0.8701\n",
      "86.22047305107117\n",
      "Modelo con [64, 10], 150, 200\n",
      "24/24 [==============================] - 0s 1ms/step - loss: 0.3737 - accuracy: 0.8622\n",
      "24/24 [==============================] - 0s 2ms/step - loss: 0.4082 - accuracy: 0.8583\n",
      "24/24 [==============================] - 0s 1ms/step - loss: 0.3764 - accuracy: 0.8635\n",
      "24/24 [==============================] - 0s 1ms/step - loss: 0.3913 - accuracy: 0.8688\n",
      "86.31889820098877\n",
      "Modelo con 100, 80, 100\n",
      "24/24 [==============================] - 0s 2ms/step - loss: 0.3752 - accuracy: 0.8714\n",
      "24/24 [==============================] - 0s 1ms/step - loss: 0.4139 - accuracy: 0.8596\n",
      "24/24 [==============================] - 0s 1ms/step - loss: 0.3883 - accuracy: 0.8622\n",
      "24/24 [==============================] - 0s 1ms/step - loss: 0.3803 - accuracy: 0.8727\n",
      "86.64698153734207\n",
      "Modelo con 100, 80, 200\n",
      "24/24 [==============================] - 0s 2ms/step - loss: 0.3678 - accuracy: 0.8727\n",
      "24/24 [==============================] - 0s 1ms/step - loss: 0.4145 - accuracy: 0.8648\n",
      "24/24 [==============================] - 0s 1ms/step - loss: 0.3795 - accuracy: 0.8688\n",
      "24/24 [==============================] - 0s 2ms/step - loss: 0.3877 - accuracy: 0.8688\n",
      "86.87664270401001\n",
      "Modelo con 100, 150, 100\n",
      "24/24 [==============================] - 0s 1ms/step - loss: 0.3679 - accuracy: 0.8740\n",
      "24/24 [==============================] - 0s 1ms/step - loss: 0.4116 - accuracy: 0.8596\n",
      "24/24 [==============================] - 0s 2ms/step - loss: 0.3786 - accuracy: 0.8688\n",
      "24/24 [==============================] - 0s 2ms/step - loss: 0.3820 - accuracy: 0.8714\n",
      "86.84383183717728\n",
      "Modelo con 100, 150, 200\n",
      "24/24 [==============================] - 0s 1ms/step - loss: 0.3672 - accuracy: 0.8688\n",
      "24/24 [==============================] - 0s 2ms/step - loss: 0.4182 - accuracy: 0.8635\n",
      "24/24 [==============================] - 0s 2ms/step - loss: 0.3809 - accuracy: 0.8701\n",
      "24/24 [==============================] - 0s 1ms/step - loss: 0.3941 - accuracy: 0.8661\n",
      "86.71259880065918\n",
      "Modelo con [80, 20], 80, 100\n",
      "24/24 [==============================] - 0s 1ms/step - loss: 0.3640 - accuracy: 0.8780\n",
      "24/24 [==============================] - 0s 1ms/step - loss: 0.4145 - accuracy: 0.8556\n",
      "24/24 [==============================] - 0s 1ms/step - loss: 0.3813 - accuracy: 0.8675\n",
      "24/24 [==============================] - 0s 2ms/step - loss: 0.3788 - accuracy: 0.8688\n",
      "86.74540668725967\n",
      "Modelo con [80, 20], 80, 200\n",
      "24/24 [==============================] - 0s 3ms/step - loss: 0.3578 - accuracy: 0.8727\n",
      "24/24 [==============================] - 0s 1ms/step - loss: 0.4182 - accuracy: 0.8504\n",
      "24/24 [==============================] - 0s 2ms/step - loss: 0.3779 - accuracy: 0.8675\n",
      "24/24 [==============================] - 0s 1ms/step - loss: 0.3705 - accuracy: 0.8793\n",
      "86.74540668725967\n",
      "Modelo con [80, 20], 150, 100\n",
      "24/24 [==============================] - 0s 2ms/step - loss: 0.3717 - accuracy: 0.8648\n",
      "24/24 [==============================] - 0s 2ms/step - loss: 0.4251 - accuracy: 0.8530\n",
      "24/24 [==============================] - 0s 2ms/step - loss: 0.3847 - accuracy: 0.8648\n",
      "24/24 [==============================] - 0s 2ms/step - loss: 0.3861 - accuracy: 0.8648\n",
      "86.18766516447067\n",
      "Modelo con [80, 20], 150, 200\n",
      "24/24 [==============================] - 0s 1ms/step - loss: 0.3704 - accuracy: 0.8727\n",
      "24/24 [==============================] - 0s 1ms/step - loss: 0.4237 - accuracy: 0.8622\n",
      "24/24 [==============================] - 0s 1ms/step - loss: 0.3845 - accuracy: 0.8727\n",
      "24/24 [==============================] - 0s 2ms/step - loss: 0.3762 - accuracy: 0.8714\n",
      "86.9750663638115\n"
     ]
    }
   ],
   "source": [
    "hidden_units = [[64, 10], 100, [80, 20]]\n",
    "epochs=[80, 150]\n",
    "batch_sizes=[100, 200]\n",
    "\n",
    "modelo_b2, resultados = grid_search(X_train, y_train, hidden_units, epochs, batch_sizes)"
   ]
  },
  {
   "cell_type": "code",
   "execution_count": 48,
   "id": "cf19e2bc",
   "metadata": {},
   "outputs": [
    {
     "data": {
      "text/plain": [
       "{((80, 20), 150, 200): 0.8697506636381149,\n",
       " (100, 80, 200): 0.8687664270401001,\n",
       " (100, 150, 100): 0.8684383183717728,\n",
       " ((80, 20), 80, 100): 0.8674540668725967,\n",
       " ((80, 20), 80, 200): 0.8674540668725967,\n",
       " (100, 150, 200): 0.8671259880065918,\n",
       " (100, 80, 100): 0.8664698153734207,\n",
       " ((64, 10), 80, 200): 0.8651574850082397,\n",
       " ((64, 10), 150, 200): 0.8631889820098877,\n",
       " ((64, 10), 150, 100): 0.8622047305107117,\n",
       " ((80, 20), 150, 100): 0.8618766516447067,\n",
       " ((64, 10), 80, 100): 0.8582677245140076}"
      ]
     },
     "execution_count": 48,
     "metadata": {},
     "output_type": "execute_result"
    }
   ],
   "source": [
    "dict(sorted(resultados.items(), key=lambda item: item[1], reverse=True))"
   ]
  },
  {
   "cell_type": "markdown",
   "id": "f0c90467",
   "metadata": {},
   "source": [
    "Nos quedamos con el modelo de 100, 150, 100"
   ]
  },
  {
   "cell_type": "code",
   "execution_count": 58,
   "id": "9dff2e45",
   "metadata": {},
   "outputs": [
    {
     "name": "stdout",
     "output_type": "stream",
     "text": [
      "96/96 [==============================] - 0s 3ms/step - loss: 0.1610 - accuracy: 0.9472\n"
     ]
    },
    {
     "data": {
      "text/plain": [
       "<keras.src.callbacks.History at 0x21814d58880>"
      ]
     },
     "execution_count": 58,
     "metadata": {},
     "output_type": "execute_result"
    }
   ],
   "source": [
    "X_tensor, y_tensor = np.asarray([tf.constant(arr) for arr in X_train]), np.asarray([tf.constant(arr) for arr in y_train])\n",
    "\n",
    "modelo_b2.model.fit(X_tensor, y_tensor)"
   ]
  },
  {
   "cell_type": "code",
   "execution_count": 59,
   "id": "4a2df7b5",
   "metadata": {},
   "outputs": [
    {
     "name": "stdout",
     "output_type": "stream",
     "text": [
      "24/24 [==============================] - 0s 3ms/step\n"
     ]
    }
   ],
   "source": [
    "X_val_tensor = np.asarray([tf.constant(arr) for arr in X_val])\n",
    "\n",
    "preds = modelo_b2.predecir(X_val_tensor)"
   ]
  },
  {
   "cell_type": "code",
   "execution_count": 60,
   "id": "540f5af3",
   "metadata": {},
   "outputs": [
    {
     "data": {
      "image/png": "[encoded data removed]",
      "text/plain": [
       "<Figure size 800x600 with 1 Axes>"
      ]
     },
     "metadata": {},
     "output_type": "display_data"
    },
    {
     "data": {
      "text/plain": [
       "0.8702490170380078"
      ]
     },
     "execution_count": 60,
     "metadata": {},
     "output_type": "execute_result"
    }
   ],
   "source": [
    "acc_b2 = comprobar(y_val, preds)\n",
    "acc_b2"
   ]
  },
  {
   "cell_type": "markdown",
   "id": "258fef8f",
   "metadata": {},
   "source": [
    "## B3"
   ]
  },
  {
   "cell_type": "code",
   "execution_count": 61,
   "id": "85941d65",
   "metadata": {
    "scrolled": true
   },
   "outputs": [
    {
     "data": {
      "text/html": [
       "<div>\n",
       "<style scoped>\n",
       "    .dataframe tbody tr th:only-of-type {\n",
       "        vertical-align: middle;\n",
       "    }\n",
       "\n",
       "    .dataframe tbody tr th {\n",
       "        vertical-align: top;\n",
       "    }\n",
       "\n",
       "    .dataframe thead th {\n",
       "        text-align: right;\n",
       "    }\n",
       "</style>\n",
       "<table border=\"1\" class=\"dataframe\">\n",
       "  <thead>\n",
       "    <tr style=\"text-align: right;\">\n",
       "      <th></th>\n",
       "      <th>id_documento</th>\n",
       "      <th>Grupo</th>\n",
       "      <th>Documento</th>\n",
       "      <th>Target</th>\n",
       "      <th>Embedding</th>\n",
       "    </tr>\n",
       "  </thead>\n",
       "  <tbody>\n",
       "    <tr>\n",
       "      <th>5</th>\n",
       "      <td>54198</td>\n",
       "      <td>sci.electronics</td>\n",
       "      <td>high school work lab assistant bunch experimen...</td>\n",
       "      <td>12</td>\n",
       "      <td>[-0.07230230656503409, 0.11754417311400175, -0...</td>\n",
       "    </tr>\n",
       "    <tr>\n",
       "      <th>11</th>\n",
       "      <td>15596</td>\n",
       "      <td>sci.crypt</td>\n",
       "      <td>history untrustworthy behavoirsic</td>\n",
       "      <td>11</td>\n",
       "      <td>[-0.22224999219179153, -0.34587499499320984, 0...</td>\n",
       "    </tr>\n",
       "    <tr>\n",
       "      <th>13</th>\n",
       "      <td>59022</td>\n",
       "      <td>sci.med</td>\n",
       "      <td>kirlian imaging faq sciskeptic nice write supp...</td>\n",
       "      <td>13</td>\n",
       "      <td>[-0.02201554331589829, 0.2004741860384291, 0.0...</td>\n",
       "    </tr>\n",
       "    <tr>\n",
       "      <th>16</th>\n",
       "      <td>53899</td>\n",
       "      <td>sci.electronics</td>\n",
       "      <td>reply appeal info drive rpm modify bbc compute...</td>\n",
       "      <td>12</td>\n",
       "      <td>[0.06011503435272191, 0.2880721700244716, 0.02...</td>\n",
       "    </tr>\n",
       "    <tr>\n",
       "      <th>17</th>\n",
       "      <td>54203</td>\n",
       "      <td>sci.electronics</td>\n",
       "      <td>year ago victim squirted fair model teletype t...</td>\n",
       "      <td>12</td>\n",
       "      <td>[0.011174500396009535, 0.07134094873617869, -0...</td>\n",
       "    </tr>\n",
       "  </tbody>\n",
       "</table>\n",
       "</div>"
      ],
      "text/plain": [
       "    id_documento            Grupo  \\\n",
       "5          54198  sci.electronics   \n",
       "11         15596        sci.crypt   \n",
       "13         59022          sci.med   \n",
       "16         53899  sci.electronics   \n",
       "17         54203  sci.electronics   \n",
       "\n",
       "                                            Documento  Target  \\\n",
       "5   high school work lab assistant bunch experimen...      12   \n",
       "11                  history untrustworthy behavoirsic      11   \n",
       "13  kirlian imaging faq sciskeptic nice write supp...      13   \n",
       "16  reply appeal info drive rpm modify bbc compute...      12   \n",
       "17  year ago victim squirted fair model teletype t...      12   \n",
       "\n",
       "                                            Embedding  \n",
       "5   [-0.07230230656503409, 0.11754417311400175, -0...  \n",
       "11  [-0.22224999219179153, -0.34587499499320984, 0...  \n",
       "13  [-0.02201554331589829, 0.2004741860384291, 0.0...  \n",
       "16  [0.06011503435272191, 0.2880721700244716, 0.02...  \n",
       "17  [0.011174500396009535, 0.07134094873617869, -0...  "
      ]
     },
     "execution_count": 61,
     "metadata": {},
     "output_type": "execute_result"
    }
   ],
   "source": [
    "ng_b3 = pd.read_pickle('20newsgroups_b3_embd_all.pkl')\n",
    "\n",
    "ng_b3.head()"
   ]
  },
  {
   "cell_type": "code",
   "execution_count": 62,
   "id": "06e5261a",
   "metadata": {
    "scrolled": false
   },
   "outputs": [
    {
     "data": {
      "text/plain": [
       "{11, 12, 13, 14}"
      ]
     },
     "execution_count": 62,
     "metadata": {},
     "output_type": "execute_result"
    }
   ],
   "source": [
    "set(ng_b3['Target'])"
   ]
  },
  {
   "cell_type": "code",
   "execution_count": 63,
   "id": "d8c8d165",
   "metadata": {},
   "outputs": [],
   "source": [
    "y_encoded = [one_hot_encoding(target-11, 4) for target in ng_b3.iloc[:,3]]"
   ]
  },
  {
   "cell_type": "code",
   "execution_count": 64,
   "id": "42c0167f",
   "metadata": {},
   "outputs": [],
   "source": [
    "X, y = ng_b3['Embedding'].values, y_encoded\n",
    "\n",
    "X_train, X_val, y_train, y_val = train_test_split(X, y, test_size=0.2, random_state=23)"
   ]
  },
  {
   "cell_type": "code",
   "execution_count": 65,
   "id": "b32f395d",
   "metadata": {},
   "outputs": [
    {
     "name": "stdout",
     "output_type": "stream",
     "text": [
      "Modelo con [64, 10], 80, 100\n",
      "24/24 [==============================] - 0s 2ms/step - loss: 0.3864 - accuracy: 0.8627\n",
      "24/24 [==============================] - 0s 3ms/step - loss: 0.3715 - accuracy: 0.8693\n",
      "24/24 [==============================] - 0s 3ms/step - loss: 0.3088 - accuracy: 0.8824\n",
      "24/24 [==============================] - 0s 2ms/step - loss: 0.4338 - accuracy: 0.8549\n",
      "86.73202693462372\n",
      "Modelo con [64, 10], 80, 200\n",
      "24/24 [==============================] - 0s 2ms/step - loss: 0.3802 - accuracy: 0.8784\n",
      "24/24 [==============================] - 0s 1ms/step - loss: 0.3666 - accuracy: 0.8667\n",
      "24/24 [==============================] - 0s 1ms/step - loss: 0.3128 - accuracy: 0.8863\n",
      "24/24 [==============================] - 0s 1ms/step - loss: 0.4242 - accuracy: 0.8641\n",
      "87.38562166690826\n",
      "Modelo con [64, 10], 150, 100\n",
      "24/24 [==============================] - 0s 2ms/step - loss: 0.3828 - accuracy: 0.8824\n",
      "24/24 [==============================] - 0s 1ms/step - loss: 0.3713 - accuracy: 0.8745\n",
      "24/24 [==============================] - 0s 1ms/step - loss: 0.3197 - accuracy: 0.8902\n",
      "24/24 [==============================] - 0s 1ms/step - loss: 0.4347 - accuracy: 0.8458\n",
      "87.32026219367981\n",
      "Modelo con [64, 10], 150, 200\n",
      "24/24 [==============================] - 0s 1ms/step - loss: 0.3620 - accuracy: 0.8889\n",
      "24/24 [==============================] - 0s 2ms/step - loss: 0.3839 - accuracy: 0.8784\n",
      "24/24 [==============================] - 0s 2ms/step - loss: 0.3230 - accuracy: 0.8824\n",
      "24/24 [==============================] - 0s 2ms/step - loss: 0.4331 - accuracy: 0.8471\n",
      "87.41830140352249\n",
      "Modelo con 100, 80, 100\n",
      "24/24 [==============================] - 0s 2ms/step - loss: 0.3762 - accuracy: 0.8797\n",
      "24/24 [==============================] - 0s 1ms/step - loss: 0.3713 - accuracy: 0.8719\n",
      "24/24 [==============================] - 0s 3ms/step - loss: 0.3028 - accuracy: 0.8902\n",
      "24/24 [==============================] - 0s 2ms/step - loss: 0.4277 - accuracy: 0.8562\n",
      "87.45098114013672\n",
      "Modelo con 100, 80, 200\n",
      "24/24 [==============================] - 0s 3ms/step - loss: 0.3796 - accuracy: 0.8771\n",
      "24/24 [==============================] - 0s 1ms/step - loss: 0.3743 - accuracy: 0.8693\n",
      "24/24 [==============================] - 0s 2ms/step - loss: 0.3098 - accuracy: 0.8863\n",
      "24/24 [==============================] - 0s 1ms/step - loss: 0.4249 - accuracy: 0.8549\n",
      "87.1895432472229\n",
      "Modelo con 100, 150, 100\n",
      "24/24 [==============================] - 0s 975us/step - loss: 0.3702 - accuracy: 0.8810\n",
      "24/24 [==============================] - 0s 1ms/step - loss: 0.3720 - accuracy: 0.8719\n",
      "24/24 [==============================] - 0s 2ms/step - loss: 0.3076 - accuracy: 0.8850\n",
      "24/24 [==============================] - 0s 3ms/step - loss: 0.4233 - accuracy: 0.8588\n",
      "87.41830140352249\n",
      "Modelo con 100, 150, 200\n",
      "24/24 [==============================] - 0s 2ms/step - loss: 0.3773 - accuracy: 0.8784\n",
      "24/24 [==============================] - 0s 2ms/step - loss: 0.3715 - accuracy: 0.8758\n",
      "24/24 [==============================] - 0s 2ms/step - loss: 0.3062 - accuracy: 0.8928\n",
      "24/24 [==============================] - 0s 2ms/step - loss: 0.4232 - accuracy: 0.8536\n",
      "87.51634061336517\n",
      "Modelo con [80, 20], 80, 100\n",
      "24/24 [==============================] - 0s 1ms/step - loss: 0.3700 - accuracy: 0.8745\n",
      "24/24 [==============================] - 0s 2ms/step - loss: 0.3645 - accuracy: 0.8810\n",
      "24/24 [==============================] - 0s 1ms/step - loss: 0.3210 - accuracy: 0.8797\n",
      "24/24 [==============================] - 0s 1ms/step - loss: 0.4197 - accuracy: 0.8654\n",
      "87.51634061336517\n",
      "Modelo con [80, 20], 80, 200\n",
      "24/24 [==============================] - 0s 2ms/step - loss: 0.3827 - accuracy: 0.8706\n",
      "24/24 [==============================] - 0s 3ms/step - loss: 0.3688 - accuracy: 0.8719\n",
      "24/24 [==============================] - 0s 2ms/step - loss: 0.3133 - accuracy: 0.8758\n",
      "24/24 [==============================] - 0s 2ms/step - loss: 0.4366 - accuracy: 0.8523\n",
      "86.76470667123795\n",
      "Modelo con [80, 20], 150, 100\n",
      "24/24 [==============================] - 0s 3ms/step - loss: 0.3658 - accuracy: 0.8850\n",
      "24/24 [==============================] - 0s 1ms/step - loss: 0.3722 - accuracy: 0.8745\n",
      "24/24 [==============================] - 0s 1ms/step - loss: 0.3010 - accuracy: 0.8889\n",
      "24/24 [==============================] - 0s 2ms/step - loss: 0.4302 - accuracy: 0.8641\n",
      "87.81045824289322\n",
      "Modelo con [80, 20], 150, 200\n",
      "24/24 [==============================] - 0s 1ms/step - loss: 0.3814 - accuracy: 0.8771\n",
      "24/24 [==============================] - 0s 2ms/step - loss: 0.3674 - accuracy: 0.8810\n",
      "24/24 [==============================] - 0s 1ms/step - loss: 0.3099 - accuracy: 0.8902\n",
      "24/24 [==============================] - 0s 1ms/step - loss: 0.4306 - accuracy: 0.8536\n",
      "87.5490203499794\n"
     ]
    }
   ],
   "source": [
    "hidden_units = [[64, 10], 100, [80, 20]]\n",
    "epochs=[80, 150]\n",
    "batch_sizes=[100, 200]\n",
    "\n",
    "modelo_b3, resultados = grid_search(X_train, y_train, hidden_units, epochs, batch_sizes)"
   ]
  },
  {
   "cell_type": "code",
   "execution_count": 66,
   "id": "3bf0f91d",
   "metadata": {},
   "outputs": [
    {
     "data": {
      "text/plain": [
       "{((80, 20), 150, 100): 0.8781045824289322,\n",
       " ((80, 20), 150, 200): 0.875490203499794,\n",
       " (100, 150, 200): 0.8751634061336517,\n",
       " ((80, 20), 80, 100): 0.8751634061336517,\n",
       " (100, 80, 100): 0.8745098114013672,\n",
       " ((64, 10), 150, 200): 0.8741830140352249,\n",
       " (100, 150, 100): 0.8741830140352249,\n",
       " ((64, 10), 80, 200): 0.8738562166690826,\n",
       " ((64, 10), 150, 100): 0.8732026219367981,\n",
       " (100, 80, 200): 0.871895432472229,\n",
       " ((80, 20), 80, 200): 0.8676470667123795,\n",
       " ((64, 10), 80, 100): 0.8673202693462372}"
      ]
     },
     "execution_count": 66,
     "metadata": {},
     "output_type": "execute_result"
    }
   ],
   "source": [
    "dict(sorted(resultados.items(), key=lambda item: item[1], reverse=True))"
   ]
  },
  {
   "cell_type": "markdown",
   "id": "d925b2c7",
   "metadata": {},
   "source": [
    "Nos quedamos con el modelo de 100, 150, 100"
   ]
  },
  {
   "cell_type": "code",
   "execution_count": 79,
   "id": "5eb8436f",
   "metadata": {
    "scrolled": true
   },
   "outputs": [
    {
     "name": "stdout",
     "output_type": "stream",
     "text": [
      "96/96 [==============================] - 0s 4ms/step - loss: 0.1619 - accuracy: 0.9467\n"
     ]
    },
    {
     "data": {
      "text/plain": [
       "<keras.src.callbacks.History at 0x2180ce142b0>"
      ]
     },
     "execution_count": 79,
     "metadata": {},
     "output_type": "execute_result"
    }
   ],
   "source": [
    "X_tensor, y_tensor = np.asarray([tf.constant(arr) for arr in X_train]), np.asarray([tf.constant(arr) for arr in y_train])\n",
    "\n",
    "modelo_b3.model.fit(X_tensor, y_tensor)"
   ]
  },
  {
   "cell_type": "code",
   "execution_count": 80,
   "id": "e760d5ce",
   "metadata": {},
   "outputs": [
    {
     "name": "stdout",
     "output_type": "stream",
     "text": [
      "24/24 [==============================] - 0s 3ms/step\n"
     ]
    }
   ],
   "source": [
    "X_val_tensor = np.asarray([tf.constant(arr) for arr in X_val])\n",
    "\n",
    "preds = modelo_b3.predecir(X_val_tensor)"
   ]
  },
  {
   "cell_type": "code",
   "execution_count": 81,
   "id": "d8457ae9",
   "metadata": {},
   "outputs": [
    {
     "data": {
      "image/png": "[encoded data removed]",
      "text/plain": [
       "<Figure size 800x600 with 1 Axes>"
      ]
     },
     "metadata": {},
     "output_type": "display_data"
    },
    {
     "data": {
      "text/plain": [
       "0.891644908616188"
      ]
     },
     "execution_count": 81,
     "metadata": {},
     "output_type": "execute_result"
    }
   ],
   "source": [
    "acc_b3 = comprobar(y_val, preds)\n",
    "acc_b3"
   ]
  },
  {
   "cell_type": "markdown",
   "id": "c5954093",
   "metadata": {},
   "source": [
    "## B4"
   ]
  },
  {
   "cell_type": "code",
   "execution_count": 82,
   "id": "96321ee0",
   "metadata": {
    "scrolled": true
   },
   "outputs": [
    {
     "data": {
      "text/html": [
       "<div>\n",
       "<style scoped>\n",
       "    .dataframe tbody tr th:only-of-type {\n",
       "        vertical-align: middle;\n",
       "    }\n",
       "\n",
       "    .dataframe tbody tr th {\n",
       "        vertical-align: top;\n",
       "    }\n",
       "\n",
       "    .dataframe thead th {\n",
       "        text-align: right;\n",
       "    }\n",
       "</style>\n",
       "<table border=\"1\" class=\"dataframe\">\n",
       "  <thead>\n",
       "    <tr style=\"text-align: right;\">\n",
       "      <th></th>\n",
       "      <th>id_documento</th>\n",
       "      <th>Grupo</th>\n",
       "      <th>Documento</th>\n",
       "      <th>Target</th>\n",
       "      <th>Embedding</th>\n",
       "    </tr>\n",
       "  </thead>\n",
       "  <tbody>\n",
       "    <tr>\n",
       "      <th>2</th>\n",
       "      <td>76120</td>\n",
       "      <td>talk.politics.mideast</td>\n",
       "      <td>finally dream mediterranean area great year ho...</td>\n",
       "      <td>17</td>\n",
       "      <td>[-0.22868308251178482, 0.027676702670116977, 0...</td>\n",
       "    </tr>\n",
       "    <tr>\n",
       "      <th>9</th>\n",
       "      <td>84236</td>\n",
       "      <td>talk.religion.misc</td>\n",
       "      <td>christian divinity jesus safe jesus christian ...</td>\n",
       "      <td>19</td>\n",
       "      <td>[-0.1727562840417798, -0.11107386314663394, 0....</td>\n",
       "    </tr>\n",
       "    <tr>\n",
       "      <th>10</th>\n",
       "      <td>83609</td>\n",
       "      <td>talk.religion.misc</td>\n",
       "      <td>blood lamb hard task culture animal blood sacr...</td>\n",
       "      <td>19</td>\n",
       "      <td>[-0.11223129451494007, 0.08317440534558367, 0....</td>\n",
       "    </tr>\n",
       "    <tr>\n",
       "      <th>12</th>\n",
       "      <td>83506</td>\n",
       "      <td>talk.religion.misc</td>\n",
       "      <td>wilt law honestly word sin restriction kid man...</td>\n",
       "      <td>19</td>\n",
       "      <td>[-0.01871928367376185, 0.06832325235652541, -0...</td>\n",
       "    </tr>\n",
       "    <tr>\n",
       "      <th>15</th>\n",
       "      <td>76476</td>\n",
       "      <td>talk.politics.mideast</td>\n",
       "      <td>report turkey eyes regional role ankara turkey...</td>\n",
       "      <td>17</td>\n",
       "      <td>[-0.10081068279736853, -0.05010895942278365, 0...</td>\n",
       "    </tr>\n",
       "  </tbody>\n",
       "</table>\n",
       "</div>"
      ],
      "text/plain": [
       "    id_documento                  Grupo  \\\n",
       "2          76120  talk.politics.mideast   \n",
       "9          84236     talk.religion.misc   \n",
       "10         83609     talk.religion.misc   \n",
       "12         83506     talk.religion.misc   \n",
       "15         76476  talk.politics.mideast   \n",
       "\n",
       "                                            Documento  Target  \\\n",
       "2   finally dream mediterranean area great year ho...      17   \n",
       "9   christian divinity jesus safe jesus christian ...      19   \n",
       "10  blood lamb hard task culture animal blood sacr...      19   \n",
       "12  wilt law honestly word sin restriction kid man...      19   \n",
       "15  report turkey eyes regional role ankara turkey...      17   \n",
       "\n",
       "                                            Embedding  \n",
       "2   [-0.22868308251178482, 0.027676702670116977, 0...  \n",
       "9   [-0.1727562840417798, -0.11107386314663394, 0....  \n",
       "10  [-0.11223129451494007, 0.08317440534558367, 0....  \n",
       "12  [-0.01871928367376185, 0.06832325235652541, -0...  \n",
       "15  [-0.10081068279736853, -0.05010895942278365, 0...  "
      ]
     },
     "execution_count": 82,
     "metadata": {},
     "output_type": "execute_result"
    }
   ],
   "source": [
    "ng_b4 = pd.read_pickle('20newsgroups_b4_embd_all.pkl')\n",
    "\n",
    "ng_b4.head()"
   ]
  },
  {
   "cell_type": "code",
   "execution_count": 83,
   "id": "59383dcb",
   "metadata": {
    "scrolled": true
   },
   "outputs": [
    {
     "data": {
      "text/plain": [
       "{16, 17, 18, 19}"
      ]
     },
     "execution_count": 83,
     "metadata": {},
     "output_type": "execute_result"
    }
   ],
   "source": [
    "set(ng_b4['Target'])"
   ]
  },
  {
   "cell_type": "code",
   "execution_count": 84,
   "id": "52743c14",
   "metadata": {},
   "outputs": [],
   "source": [
    "y_encoded = [one_hot_encoding(target-16, 4) for target in ng_b4.iloc[:,3]]"
   ]
  },
  {
   "cell_type": "code",
   "execution_count": 85,
   "id": "890e068a",
   "metadata": {},
   "outputs": [],
   "source": [
    "X, y = ng_b4['Embedding'].values, y_encoded\n",
    "\n",
    "X_train, X_val, y_train, y_val = train_test_split(X, y, test_size=0.2, random_state=23)"
   ]
  },
  {
   "cell_type": "code",
   "execution_count": 86,
   "id": "9d552746",
   "metadata": {},
   "outputs": [
    {
     "name": "stdout",
     "output_type": "stream",
     "text": [
      "Modelo con [64, 10], 80, 100\n",
      "20/20 [==============================] - 0s 3ms/step - loss: 0.7062 - accuracy: 0.7369\n",
      "20/20 [==============================] - 0s 2ms/step - loss: 0.7288 - accuracy: 0.7464\n",
      "20/20 [==============================] - 0s 3ms/step - loss: 0.7150 - accuracy: 0.7512\n",
      "20/20 [==============================] - 0s 3ms/step - loss: 0.6774 - accuracy: 0.7512\n",
      "74.64342266321182\n",
      "Modelo con [64, 10], 80, 200\n",
      "20/20 [==============================] - 0s 2ms/step - loss: 0.6955 - accuracy: 0.7480\n",
      "20/20 [==============================] - 0s 2ms/step - loss: 0.7297 - accuracy: 0.7385\n",
      "20/20 [==============================] - 0s 2ms/step - loss: 0.7159 - accuracy: 0.7607\n",
      "20/20 [==============================] - 0s 2ms/step - loss: 0.6790 - accuracy: 0.7464\n",
      "74.84152168035507\n",
      "Modelo con [64, 10], 150, 100\n",
      "20/20 [==============================] - 0s 2ms/step - loss: 0.6906 - accuracy: 0.7528\n",
      "20/20 [==============================] - 0s 2ms/step - loss: 0.7233 - accuracy: 0.7496\n",
      "20/20 [==============================] - 0s 2ms/step - loss: 0.6982 - accuracy: 0.7686\n",
      "20/20 [==============================] - 0s 2ms/step - loss: 0.6792 - accuracy: 0.7464\n",
      "75.4358172416687\n",
      "Modelo con [64, 10], 150, 200\n",
      "20/20 [==============================] - 0s 3ms/step - loss: 0.7039 - accuracy: 0.7338\n",
      "20/20 [==============================] - 0s 2ms/step - loss: 0.7330 - accuracy: 0.7512\n",
      "20/20 [==============================] - 0s 2ms/step - loss: 0.6930 - accuracy: 0.7655\n",
      "20/20 [==============================] - 0s 2ms/step - loss: 0.6768 - accuracy: 0.7417\n",
      "74.80190098285675\n",
      "Modelo con 100, 80, 100\n",
      "20/20 [==============================] - 0s 2ms/step - loss: 0.6990 - accuracy: 0.7322\n",
      "20/20 [==============================] - 0s 2ms/step - loss: 0.7410 - accuracy: 0.7433\n",
      "20/20 [==============================] - 0s 1ms/step - loss: 0.7043 - accuracy: 0.7528\n",
      "20/20 [==============================] - 0s 2ms/step - loss: 0.6819 - accuracy: 0.7417\n",
      "74.24722760915756\n",
      "Modelo con 100, 80, 200\n",
      "20/20 [==============================] - 0s 5ms/step - loss: 0.6957 - accuracy: 0.7369\n",
      "20/20 [==============================] - 0s 3ms/step - loss: 0.7472 - accuracy: 0.7369\n",
      "20/20 [==============================] - 0s 3ms/step - loss: 0.6980 - accuracy: 0.7607\n",
      "20/20 [==============================] - 0s 2ms/step - loss: 0.6792 - accuracy: 0.7464\n",
      "74.52456504106522\n",
      "Modelo con 100, 150, 100\n",
      "20/20 [==============================] - 0s 2ms/step - loss: 0.6992 - accuracy: 0.7433\n",
      "20/20 [==============================] - 0s 2ms/step - loss: 0.7397 - accuracy: 0.7496\n",
      "20/20 [==============================] - 0s 2ms/step - loss: 0.7005 - accuracy: 0.7575\n",
      "20/20 [==============================] - 0s 2ms/step - loss: 0.6772 - accuracy: 0.7480\n",
      "74.9603807926178\n",
      "Modelo con 100, 150, 200\n",
      "20/20 [==============================] - 0s 3ms/step - loss: 0.6961 - accuracy: 0.7464\n",
      "20/20 [==============================] - 0s 1ms/step - loss: 0.7326 - accuracy: 0.7401\n",
      "20/20 [==============================] - 0s 2ms/step - loss: 0.6932 - accuracy: 0.7559\n",
      "20/20 [==============================] - 0s 2ms/step - loss: 0.6821 - accuracy: 0.7528\n",
      "74.88114088773727\n",
      "Modelo con [80, 20], 80, 100\n",
      "20/20 [==============================] - 0s 4ms/step - loss: 0.6970 - accuracy: 0.7464\n",
      "20/20 [==============================] - 0s 1ms/step - loss: 0.7399 - accuracy: 0.7353\n",
      "20/20 [==============================] - 0s 2ms/step - loss: 0.7036 - accuracy: 0.7512\n",
      "20/20 [==============================] - 0s 3ms/step - loss: 0.6800 - accuracy: 0.7559\n",
      "74.72266107797623\n",
      "Modelo con [80, 20], 80, 200\n",
      "20/20 [==============================] - 0s 2ms/step - loss: 0.6844 - accuracy: 0.7496\n",
      "20/20 [==============================] - 0s 2ms/step - loss: 0.7459 - accuracy: 0.7496\n",
      "20/20 [==============================] - 0s 844us/step - loss: 0.6939 - accuracy: 0.7607\n",
      "20/20 [==============================] - 0s 2ms/step - loss: 0.6877 - accuracy: 0.7512\n",
      "75.27733743190765\n",
      "Modelo con [80, 20], 150, 100\n",
      "20/20 [==============================] - 0s 3ms/step - loss: 0.6856 - accuracy: 0.7559\n",
      "20/20 [==============================] - 0s 2ms/step - loss: 0.7345 - accuracy: 0.7512\n",
      "20/20 [==============================] - 0s 2ms/step - loss: 0.6968 - accuracy: 0.7623\n",
      "20/20 [==============================] - 0s 2ms/step - loss: 0.6843 - accuracy: 0.7480\n",
      "75.43581575155258\n",
      "Modelo con [80, 20], 150, 200\n",
      "20/20 [==============================] - 0s 2ms/step - loss: 0.6816 - accuracy: 0.7464\n",
      "20/20 [==============================] - 0s 2ms/step - loss: 0.7428 - accuracy: 0.7385\n",
      "20/20 [==============================] - 0s 2ms/step - loss: 0.7003 - accuracy: 0.7639\n",
      "20/20 [==============================] - 0s 2ms/step - loss: 0.6695 - accuracy: 0.7480\n",
      "74.9207615852356\n"
     ]
    }
   ],
   "source": [
    "hidden_units = [[64, 10], 100, [80, 20]]\n",
    "epochs=[80, 150]\n",
    "batch_sizes=[100, 200]\n",
    "\n",
    "modelo_b4, resultados = grid_search(X_train, y_train, hidden_units, epochs, batch_sizes)"
   ]
  },
  {
   "cell_type": "code",
   "execution_count": 87,
   "id": "619be7c6",
   "metadata": {},
   "outputs": [
    {
     "data": {
      "text/plain": [
       "{((64, 10), 150, 100): 0.754358172416687,\n",
       " ((80, 20), 150, 100): 0.7543581575155258,\n",
       " ((80, 20), 80, 200): 0.7527733743190765,\n",
       " (100, 150, 100): 0.749603807926178,\n",
       " ((80, 20), 150, 200): 0.749207615852356,\n",
       " (100, 150, 200): 0.7488114088773727,\n",
       " ((64, 10), 80, 200): 0.7484152168035507,\n",
       " ((64, 10), 150, 200): 0.7480190098285675,\n",
       " ((80, 20), 80, 100): 0.7472266107797623,\n",
       " ((64, 10), 80, 100): 0.7464342266321182,\n",
       " (100, 80, 200): 0.7452456504106522,\n",
       " (100, 80, 100): 0.7424722760915756}"
      ]
     },
     "execution_count": 87,
     "metadata": {},
     "output_type": "execute_result"
    }
   ],
   "source": [
    "dict(sorted(resultados.items(), key=lambda item: item[1], reverse=True))"
   ]
  },
  {
   "cell_type": "markdown",
   "id": "b23d301c",
   "metadata": {},
   "source": [
    "Nos quedamos con el modelo de 100, 150, 200"
   ]
  },
  {
   "cell_type": "code",
   "execution_count": 94,
   "id": "3c4de37e",
   "metadata": {},
   "outputs": [
    {
     "name": "stdout",
     "output_type": "stream",
     "text": [
      "79/79 [==============================] - 0s 4ms/step - loss: 0.4611 - accuracy: 0.8352\n"
     ]
    },
    {
     "data": {
      "text/plain": [
       "<keras.src.callbacks.History at 0x21811e4ee20>"
      ]
     },
     "execution_count": 94,
     "metadata": {},
     "output_type": "execute_result"
    }
   ],
   "source": [
    "X_tensor, y_tensor = np.asarray([tf.constant(arr) for arr in X_train]), np.asarray([tf.constant(arr) for arr in y_train])\n",
    "\n",
    "modelo_b4.model.fit(X_tensor, y_tensor)"
   ]
  },
  {
   "cell_type": "code",
   "execution_count": 95,
   "id": "60308014",
   "metadata": {},
   "outputs": [
    {
     "name": "stdout",
     "output_type": "stream",
     "text": [
      "20/20 [==============================] - 0s 4ms/step\n"
     ]
    }
   ],
   "source": [
    "X_val_tensor = np.asarray([tf.constant(arr) for arr in X_val])\n",
    "\n",
    "preds = modelo_b4.predecir(X_val_tensor)"
   ]
  },
  {
   "cell_type": "code",
   "execution_count": 96,
   "id": "b51095d4",
   "metadata": {},
   "outputs": [
    {
     "data": {
      "image/png": "[encoded data removed]",
      "text/plain": [
       "<Figure size 800x600 with 1 Axes>"
      ]
     },
     "metadata": {},
     "output_type": "display_data"
    },
    {
     "data": {
      "text/plain": [
       "0.7971473851030111"
      ]
     },
     "execution_count": 96,
     "metadata": {},
     "output_type": "execute_result"
    }
   ],
   "source": [
    "acc_b4 = comprobar(y_val, preds)\n",
    "acc_b4"
   ]
  },
  {
   "cell_type": "markdown",
   "id": "52aef1d7",
   "metadata": {},
   "source": [
    "## AB"
   ]
  },
  {
   "cell_type": "code",
   "execution_count": 97,
   "id": "276e39c2",
   "metadata": {
    "scrolled": true
   },
   "outputs": [
    {
     "name": "stdout",
     "output_type": "stream",
     "text": [
      "<class 'pandas.core.frame.DataFrame'>\n",
      "Int64Index: 7637 entries, 0 to 18262\n",
      "Data columns (total 5 columns):\n",
      " #   Column        Non-Null Count  Dtype \n",
      "---  ------        --------------  ----- \n",
      " 0   id_documento  7637 non-null   int64 \n",
      " 1   Grupo         7637 non-null   object\n",
      " 2   Documento     7637 non-null   object\n",
      " 3   Target        7637 non-null   int64 \n",
      " 4   Embedding     7637 non-null   object\n",
      "dtypes: int64(2), object(3)\n",
      "memory usage: 358.0+ KB\n"
     ]
    }
   ],
   "source": [
    "ng_ab = pd.concat([ng_b2, ng_b3], axis=0)\n",
    "\n",
    "ng_ab.info()"
   ]
  },
  {
   "cell_type": "code",
   "execution_count": 98,
   "id": "88a4cbd3",
   "metadata": {
    "scrolled": true
   },
   "outputs": [
    {
     "data": {
      "text/plain": [
       "{7, 8, 9, 10, 11, 12, 13, 14}"
      ]
     },
     "execution_count": 98,
     "metadata": {},
     "output_type": "execute_result"
    }
   ],
   "source": [
    "set(ng_ab['Target'])"
   ]
  },
  {
   "cell_type": "code",
   "execution_count": 99,
   "id": "d8d48546",
   "metadata": {},
   "outputs": [],
   "source": [
    "y_encoded = [one_hot_encoding(target-7, 8) for target in ng_ab.iloc[:,3]]"
   ]
  },
  {
   "cell_type": "code",
   "execution_count": 100,
   "id": "e92371ff",
   "metadata": {
    "scrolled": false
   },
   "outputs": [],
   "source": [
    "X, y = ng_ab['Embedding'].values, y_encoded\n",
    "\n",
    "X_train, X_val, y_train, y_val = train_test_split(X, y, test_size=0.2, random_state=23)"
   ]
  },
  {
   "cell_type": "code",
   "execution_count": 128,
   "id": "c79cfecd",
   "metadata": {
    "scrolled": true
   },
   "outputs": [
    {
     "name": "stdout",
     "output_type": "stream",
     "text": [
      "Modelo con [64, 10], 80, 100\n",
      "48/48 [==============================] - 0s 2ms/step - loss: 0.5678 - accuracy: 0.8325\n",
      "48/48 [==============================] - 0s 2ms/step - loss: 0.5359 - accuracy: 0.8356\n",
      "48/48 [==============================] - 0s 3ms/step - loss: 0.6403 - accuracy: 0.8166\n",
      "48/48 [==============================] - 0s 2ms/step - loss: 0.5626 - accuracy: 0.8199\n",
      "82.61571079492569\n",
      "Modelo con [64, 10], 80, 200\n",
      "48/48 [==============================] - 0s 1ms/step - loss: 0.5525 - accuracy: 0.8364\n",
      "48/48 [==============================] - 0s 1ms/step - loss: 0.5568 - accuracy: 0.8291\n",
      "48/48 [==============================] - 0s 1ms/step - loss: 0.6238 - accuracy: 0.8101\n",
      "48/48 [==============================] - 0s 2ms/step - loss: 0.5498 - accuracy: 0.8284\n",
      "82.59927481412888\n",
      "Modelo con [64, 10], 150, 100\n",
      "48/48 [==============================] - 0s 2ms/step - loss: 0.5610 - accuracy: 0.8285\n",
      "48/48 [==============================] - 0s 2ms/step - loss: 0.5647 - accuracy: 0.8389\n",
      "48/48 [==============================] - 0s 2ms/step - loss: 0.6209 - accuracy: 0.8173\n",
      "48/48 [==============================] - 0s 1ms/step - loss: 0.5610 - accuracy: 0.8258\n",
      "82.76312053203583\n",
      "Modelo con [64, 10], 150, 200\n",
      "48/48 [==============================] - 0s 1ms/step - loss: 0.5550 - accuracy: 0.8344\n",
      "48/48 [==============================] - 0s 2ms/step - loss: 0.5606 - accuracy: 0.8291\n",
      "48/48 [==============================] - 0s 2ms/step - loss: 0.6079 - accuracy: 0.8107\n",
      "48/48 [==============================] - 0s 3ms/step - loss: 0.5749 - accuracy: 0.8291\n",
      "82.5829342007637\n",
      "Modelo con 100, 80, 100\n",
      "48/48 [==============================] - 0s 3ms/step - loss: 0.5294 - accuracy: 0.8384\n",
      "48/48 [==============================] - 0s 2ms/step - loss: 0.5111 - accuracy: 0.8487\n",
      "48/48 [==============================] - 0s 2ms/step - loss: 0.6006 - accuracy: 0.8193\n",
      "48/48 [==============================] - 0s 2ms/step - loss: 0.5324 - accuracy: 0.8382\n",
      "83.61430317163467\n",
      "Modelo con 100, 80, 200\n",
      "48/48 [==============================] - 0s 2ms/step - loss: 0.5231 - accuracy: 0.8377\n",
      "48/48 [==============================] - 0s 2ms/step - loss: 0.5081 - accuracy: 0.8481\n",
      "48/48 [==============================] - 0s 1ms/step - loss: 0.5962 - accuracy: 0.8206\n",
      "48/48 [==============================] - 0s 1ms/step - loss: 0.5328 - accuracy: 0.8428\n",
      "83.72891694307327\n",
      "Modelo con 100, 150, 100\n",
      "48/48 [==============================] - 0s 2ms/step - loss: 0.5265 - accuracy: 0.8351\n",
      "48/48 [==============================] - 0s 2ms/step - loss: 0.5071 - accuracy: 0.8468\n",
      "48/48 [==============================] - 0s 2ms/step - loss: 0.5993 - accuracy: 0.8219\n",
      "48/48 [==============================] - 0s 3ms/step - loss: 0.5251 - accuracy: 0.8435\n",
      "83.67984592914581\n",
      "Modelo con 100, 150, 200\n",
      "48/48 [==============================] - 0s 2ms/step - loss: 0.5215 - accuracy: 0.8370\n",
      "48/48 [==============================] - 0s 2ms/step - loss: 0.5090 - accuracy: 0.8481\n",
      "48/48 [==============================] - 0s 2ms/step - loss: 0.5981 - accuracy: 0.8193\n",
      "48/48 [==============================] - 0s 2ms/step - loss: 0.5344 - accuracy: 0.8382\n",
      "83.56520980596542\n",
      "Modelo con [80, 20], 80, 100\n",
      "48/48 [==============================] - 0s 2ms/step - loss: 0.5260 - accuracy: 0.8325\n",
      "48/48 [==============================] - 0s 2ms/step - loss: 0.5106 - accuracy: 0.8389\n",
      "48/48 [==============================] - 0s 2ms/step - loss: 0.6199 - accuracy: 0.8173\n",
      "48/48 [==============================] - 0s 2ms/step - loss: 0.5387 - accuracy: 0.8409\n",
      "83.23784470558167\n",
      "Modelo con [80, 20], 80, 200\n",
      "48/48 [==============================] - 0s 2ms/step - loss: 0.5150 - accuracy: 0.8377\n",
      "48/48 [==============================] - 0s 3ms/step - loss: 0.5222 - accuracy: 0.8468\n",
      "48/48 [==============================] - 0s 2ms/step - loss: 0.5966 - accuracy: 0.8265\n",
      "48/48 [==============================] - 0s 2ms/step - loss: 0.5300 - accuracy: 0.8363\n",
      "83.67980122566223\n",
      "Modelo con [80, 20], 150, 100\n",
      "48/48 [==============================] - 0s 1ms/step - loss: 0.5327 - accuracy: 0.8377\n",
      "48/48 [==============================] - 0s 1ms/step - loss: 0.5264 - accuracy: 0.8448\n",
      "48/48 [==============================] - 0s 1ms/step - loss: 0.6073 - accuracy: 0.8245\n",
      "48/48 [==============================] - 0s 2ms/step - loss: 0.5326 - accuracy: 0.8382\n",
      "83.63068550825119\n",
      "Modelo con [80, 20], 150, 200\n",
      "48/48 [==============================] - 0s 2ms/step - loss: 0.5338 - accuracy: 0.8338\n",
      "48/48 [==============================] - 0s 2ms/step - loss: 0.5201 - accuracy: 0.8441\n",
      "48/48 [==============================] - 0s 2ms/step - loss: 0.6005 - accuracy: 0.8199\n",
      "48/48 [==============================] - 0s 1ms/step - loss: 0.5451 - accuracy: 0.8343\n",
      "83.30331146717072\n"
     ]
    }
   ],
   "source": [
    "hidden_units = [[64, 10], 100, [80, 20]]\n",
    "epochs=[80, 150]\n",
    "batch_sizes=[100, 200]\n",
    "\n",
    "modelo_ab, resultados = grid_search(X_train, y_train, hidden_units, epochs, batch_sizes)"
   ]
  },
  {
   "cell_type": "code",
   "execution_count": 129,
   "id": "9e851123",
   "metadata": {
    "scrolled": true
   },
   "outputs": [
    {
     "data": {
      "text/plain": [
       "{(100, 80, 200): 0.8372891694307327,\n",
       " (100, 150, 100): 0.8367984592914581,\n",
       " ((80, 20), 80, 200): 0.8367980122566223,\n",
       " ((80, 20), 150, 100): 0.8363068550825119,\n",
       " (100, 80, 100): 0.8361430317163467,\n",
       " (100, 150, 200): 0.8356520980596542,\n",
       " ((80, 20), 150, 200): 0.8330331146717072,\n",
       " ((80, 20), 80, 100): 0.8323784470558167,\n",
       " ((64, 10), 150, 100): 0.8276312053203583,\n",
       " ((64, 10), 80, 100): 0.8261571079492569,\n",
       " ((64, 10), 80, 200): 0.8259927481412888,\n",
       " ((64, 10), 150, 200): 0.825829342007637}"
      ]
     },
     "execution_count": 129,
     "metadata": {},
     "output_type": "execute_result"
    }
   ],
   "source": [
    "dict(sorted(resultados.items(), key=lambda item: item[1], reverse=True))"
   ]
  },
  {
   "cell_type": "markdown",
   "id": "f5ea6edc",
   "metadata": {},
   "source": [
    "Nos quedamos con el modelo de 100, 150, 200"
   ]
  },
  {
   "cell_type": "code",
   "execution_count": 169,
   "id": "e5ad28fb",
   "metadata": {},
   "outputs": [
    {
     "name": "stdout",
     "output_type": "stream",
     "text": [
      "191/191 [==============================] - 1s 4ms/step - loss: 0.1380 - accuracy: 0.9632\n"
     ]
    },
    {
     "data": {
      "text/plain": [
       "<keras.src.callbacks.History at 0x218094f2670>"
      ]
     },
     "execution_count": 169,
     "metadata": {},
     "output_type": "execute_result"
    }
   ],
   "source": [
    "X_tensor, y_tensor = np.asarray([tf.constant(arr) for arr in X_train]), np.asarray([tf.constant(arr) for arr in y_train])\n",
    "\n",
    "modelo_ab.model.fit(X_tensor, y_tensor)"
   ]
  },
  {
   "cell_type": "code",
   "execution_count": 170,
   "id": "bd4beb74",
   "metadata": {},
   "outputs": [
    {
     "name": "stdout",
     "output_type": "stream",
     "text": [
      "48/48 [==============================] - 0s 2ms/step\n"
     ]
    }
   ],
   "source": [
    "X_val_tensor = np.asarray([tf.constant(arr) for arr in X_val])\n",
    "\n",
    "preds = modelo_ab.predecir(X_val_tensor)"
   ]
  },
  {
   "cell_type": "code",
   "execution_count": 171,
   "id": "25f1c6ef",
   "metadata": {
    "scrolled": true
   },
   "outputs": [
    {
     "data": {
      "image/png": "[encoded data removed]",
      "text/plain": [
       "<Figure size 800x600 with 1 Axes>"
      ]
     },
     "metadata": {},
     "output_type": "display_data"
    },
    {
     "data": {
      "text/plain": [
       "0.831151832460733"
      ]
     },
     "execution_count": 171,
     "metadata": {},
     "output_type": "execute_result"
    }
   ],
   "source": [
    "acc_ab = comprobar(y_val, preds)\n",
    "acc_ab"
   ]
  },
  {
   "cell_type": "markdown",
   "id": "6d049c67",
   "metadata": {},
   "source": [
    "#### Muestra total"
   ]
  },
  {
   "cell_type": "code",
   "execution_count": 126,
   "id": "66efd8f7",
   "metadata": {
    "scrolled": true
   },
   "outputs": [
    {
     "data": {
      "text/html": [
       "<div>\n",
       "<style scoped>\n",
       "    .dataframe tbody tr th:only-of-type {\n",
       "        vertical-align: middle;\n",
       "    }\n",
       "\n",
       "    .dataframe tbody tr th {\n",
       "        vertical-align: top;\n",
       "    }\n",
       "\n",
       "    .dataframe thead th {\n",
       "        text-align: right;\n",
       "    }\n",
       "</style>\n",
       "<table border=\"1\" class=\"dataframe\">\n",
       "  <thead>\n",
       "    <tr style=\"text-align: right;\">\n",
       "      <th></th>\n",
       "      <th>id_documento</th>\n",
       "      <th>Grupo</th>\n",
       "      <th>Documento</th>\n",
       "      <th>Target</th>\n",
       "      <th>Embedding</th>\n",
       "    </tr>\n",
       "  </thead>\n",
       "  <tbody>\n",
       "    <tr>\n",
       "      <th>0</th>\n",
       "      <td>54367</td>\n",
       "      <td>rec.sport.hockey</td>\n",
       "      <td>basher pen fan pretty confused lack kind post ...</td>\n",
       "      <td>10</td>\n",
       "      <td>[-0.14216639818158, 0.091206159517169, -0.1639...</td>\n",
       "    </tr>\n",
       "    <tr>\n",
       "      <th>1</th>\n",
       "      <td>60215</td>\n",
       "      <td>comp.sys.ibm.pc.hardware</td>\n",
       "      <td>brother market high performance video card sup...</td>\n",
       "      <td>3</td>\n",
       "      <td>[-0.10741078733865704, 0.16764146474555933, 0....</td>\n",
       "    </tr>\n",
       "    <tr>\n",
       "      <th>2</th>\n",
       "      <td>76120</td>\n",
       "      <td>talk.politics.mideast</td>\n",
       "      <td>finally dream mediterranean area great year ho...</td>\n",
       "      <td>17</td>\n",
       "      <td>[-0.22868308251178482, 0.027676702670116977, 0...</td>\n",
       "    </tr>\n",
       "    <tr>\n",
       "      <th>3</th>\n",
       "      <td>60771</td>\n",
       "      <td>comp.sys.ibm.pc.hardware</td>\n",
       "      <td>scsi card dma transfer disk scsi card dma tran...</td>\n",
       "      <td>3</td>\n",
       "      <td>[0.2003467861471362, -0.015756689531148456, 0....</td>\n",
       "    </tr>\n",
       "    <tr>\n",
       "      <th>4</th>\n",
       "      <td>51882</td>\n",
       "      <td>comp.sys.mac.hardware</td>\n",
       "      <td>jasmine drive understanding upsate driver mode...</td>\n",
       "      <td>4</td>\n",
       "      <td>[0.0217188625036567, 0.13497258650679742, -0.0...</td>\n",
       "    </tr>\n",
       "  </tbody>\n",
       "</table>\n",
       "</div>"
      ],
      "text/plain": [
       "   id_documento                     Grupo  \\\n",
       "0         54367          rec.sport.hockey   \n",
       "1         60215  comp.sys.ibm.pc.hardware   \n",
       "2         76120     talk.politics.mideast   \n",
       "3         60771  comp.sys.ibm.pc.hardware   \n",
       "4         51882     comp.sys.mac.hardware   \n",
       "\n",
       "                                           Documento  Target  \\\n",
       "0  basher pen fan pretty confused lack kind post ...      10   \n",
       "1  brother market high performance video card sup...       3   \n",
       "2  finally dream mediterranean area great year ho...      17   \n",
       "3  scsi card dma transfer disk scsi card dma tran...       3   \n",
       "4  jasmine drive understanding upsate driver mode...       4   \n",
       "\n",
       "                                           Embedding  \n",
       "0  [-0.14216639818158, 0.091206159517169, -0.1639...  \n",
       "1  [-0.10741078733865704, 0.16764146474555933, 0....  \n",
       "2  [-0.22868308251178482, 0.027676702670116977, 0...  \n",
       "3  [0.2003467861471362, -0.015756689531148456, 0....  \n",
       "4  [0.0217188625036567, 0.13497258650679742, -0.0...  "
      ]
     },
     "execution_count": 126,
     "metadata": {},
     "output_type": "execute_result"
    }
   ],
   "source": [
    "ng_20 = pd.read_pickle('20newsgroups_embd_all.pkl')\n",
    "\n",
    "ng_20.head()"
   ]
  },
  {
   "cell_type": "code",
   "execution_count": 127,
   "id": "818bc25e",
   "metadata": {},
   "outputs": [],
   "source": [
    "y_encoded = [one_hot_encoding(target-1, 20) for target in ng_20.iloc[:,3]]"
   ]
  },
  {
   "cell_type": "code",
   "execution_count": 78,
   "id": "f3715dd7",
   "metadata": {
    "scrolled": false
   },
   "outputs": [],
   "source": [
    "X, y = ng_20['Embedding'].values, y_encoded\n",
    "\n",
    "X_train, X_val, y_train, y_val = train_test_split(X, y, test_size=0.2, random_state=23)"
   ]
  },
  {
   "cell_type": "code",
   "execution_count": 79,
   "id": "ca75eec7",
   "metadata": {},
   "outputs": [
    {
     "name": "stdout",
     "output_type": "stream",
     "text": [
      "Modelo con [64, 10], 80, 100\n",
      "143/143 [==============================] - 0s 1ms/step - loss: 1.1250 - accuracy: 0.6749\n",
      "143/143 [==============================] - 0s 2ms/step - loss: 1.1640 - accuracy: 0.6673\n",
      "143/143 [==============================] - 0s 2ms/step - loss: 1.1880 - accuracy: 0.6442\n",
      "143/143 [==============================] - 0s 1ms/step - loss: 1.1557 - accuracy: 0.6654\n",
      "66.29389375448227\n",
      "Modelo con [64, 10], 80, 200\n",
      "143/143 [==============================] - 0s 2ms/step - loss: 1.1417 - accuracy: 0.6727\n",
      "143/143 [==============================] - 0s 2ms/step - loss: 1.1848 - accuracy: 0.6594\n",
      "143/143 [==============================] - 0s 2ms/step - loss: 1.1982 - accuracy: 0.6479\n",
      "143/143 [==============================] - 0s 1ms/step - loss: 1.1500 - accuracy: 0.6648\n",
      "66.11854881048203\n",
      "Modelo con [64, 10], 150, 100\n",
      "143/143 [==============================] - 0s 2ms/step - loss: 1.1378 - accuracy: 0.6710\n",
      "143/143 [==============================] - 0s 2ms/step - loss: 1.1710 - accuracy: 0.6563\n",
      "143/143 [==============================] - 0s 2ms/step - loss: 1.1721 - accuracy: 0.6584\n",
      "143/143 [==============================] - 0s 1ms/step - loss: 1.1715 - accuracy: 0.6556\n",
      "66.03087484836578\n",
      "Modelo con [64, 10], 150, 200\n",
      "143/143 [==============================] - 0s 1ms/step - loss: 1.1242 - accuracy: 0.6723\n",
      "143/143 [==============================] - 0s 1ms/step - loss: 1.1688 - accuracy: 0.6589\n",
      "143/143 [==============================] - 0s 1ms/step - loss: 1.2097 - accuracy: 0.6538\n",
      "143/143 [==============================] - 0s 2ms/step - loss: 1.1820 - accuracy: 0.6496\n",
      "65.86641520261765\n",
      "Modelo con 100, 80, 100\n",
      "143/143 [==============================] - 0s 1ms/step - loss: 1.0093 - accuracy: 0.7085\n",
      "143/143 [==============================] - 0s 1ms/step - loss: 1.0613 - accuracy: 0.6964\n",
      "143/143 [==============================] - 0s 1ms/step - loss: 1.0645 - accuracy: 0.6917\n",
      "143/143 [==============================] - 0s 1ms/step - loss: 1.0546 - accuracy: 0.6917\n",
      "69.70837116241455\n",
      "Modelo con 100, 80, 200\n",
      "143/143 [==============================] - 0s 2ms/step - loss: 1.0050 - accuracy: 0.7069\n",
      "143/143 [==============================] - 0s 1ms/step - loss: 1.0607 - accuracy: 0.6982\n",
      "143/143 [==============================] - 0s 1ms/step - loss: 1.0717 - accuracy: 0.6944\n",
      "143/143 [==============================] - 0s 2ms/step - loss: 1.0502 - accuracy: 0.6911\n",
      "69.76318061351776\n",
      "Modelo con 100, 150, 100\n",
      "143/143 [==============================] - 0s 2ms/step - loss: 1.0028 - accuracy: 0.7087\n",
      "143/143 [==============================] - 0s 2ms/step - loss: 1.0598 - accuracy: 0.6977\n",
      "143/143 [==============================] - 0s 1ms/step - loss: 1.0785 - accuracy: 0.6871\n",
      "143/143 [==============================] - 0s 1ms/step - loss: 1.0515 - accuracy: 0.6900\n",
      "69.58777457475662\n",
      "Modelo con 100, 150, 200\n",
      "143/143 [==============================] - 0s 2ms/step - loss: 1.0062 - accuracy: 0.7089\n",
      "143/143 [==============================] - 0s 2ms/step - loss: 1.0613 - accuracy: 0.6925\n",
      "143/143 [==============================] - 0s 2ms/step - loss: 1.0710 - accuracy: 0.6955\n",
      "143/143 [==============================] - 0s 2ms/step - loss: 1.0501 - accuracy: 0.6909\n",
      "69.69194710254669\n",
      "Modelo con [80, 20], 80, 100\n",
      "143/143 [==============================] - 0s 1ms/step - loss: 1.0593 - accuracy: 0.6949\n",
      "143/143 [==============================] - 0s 2ms/step - loss: 1.1008 - accuracy: 0.6828\n",
      "143/143 [==============================] - 0s 1ms/step - loss: 1.1157 - accuracy: 0.6733\n",
      "143/143 [==============================] - 0s 2ms/step - loss: 1.1069 - accuracy: 0.6797\n",
      "68.26694905757904\n",
      "Modelo con [80, 20], 80, 200\n",
      "143/143 [==============================] - 0s 2ms/step - loss: 1.0440 - accuracy: 0.6990\n",
      "143/143 [==============================] - 0s 2ms/step - loss: 1.0999 - accuracy: 0.6841\n",
      "143/143 [==============================] - 0s 2ms/step - loss: 1.1340 - accuracy: 0.6656\n",
      "143/143 [==============================] - 0s 2ms/step - loss: 1.0977 - accuracy: 0.6786\n",
      "68.1847020983696\n",
      "Modelo con [80, 20], 150, 100\n",
      "143/143 [==============================] - 0s 2ms/step - loss: 1.0628 - accuracy: 0.6929\n",
      "143/143 [==============================] - 0s 2ms/step - loss: 1.0946 - accuracy: 0.6872\n",
      "143/143 [==============================] - 0s 1ms/step - loss: 1.1082 - accuracy: 0.6770\n",
      "143/143 [==============================] - 0s 1ms/step - loss: 1.0927 - accuracy: 0.6779\n",
      "68.37656199932098\n",
      "Modelo con [80, 20], 150, 200\n",
      "143/143 [==============================] - 0s 2ms/step - loss: 1.0715 - accuracy: 0.6894\n",
      "143/143 [==============================] - 0s 1ms/step - loss: 1.1000 - accuracy: 0.6854\n",
      "143/143 [==============================] - 0s 1ms/step - loss: 1.1185 - accuracy: 0.6705\n",
      "143/143 [==============================] - 0s 1ms/step - loss: 1.1115 - accuracy: 0.6711\n",
      "67.91068315505981\n"
     ]
    }
   ],
   "source": [
    "hidden_units = [[64, 10], 100, [80, 20]]\n",
    "epochs=[80, 150]\n",
    "batch_sizes=[100, 200]\n",
    "\n",
    "modelo_20, resultados = grid_search(X, y, hidden_units, epochs, batch_sizes)"
   ]
  },
  {
   "cell_type": "code",
   "execution_count": 80,
   "id": "dc88f0cb",
   "metadata": {
    "scrolled": true
   },
   "outputs": [
    {
     "data": {
      "text/plain": [
       "{(100, 80, 200): 0.6976318061351776,\n",
       " (100, 80, 100): 0.6970837116241455,\n",
       " (100, 150, 200): 0.6969194710254669,\n",
       " (100, 150, 100): 0.6958777457475662,\n",
       " ((80, 20), 150, 100): 0.6837656199932098,\n",
       " ((80, 20), 80, 100): 0.6826694905757904,\n",
       " ((80, 20), 80, 200): 0.681847020983696,\n",
       " ((80, 20), 150, 200): 0.6791068315505981,\n",
       " ((64, 10), 80, 100): 0.6629389375448227,\n",
       " ((64, 10), 80, 200): 0.6611854881048203,\n",
       " ((64, 10), 150, 100): 0.6603087484836578,\n",
       " ((64, 10), 150, 200): 0.6586641520261765}"
      ]
     },
     "execution_count": 80,
     "metadata": {},
     "output_type": "execute_result"
    }
   ],
   "source": [
    "dict(sorted(resultados.items(), key=lambda item: item[1], reverse=True))"
   ]
  },
  {
   "cell_type": "markdown",
   "id": "3f56453b",
   "metadata": {},
   "source": [
    "Nos quedamos con el modelo de 100, 150, 200"
   ]
  },
  {
   "cell_type": "code",
   "execution_count": 81,
   "id": "fae0d738",
   "metadata": {},
   "outputs": [
    {
     "name": "stdout",
     "output_type": "stream",
     "text": [
      "457/457 [==============================] - 1s 2ms/step - loss: 0.9447 - accuracy: 0.7114\n"
     ]
    },
    {
     "data": {
      "text/plain": [
       "<keras.src.callbacks.History at 0x1b4f8262df0>"
      ]
     },
     "execution_count": 81,
     "metadata": {},
     "output_type": "execute_result"
    }
   ],
   "source": [
    "X_tensor, y_tensor = np.asarray([tf.constant(arr) for arr in X_train]), np.asarray([tf.constant(arr) for arr in y_train])\n",
    "\n",
    "modelo_20.model.fit(X_tensor, y_tensor)"
   ]
  },
  {
   "cell_type": "code",
   "execution_count": 84,
   "id": "5e9392ae",
   "metadata": {},
   "outputs": [
    {
     "name": "stdout",
     "output_type": "stream",
     "text": [
      "115/115 [==============================] - 0s 2ms/step\n"
     ]
    }
   ],
   "source": [
    "X_val_tensor = np.asarray([tf.constant(arr) for arr in X_val])\n",
    "\n",
    "preds = modelo_20.predecir(X_val_tensor)"
   ]
  },
  {
   "cell_type": "code",
   "execution_count": 85,
   "id": "f352be51",
   "metadata": {
    "scrolled": true
   },
   "outputs": [
    {
     "data": {
      "image/png": "[encoded data removed]",
      "text/plain": [
       "<Figure size 800x600 with 1 Axes>"
      ]
     },
     "metadata": {},
     "output_type": "display_data"
    },
    {
     "data": {
      "text/plain": [
       "0.7010958904109589"
      ]
     },
     "execution_count": 85,
     "metadata": {},
     "output_type": "execute_result"
    }
   ],
   "source": [
    "acc_20 = comprobar(y_val, preds)\n",
    "acc_20"
   ]
  },
  {
   "cell_type": "markdown",
   "id": "f3c3e2ab",
   "metadata": {},
   "source": [
    "# Comportamiento vectorial"
   ]
  },
  {
   "cell_type": "code",
   "execution_count": 130,
   "id": "1d80029e",
   "metadata": {},
   "outputs": [
    {
     "ename": "ValueError",
     "evalue": "setting an array element with a sequence.",
     "output_type": "error",
     "traceback": [
      "\u001b[1;31m---------------------------------------------------------------------------\u001b[0m",
      "\u001b[1;31mTypeError\u001b[0m                                 Traceback (most recent call last)",
      "\u001b[1;31mTypeError\u001b[0m: only length-1 arrays can be converted to Python scalars",
      "\nThe above exception was the direct cause of the following exception:\n",
      "\u001b[1;31mValueError\u001b[0m                                Traceback (most recent call last)",
      "Cell \u001b[1;32mIn [130], line 5\u001b[0m\n\u001b[0;32m      1\u001b[0m \u001b[38;5;28;01mfrom\u001b[39;00m \u001b[38;5;21;01msklearn\u001b[39;00m \u001b[38;5;28;01mimport\u001b[39;00m svm\n\u001b[0;32m      3\u001b[0m clf \u001b[38;5;241m=\u001b[39m svm\u001b[38;5;241m.\u001b[39mSVC(kernel\u001b[38;5;241m=\u001b[39m\u001b[38;5;124m'\u001b[39m\u001b[38;5;124mlinear\u001b[39m\u001b[38;5;124m'\u001b[39m)\n\u001b[1;32m----> 5\u001b[0m \u001b[43mclf\u001b[49m\u001b[38;5;241;43m.\u001b[39;49m\u001b[43mfit\u001b[49m\u001b[43m(\u001b[49m\u001b[43mX_train\u001b[49m\u001b[43m,\u001b[49m\u001b[43m \u001b[49m\u001b[43my_train\u001b[49m\u001b[43m)\u001b[49m\n\u001b[0;32m      7\u001b[0m preds \u001b[38;5;241m=\u001b[39m clf\u001b[38;5;241m.\u001b[39mpredict(X_val)\n\u001b[0;32m      9\u001b[0m \u001b[38;5;66;03m# Evaluación del modelo\u001b[39;00m\n",
      "File \u001b[1;32mD:\\anaconda3\\lib\\site-packages\\sklearn\\svm\\_base.py:190\u001b[0m, in \u001b[0;36mBaseLibSVM.fit\u001b[1;34m(self, X, y, sample_weight)\u001b[0m\n\u001b[0;32m    188\u001b[0m     check_consistent_length(X, y)\n\u001b[0;32m    189\u001b[0m \u001b[38;5;28;01melse\u001b[39;00m:\n\u001b[1;32m--> 190\u001b[0m     X, y \u001b[38;5;241m=\u001b[39m \u001b[38;5;28;43mself\u001b[39;49m\u001b[38;5;241;43m.\u001b[39;49m\u001b[43m_validate_data\u001b[49m\u001b[43m(\u001b[49m\n\u001b[0;32m    191\u001b[0m \u001b[43m        \u001b[49m\u001b[43mX\u001b[49m\u001b[43m,\u001b[49m\n\u001b[0;32m    192\u001b[0m \u001b[43m        \u001b[49m\u001b[43my\u001b[49m\u001b[43m,\u001b[49m\n\u001b[0;32m    193\u001b[0m \u001b[43m        \u001b[49m\u001b[43mdtype\u001b[49m\u001b[38;5;241;43m=\u001b[39;49m\u001b[43mnp\u001b[49m\u001b[38;5;241;43m.\u001b[39;49m\u001b[43mfloat64\u001b[49m\u001b[43m,\u001b[49m\n\u001b[0;32m    194\u001b[0m \u001b[43m        \u001b[49m\u001b[43morder\u001b[49m\u001b[38;5;241;43m=\u001b[39;49m\u001b[38;5;124;43m\"\u001b[39;49m\u001b[38;5;124;43mC\u001b[39;49m\u001b[38;5;124;43m\"\u001b[39;49m\u001b[43m,\u001b[49m\n\u001b[0;32m    195\u001b[0m \u001b[43m        \u001b[49m\u001b[43maccept_sparse\u001b[49m\u001b[38;5;241;43m=\u001b[39;49m\u001b[38;5;124;43m\"\u001b[39;49m\u001b[38;5;124;43mcsr\u001b[39;49m\u001b[38;5;124;43m\"\u001b[39;49m\u001b[43m,\u001b[49m\n\u001b[0;32m    196\u001b[0m \u001b[43m        \u001b[49m\u001b[43maccept_large_sparse\u001b[49m\u001b[38;5;241;43m=\u001b[39;49m\u001b[38;5;28;43;01mFalse\u001b[39;49;00m\u001b[43m,\u001b[49m\n\u001b[0;32m    197\u001b[0m \u001b[43m    \u001b[49m\u001b[43m)\u001b[49m\n\u001b[0;32m    199\u001b[0m y \u001b[38;5;241m=\u001b[39m \u001b[38;5;28mself\u001b[39m\u001b[38;5;241m.\u001b[39m_validate_targets(y)\n\u001b[0;32m    201\u001b[0m sample_weight \u001b[38;5;241m=\u001b[39m np\u001b[38;5;241m.\u001b[39masarray(\n\u001b[0;32m    202\u001b[0m     [] \u001b[38;5;28;01mif\u001b[39;00m sample_weight \u001b[38;5;129;01mis\u001b[39;00m \u001b[38;5;28;01mNone\u001b[39;00m \u001b[38;5;28;01melse\u001b[39;00m sample_weight, dtype\u001b[38;5;241m=\u001b[39mnp\u001b[38;5;241m.\u001b[39mfloat64\n\u001b[0;32m    203\u001b[0m )\n",
      "File \u001b[1;32mD:\\anaconda3\\lib\\site-packages\\sklearn\\base.py:581\u001b[0m, in \u001b[0;36mBaseEstimator._validate_data\u001b[1;34m(self, X, y, reset, validate_separately, **check_params)\u001b[0m\n\u001b[0;32m    579\u001b[0m         y \u001b[38;5;241m=\u001b[39m check_array(y, \u001b[38;5;241m*\u001b[39m\u001b[38;5;241m*\u001b[39mcheck_y_params)\n\u001b[0;32m    580\u001b[0m     \u001b[38;5;28;01melse\u001b[39;00m:\n\u001b[1;32m--> 581\u001b[0m         X, y \u001b[38;5;241m=\u001b[39m check_X_y(X, y, \u001b[38;5;241m*\u001b[39m\u001b[38;5;241m*\u001b[39mcheck_params)\n\u001b[0;32m    582\u001b[0m     out \u001b[38;5;241m=\u001b[39m X, y\n\u001b[0;32m    584\u001b[0m \u001b[38;5;28;01mif\u001b[39;00m \u001b[38;5;129;01mnot\u001b[39;00m no_val_X \u001b[38;5;129;01mand\u001b[39;00m check_params\u001b[38;5;241m.\u001b[39mget(\u001b[38;5;124m\"\u001b[39m\u001b[38;5;124mensure_2d\u001b[39m\u001b[38;5;124m\"\u001b[39m, \u001b[38;5;28;01mTrue\u001b[39;00m):\n",
      "File \u001b[1;32mD:\\anaconda3\\lib\\site-packages\\sklearn\\utils\\validation.py:964\u001b[0m, in \u001b[0;36mcheck_X_y\u001b[1;34m(X, y, accept_sparse, accept_large_sparse, dtype, order, copy, force_all_finite, ensure_2d, allow_nd, multi_output, ensure_min_samples, ensure_min_features, y_numeric, estimator)\u001b[0m\n\u001b[0;32m    961\u001b[0m \u001b[38;5;28;01mif\u001b[39;00m y \u001b[38;5;129;01mis\u001b[39;00m \u001b[38;5;28;01mNone\u001b[39;00m:\n\u001b[0;32m    962\u001b[0m     \u001b[38;5;28;01mraise\u001b[39;00m \u001b[38;5;167;01mValueError\u001b[39;00m(\u001b[38;5;124m\"\u001b[39m\u001b[38;5;124my cannot be None\u001b[39m\u001b[38;5;124m\"\u001b[39m)\n\u001b[1;32m--> 964\u001b[0m X \u001b[38;5;241m=\u001b[39m \u001b[43mcheck_array\u001b[49m\u001b[43m(\u001b[49m\n\u001b[0;32m    965\u001b[0m \u001b[43m    \u001b[49m\u001b[43mX\u001b[49m\u001b[43m,\u001b[49m\n\u001b[0;32m    966\u001b[0m \u001b[43m    \u001b[49m\u001b[43maccept_sparse\u001b[49m\u001b[38;5;241;43m=\u001b[39;49m\u001b[43maccept_sparse\u001b[49m\u001b[43m,\u001b[49m\n\u001b[0;32m    967\u001b[0m \u001b[43m    \u001b[49m\u001b[43maccept_large_sparse\u001b[49m\u001b[38;5;241;43m=\u001b[39;49m\u001b[43maccept_large_sparse\u001b[49m\u001b[43m,\u001b[49m\n\u001b[0;32m    968\u001b[0m \u001b[43m    \u001b[49m\u001b[43mdtype\u001b[49m\u001b[38;5;241;43m=\u001b[39;49m\u001b[43mdtype\u001b[49m\u001b[43m,\u001b[49m\n\u001b[0;32m    969\u001b[0m \u001b[43m    \u001b[49m\u001b[43morder\u001b[49m\u001b[38;5;241;43m=\u001b[39;49m\u001b[43morder\u001b[49m\u001b[43m,\u001b[49m\n\u001b[0;32m    970\u001b[0m \u001b[43m    \u001b[49m\u001b[43mcopy\u001b[49m\u001b[38;5;241;43m=\u001b[39;49m\u001b[43mcopy\u001b[49m\u001b[43m,\u001b[49m\n\u001b[0;32m    971\u001b[0m \u001b[43m    \u001b[49m\u001b[43mforce_all_finite\u001b[49m\u001b[38;5;241;43m=\u001b[39;49m\u001b[43mforce_all_finite\u001b[49m\u001b[43m,\u001b[49m\n\u001b[0;32m    972\u001b[0m \u001b[43m    \u001b[49m\u001b[43mensure_2d\u001b[49m\u001b[38;5;241;43m=\u001b[39;49m\u001b[43mensure_2d\u001b[49m\u001b[43m,\u001b[49m\n\u001b[0;32m    973\u001b[0m \u001b[43m    \u001b[49m\u001b[43mallow_nd\u001b[49m\u001b[38;5;241;43m=\u001b[39;49m\u001b[43mallow_nd\u001b[49m\u001b[43m,\u001b[49m\n\u001b[0;32m    974\u001b[0m \u001b[43m    \u001b[49m\u001b[43mensure_min_samples\u001b[49m\u001b[38;5;241;43m=\u001b[39;49m\u001b[43mensure_min_samples\u001b[49m\u001b[43m,\u001b[49m\n\u001b[0;32m    975\u001b[0m \u001b[43m    \u001b[49m\u001b[43mensure_min_features\u001b[49m\u001b[38;5;241;43m=\u001b[39;49m\u001b[43mensure_min_features\u001b[49m\u001b[43m,\u001b[49m\n\u001b[0;32m    976\u001b[0m \u001b[43m    \u001b[49m\u001b[43mestimator\u001b[49m\u001b[38;5;241;43m=\u001b[39;49m\u001b[43mestimator\u001b[49m\u001b[43m,\u001b[49m\n\u001b[0;32m    977\u001b[0m \u001b[43m\u001b[49m\u001b[43m)\u001b[49m\n\u001b[0;32m    979\u001b[0m y \u001b[38;5;241m=\u001b[39m _check_y(y, multi_output\u001b[38;5;241m=\u001b[39mmulti_output, y_numeric\u001b[38;5;241m=\u001b[39my_numeric)\n\u001b[0;32m    981\u001b[0m check_consistent_length(X, y)\n",
      "File \u001b[1;32mD:\\anaconda3\\lib\\site-packages\\sklearn\\utils\\validation.py:746\u001b[0m, in \u001b[0;36mcheck_array\u001b[1;34m(array, accept_sparse, accept_large_sparse, dtype, order, copy, force_all_finite, ensure_2d, allow_nd, ensure_min_samples, ensure_min_features, estimator)\u001b[0m\n\u001b[0;32m    744\u001b[0m         array \u001b[38;5;241m=\u001b[39m array\u001b[38;5;241m.\u001b[39mastype(dtype, casting\u001b[38;5;241m=\u001b[39m\u001b[38;5;124m\"\u001b[39m\u001b[38;5;124munsafe\u001b[39m\u001b[38;5;124m\"\u001b[39m, copy\u001b[38;5;241m=\u001b[39m\u001b[38;5;28;01mFalse\u001b[39;00m)\n\u001b[0;32m    745\u001b[0m     \u001b[38;5;28;01melse\u001b[39;00m:\n\u001b[1;32m--> 746\u001b[0m         array \u001b[38;5;241m=\u001b[39m \u001b[43mnp\u001b[49m\u001b[38;5;241;43m.\u001b[39;49m\u001b[43masarray\u001b[49m\u001b[43m(\u001b[49m\u001b[43marray\u001b[49m\u001b[43m,\u001b[49m\u001b[43m \u001b[49m\u001b[43morder\u001b[49m\u001b[38;5;241;43m=\u001b[39;49m\u001b[43morder\u001b[49m\u001b[43m,\u001b[49m\u001b[43m \u001b[49m\u001b[43mdtype\u001b[49m\u001b[38;5;241;43m=\u001b[39;49m\u001b[43mdtype\u001b[49m\u001b[43m)\u001b[49m\n\u001b[0;32m    747\u001b[0m \u001b[38;5;28;01mexcept\u001b[39;00m ComplexWarning \u001b[38;5;28;01mas\u001b[39;00m complex_warning:\n\u001b[0;32m    748\u001b[0m     \u001b[38;5;28;01mraise\u001b[39;00m \u001b[38;5;167;01mValueError\u001b[39;00m(\n\u001b[0;32m    749\u001b[0m         \u001b[38;5;124m\"\u001b[39m\u001b[38;5;124mComplex data not supported\u001b[39m\u001b[38;5;130;01m\\n\u001b[39;00m\u001b[38;5;132;01m{}\u001b[39;00m\u001b[38;5;130;01m\\n\u001b[39;00m\u001b[38;5;124m\"\u001b[39m\u001b[38;5;241m.\u001b[39mformat(array)\n\u001b[0;32m    750\u001b[0m     ) \u001b[38;5;28;01mfrom\u001b[39;00m \u001b[38;5;21;01mcomplex_warning\u001b[39;00m\n",
      "\u001b[1;31mValueError\u001b[0m: setting an array element with a sequence."
     ]
    }
   ],
   "source": [
    "from sklearn import svm\n",
    "\n",
    "clf = svm.SVC(kernel='linear')\n",
    "\n",
    "clf.fit(X_train, y_train)\n",
    "\n",
    "preds = clf.predict(X_val)\n",
    "\n",
    "# Evaluación del modelo\n",
    "accuracy = accuracy_score(y_val, preds)\n",
    "print(\"Precisión del modelo SVM:\", accuracy)\n"
   ]
  }
 ],
 "metadata": {
  "kernelspec": {
   "display_name": "Python 3 (ipykernel)",
   "language": "python",
   "name": "python3"
  },
  "language_info": {
   "codemirror_mode": {
    "name": "ipython",
    "version": 3
   },
   "file_extension": ".py",
   "mimetype": "text/x-python",
   "name": "python",
   "nbconvert_exporter": "python",
   "pygments_lexer": "ipython3",
   "version": "3.9.15"
  }
 },
 "nbformat": 4,
 "nbformat_minor": 5
}
